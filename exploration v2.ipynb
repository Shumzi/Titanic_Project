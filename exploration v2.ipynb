{
 "cells": [
  {
   "cell_type": "code",
   "execution_count": 1,
   "outputs": [],
   "source": [
    "from sklearn.ensemble import RandomForestClassifier\n",
    "from Preprocess import Preprocessor, new_OrdinalEncoder\n",
    "from sklearn.model_selection import train_test_split, cross_validate, cross_val_score, KFold\n",
    "from sklearn.preprocessing import StandardScaler\n",
    "from sklearn.linear_model import LogisticRegression\n",
    "from sklearn.feature_selection import SelectKBest, RFECV, SelectPercentile\n",
    "from sklearn.feature_selection import chi2\n",
    "from sklearn.feature_selection import f_classif\n",
    "from sklearn.feature_selection import mutual_info_classif\n",
    "from sklearn.metrics import f1_score\n",
    "from sklearn.metrics import roc_auc_score\n",
    "from sklearn.metrics import confusion_matrix\n",
    "from sklearn.compose import ColumnTransformer\n",
    "from sklearn.preprocessing import KBinsDiscretizer\n",
    "from sklearn.preprocessing import PolynomialFeatures\n",
    "from sklearn.preprocessing import OneHotEncoder\n",
    "\n",
    "import matplotlib.pyplot as plt\n",
    "import pandas as pd\n",
    "import numpy as np\n",
    "import seaborn as sns\n",
    "import lightgbm as lgbm\n",
    "from sklearn.preprocessing import KBinsDiscretizer\n",
    "plt.rcParams.update({'text.color' : \"w\",\n",
    "                     'axes.labelcolor' : \"w\",\n",
    "                     'xtick.color' : \"w\",\n",
    "                     'ytick.color' : \"w\"})"
   ],
   "metadata": {
    "collapsed": false,
    "pycharm": {
     "name": "#%%\n"
    }
   }
  },
  {
   "cell_type": "code",
   "execution_count": 2,
   "outputs": [],
   "source": [
    "data = pd.read_csv('titanic.csv')\n",
    "train,test = train_test_split(data,test_size=0.2,random_state=42)\n",
    "X_train,y_train,X_test,y_test = train.drop('Survived',axis=1),train['Survived'],test.drop('Survived',axis=1),test['Survived']"
   ],
   "metadata": {
    "collapsed": false,
    "pycharm": {
     "name": "#%%\n"
    }
   }
  },
  {
   "cell_type": "code",
   "execution_count": 3,
   "outputs": [
    {
     "data": {
      "text/plain": "   Survived  Pclass                         Name     Sex   Age  SibSp  Parch  \\\n0         1       1         Cleaver, Miss. Alice  female  22.0      0      0   \n1         0       2       Hunt, Mr. George Henry    male  33.0      0      0   \n2         1       3  Nakid, Miss. Maria (\"Mary\")  female   1.0      0      2   \n3         0       3      Sage, Miss. Stella Anna  female   NaN      8      2   \n4         0       2  Mitchell, Mr. Henry Michael    male  70.0      0      0   \n\n       Ticket      Fare Cabin Embarked  \n0      113781  151.5500   NaN        S  \n1  SCO/W 1585   12.2750   NaN        S  \n2        2653   15.7417   NaN        C  \n3    CA. 2343   69.5500   NaN        S  \n4  C.A. 24580   10.5000   NaN        S  ",
      "text/html": "<div>\n<style scoped>\n    .dataframe tbody tr th:only-of-type {\n        vertical-align: middle;\n    }\n\n    .dataframe tbody tr th {\n        vertical-align: top;\n    }\n\n    .dataframe thead th {\n        text-align: right;\n    }\n</style>\n<table border=\"1\" class=\"dataframe\">\n  <thead>\n    <tr style=\"text-align: right;\">\n      <th></th>\n      <th>Survived</th>\n      <th>Pclass</th>\n      <th>Name</th>\n      <th>Sex</th>\n      <th>Age</th>\n      <th>SibSp</th>\n      <th>Parch</th>\n      <th>Ticket</th>\n      <th>Fare</th>\n      <th>Cabin</th>\n      <th>Embarked</th>\n    </tr>\n  </thead>\n  <tbody>\n    <tr>\n      <th>0</th>\n      <td>1</td>\n      <td>1</td>\n      <td>Cleaver, Miss. Alice</td>\n      <td>female</td>\n      <td>22.0</td>\n      <td>0</td>\n      <td>0</td>\n      <td>113781</td>\n      <td>151.5500</td>\n      <td>NaN</td>\n      <td>S</td>\n    </tr>\n    <tr>\n      <th>1</th>\n      <td>0</td>\n      <td>2</td>\n      <td>Hunt, Mr. George Henry</td>\n      <td>male</td>\n      <td>33.0</td>\n      <td>0</td>\n      <td>0</td>\n      <td>SCO/W 1585</td>\n      <td>12.2750</td>\n      <td>NaN</td>\n      <td>S</td>\n    </tr>\n    <tr>\n      <th>2</th>\n      <td>1</td>\n      <td>3</td>\n      <td>Nakid, Miss. Maria (\"Mary\")</td>\n      <td>female</td>\n      <td>1.0</td>\n      <td>0</td>\n      <td>2</td>\n      <td>2653</td>\n      <td>15.7417</td>\n      <td>NaN</td>\n      <td>C</td>\n    </tr>\n    <tr>\n      <th>3</th>\n      <td>0</td>\n      <td>3</td>\n      <td>Sage, Miss. Stella Anna</td>\n      <td>female</td>\n      <td>NaN</td>\n      <td>8</td>\n      <td>2</td>\n      <td>CA. 2343</td>\n      <td>69.5500</td>\n      <td>NaN</td>\n      <td>S</td>\n    </tr>\n    <tr>\n      <th>4</th>\n      <td>0</td>\n      <td>2</td>\n      <td>Mitchell, Mr. Henry Michael</td>\n      <td>male</td>\n      <td>70.0</td>\n      <td>0</td>\n      <td>0</td>\n      <td>C.A. 24580</td>\n      <td>10.5000</td>\n      <td>NaN</td>\n      <td>S</td>\n    </tr>\n  </tbody>\n</table>\n</div>"
     },
     "execution_count": 3,
     "metadata": {},
     "output_type": "execute_result"
    }
   ],
   "source": [
    "train.reset_index(drop=True,inplace=True)\n",
    "train.head()"
   ],
   "metadata": {
    "collapsed": false,
    "pycharm": {
     "name": "#%%\n"
    }
   }
  },
  {
   "cell_type": "code",
   "execution_count": 4,
   "outputs": [
    {
     "data": {
      "text/plain": "Pclass        int64\nName         object\nSex          object\nAge         float64\nSibSp         int64\nParch         int64\nTicket       object\nFare        float64\nCabin        object\nEmbarked     object\ndtype: object"
     },
     "execution_count": 4,
     "metadata": {},
     "output_type": "execute_result"
    }
   ],
   "source": [
    "X_train.dtypes"
   ],
   "metadata": {
    "collapsed": false,
    "pycharm": {
     "name": "#%%\n"
    }
   }
  },
  {
   "cell_type": "code",
   "execution_count": 5,
   "outputs": [
    {
     "data": {
      "text/plain": "([<matplotlib.axis.XTick at 0x15775a70be0>,\n  <matplotlib.axis.XTick at 0x15775a70bb0>,\n  <matplotlib.axis.XTick at 0x15775a65850>],\n <a list of 3 Text major ticklabel objects>)"
     },
     "execution_count": 5,
     "metadata": {},
     "output_type": "execute_result"
    },
    {
     "data": {
      "text/plain": "<Figure size 432x288 with 1 Axes>",
      "image/png": "[encoded data removed]"
     },
     "metadata": {
      "needs_background": "dark"
     },
     "output_type": "display_data"
    }
   ],
   "source": [
    "classes = pd.DataFrame(np.zeros((3,4)),columns=['Class','Child Survival Rate','Woman Survival Rate', 'Male Survival Rate'])\n",
    "for c in range(1,4):\n",
    "    kids = train[(train['Pclass']==c) & (train['Age']<18)]['Survived']\n",
    "    women = train[(train['Pclass']==c) & (train['Age']>18) & (train['Sex'] == 'female')]['Survived']\n",
    "    men = train[(train['Pclass']==c) & (train['Age']>18) & (train['Sex'] == 'male')]['Survived']\n",
    "    classes.iloc[c-1,:] = [c,kids.mean(),women.mean(),men.mean()]\n",
    "w = 0.3\n",
    "fig, ax = plt.subplots(nrows=1, ncols=1)\n",
    "ax.bar(classes.iloc[:,0]-w,classes.iloc[:,1],width=w)\n",
    "ax.bar(classes.iloc[:,0],classes.iloc[:,2],width=w)\n",
    "ax.bar(classes.iloc[:,0]+w,classes.iloc[:,3],width=w)\n",
    "plt.xlabel('pclass')\n",
    "legend = plt.legend(['children','women','men'])\n",
    "plt.setp(legend.get_texts(), color='k')\n",
    "plt.xticks([1,2,3])\n",
    "# print(w_classes)\n"
   ],
   "metadata": {
    "collapsed": false,
    "pycharm": {
     "name": "#%%\n"
    }
   }
  },
  {
   "cell_type": "code",
   "execution_count": 6,
   "outputs": [
    {
     "data": {
      "text/plain": "0                                Braund, Mr. Owen Harris\n1      Cumings, Mrs. John Bradley (Florence Briggs Th...\n2                                 Heikkinen, Miss. Laina\n3           Futrelle, Mrs. Jacques Heath (Lily May Peel)\n4                               Allen, Mr. William Henry\n                             ...                        \n885                 Rice, Mrs. William (Margaret Norton)\n886                                Montvila, Rev. Juozas\n887                         Graham, Miss. Margaret Edith\n888             Johnston, Miss. Catherine Helen \"Carrie\"\n889                                Behr, Mr. Karl Howell\nName: Name, Length: 890, dtype: object"
     },
     "execution_count": 6,
     "metadata": {},
     "output_type": "execute_result"
    }
   ],
   "source": [
    "data['Name']\n"
   ],
   "metadata": {
    "collapsed": false,
    "pycharm": {
     "name": "#%%\n"
    }
   }
  },
  {
   "cell_type": "code",
   "execution_count": 7,
   "outputs": [
    {
     "name": "stdout",
     "output_type": "stream",
     "text": [
      "cabin nan survival rate 0.2909090909090909\n",
      "age nan survival rate 0.2898550724637681\n",
      "cabin nan with age surv. rate 0.2997658079625293\n",
      "Pclass\n",
      "1    0.413793\n",
      "2    0.432836\n",
      "3    0.232558\n",
      "Name: Survived, dtype: float64\n",
      "Pclass\n",
      "1    0.635294\n",
      "2    0.462069\n",
      "3    0.236776\n",
      "Name: Survived, dtype: float64\n"
     ]
    }
   ],
   "source": [
    "print('cabin nan survival rate',train[train['Cabin'].isna()].sort_values(by='Pclass')['Survived'].mean())\n",
    "print('age nan survival rate',train[train['Age'].isna()].sort_values(by='Pclass')['Survived'].mean())\n",
    "print('cabin nan with age surv. rate',train[train['Cabin'].isna() & ~train['Age'].isna()].sort_values(by='Pclass')['Survived'].mean())\n",
    "nan_classes = train[train['Cabin'].isna()].groupby('Pclass')\n",
    "print(nan_classes['Survived'].mean())\n",
    "classes = train.groupby('Pclass')\n",
    "print(classes['Survived'].mean())"
   ],
   "metadata": {
    "collapsed": false,
    "pycharm": {
     "name": "#%%\n"
    }
   }
  },
  {
   "cell_type": "markdown",
   "source": [
    "i.e. cabin & age nan-ness is independant for the most part.\n",
    "also, looks like NaN cabin affects Pclass 1 much more than class 2&3."
   ],
   "metadata": {
    "collapsed": false,
    "pycharm": {
     "name": "#%% md\n"
    }
   }
  },
  {
   "cell_type": "code",
   "execution_count": 8,
   "outputs": [
    {
     "data": {
      "text/plain": "0.37780898876404495"
     },
     "execution_count": 8,
     "metadata": {},
     "output_type": "execute_result"
    }
   ],
   "source": [
    "train['Survived'].mean()"
   ],
   "metadata": {
    "collapsed": false,
    "pycharm": {
     "name": "#%%\n"
    }
   }
  },
  {
   "cell_type": "code",
   "execution_count": 9,
   "outputs": [],
   "source": [
    "# inhereted some other private class, doesn't even need it, so I deleted it.\n",
    "class new_OrdinalEncoder():\n",
    "    def __init__(self,cat_index='all'):\n",
    "        self.dicts={}\n",
    "        # cat_index is the categorical feature index list\n",
    "        self.cat_index=cat_index\n",
    "\n",
    "    def fit(self,df,*y):\n",
    "        if self.cat_index=='all':\n",
    "            self.cat_index=list(range(df.shape[1]))\n",
    "        for feat in self.cat_index:\n",
    "            dic=np.unique(df.iloc[:,feat])\n",
    "            dic=dict([(i,index) for index, i in enumerate(dic)])\n",
    "            self.dicts[feat]=dic\n",
    "\n",
    "    def fit_transform(self,df,*y):\n",
    "        if self.cat_index=='all':\n",
    "            self.cat_index=list(range(df.shape[1]))\n",
    "        df_output=df.copy()\n",
    "        for feat in self.cat_index:\n",
    "            dic=np.unique(df.iloc[:,feat])\n",
    "            dic=dict([(i,index) for index, i in enumerate(dic)])\n",
    "            self.dicts[feat]=dic\n",
    "            df_output.iloc[:,feat]=df.iloc[:,feat].apply(lambda x: dic[x])\n",
    "        return df_output\n",
    "\n",
    "    def transform(self,df):\n",
    "        df_output=df.copy()\n",
    "        for feat in self.cat_index:\n",
    "            dic=self.dicts[feat]\n",
    "            df_output.iloc[:,feat]=df.iloc[:,feat].apply(self.unknown_value,args=(dic,))\n",
    "        return df_output\n",
    "\n",
    "    def get_dict(self,feat):\n",
    "        return self.dicts[feat]\n",
    "\n",
    "    def unknown_value(self,value,dic): # It will set up a new interger for unknown values!\n",
    "        try:\n",
    "            return dic[value]\n",
    "        except:\n",
    "            return len(dic)"
   ],
   "metadata": {
    "collapsed": false,
    "pycharm": {
     "name": "#%%\n"
    }
   }
  },
  {
   "cell_type": "markdown",
   "source": [
    "# Feature creation"
   ],
   "metadata": {
    "collapsed": false,
    "pycharm": {
     "name": "#%% md\n"
    }
   }
  },
  {
   "cell_type": "markdown",
   "source": [
    "1,2 in OneNote - NaNs (Age & Cabin)."
   ],
   "metadata": {
    "collapsed": false,
    "pycharm": {
     "name": "#%% md\n"
    }
   }
  },
  {
   "cell_type": "code",
   "execution_count": 10,
   "outputs": [],
   "source": [
    "def get_isna(cols):\n",
    "    res = cols.isna().astype(int)\n",
    "    res.rename((lambda x: x+'_is_na'),axis=1,inplace=True)\n",
    "    # print(pd.concat([cols,res],axis=1).head())\n",
    "    return res\n",
    "train = pd.concat([train,get_isna(train[['Age','Cabin']])],axis=1)\n"
   ],
   "metadata": {
    "collapsed": false,
    "pycharm": {
     "name": "#%%\n"
    }
   }
  },
  {
   "cell_type": "markdown",
   "source": [
    "7, 8, 9 in OneNote: Ticket No title, Ticket no."
   ],
   "metadata": {
    "collapsed": false,
    "pycharm": {
     "name": "#%% md\n"
    }
   }
  },
  {
   "cell_type": "code",
   "execution_count": 11,
   "outputs": [],
   "source": [
    "import re\n",
    "\n",
    "tickets = train.Ticket.apply(lambda x: x.split()[::-1])\n",
    "train['Ticket_n'] = tickets.apply(lambda x: x[0])\n",
    "train['Ticket_pre'] = tickets.apply(lambda x: re.sub('[\\.\\\\/]','',x[1]).upper() if len(x)>1 else np.nan)"
   ],
   "metadata": {
    "collapsed": false,
    "pycharm": {
     "name": "#%%\n"
    }
   }
  },
  {
   "cell_type": "code",
   "execution_count": 12,
   "outputs": [
    {
     "name": "stdout",
     "output_type": "stream",
     "text": [
      "0.37780898876404495\n"
     ]
    },
    {
     "data": {
      "text/plain": "                     mean  count\nTicket_pre_fill                 \n-1               0.378229    542\n2                0.444444      9\nA4               0.000000      6\nA5               0.058824     17\nAS               0.000000      1\nC                0.500000      4\nCA               0.333333     33\nCASOTON          0.000000      1\nFA               0.000000      1\nFC               0.000000      1\nFCC              1.000000      2\nPC               0.659091     44\nPP               0.000000      1\nPPP              0.500000      2\nSC               1.000000      1\nSCA4             0.000000      1\nSCAH             0.000000      1\nSCOW             0.000000      1\nSCPARIS          0.500000     10\nSOC              0.000000      3\nSOP              0.000000      1\nSOPP             0.000000      1\nSOTONO2          0.000000      2\nSOTONOQ          0.181818     11\nSTONO2           0.500000      6\nSWPP             1.000000      1\nWC               0.142857      7\nWEP              0.500000      2",
      "text/html": "<div>\n<style scoped>\n    .dataframe tbody tr th:only-of-type {\n        vertical-align: middle;\n    }\n\n    .dataframe tbody tr th {\n        vertical-align: top;\n    }\n\n    .dataframe thead th {\n        text-align: right;\n    }\n</style>\n<table border=\"1\" class=\"dataframe\">\n  <thead>\n    <tr style=\"text-align: right;\">\n      <th></th>\n      <th>mean</th>\n      <th>count</th>\n    </tr>\n    <tr>\n      <th>Ticket_pre_fill</th>\n      <th></th>\n      <th></th>\n    </tr>\n  </thead>\n  <tbody>\n    <tr>\n      <th>-1</th>\n      <td>0.378229</td>\n      <td>542</td>\n    </tr>\n    <tr>\n      <th>2</th>\n      <td>0.444444</td>\n      <td>9</td>\n    </tr>\n    <tr>\n      <th>A4</th>\n      <td>0.000000</td>\n      <td>6</td>\n    </tr>\n    <tr>\n      <th>A5</th>\n      <td>0.058824</td>\n      <td>17</td>\n    </tr>\n    <tr>\n      <th>AS</th>\n      <td>0.000000</td>\n      <td>1</td>\n    </tr>\n    <tr>\n      <th>C</th>\n      <td>0.500000</td>\n      <td>4</td>\n    </tr>\n    <tr>\n      <th>CA</th>\n      <td>0.333333</td>\n      <td>33</td>\n    </tr>\n    <tr>\n      <th>CASOTON</th>\n      <td>0.000000</td>\n      <td>1</td>\n    </tr>\n    <tr>\n      <th>FA</th>\n      <td>0.000000</td>\n      <td>1</td>\n    </tr>\n    <tr>\n      <th>FC</th>\n      <td>0.000000</td>\n      <td>1</td>\n    </tr>\n    <tr>\n      <th>FCC</th>\n      <td>1.000000</td>\n      <td>2</td>\n    </tr>\n    <tr>\n      <th>PC</th>\n      <td>0.659091</td>\n      <td>44</td>\n    </tr>\n    <tr>\n      <th>PP</th>\n      <td>0.000000</td>\n      <td>1</td>\n    </tr>\n    <tr>\n      <th>PPP</th>\n      <td>0.500000</td>\n      <td>2</td>\n    </tr>\n    <tr>\n      <th>SC</th>\n      <td>1.000000</td>\n      <td>1</td>\n    </tr>\n    <tr>\n      <th>SCA4</th>\n      <td>0.000000</td>\n      <td>1</td>\n    </tr>\n    <tr>\n      <th>SCAH</th>\n      <td>0.000000</td>\n      <td>1</td>\n    </tr>\n    <tr>\n      <th>SCOW</th>\n      <td>0.000000</td>\n      <td>1</td>\n    </tr>\n    <tr>\n      <th>SCPARIS</th>\n      <td>0.500000</td>\n      <td>10</td>\n    </tr>\n    <tr>\n      <th>SOC</th>\n      <td>0.000000</td>\n      <td>3</td>\n    </tr>\n    <tr>\n      <th>SOP</th>\n      <td>0.000000</td>\n      <td>1</td>\n    </tr>\n    <tr>\n      <th>SOPP</th>\n      <td>0.000000</td>\n      <td>1</td>\n    </tr>\n    <tr>\n      <th>SOTONO2</th>\n      <td>0.000000</td>\n      <td>2</td>\n    </tr>\n    <tr>\n      <th>SOTONOQ</th>\n      <td>0.181818</td>\n      <td>11</td>\n    </tr>\n    <tr>\n      <th>STONO2</th>\n      <td>0.500000</td>\n      <td>6</td>\n    </tr>\n    <tr>\n      <th>SWPP</th>\n      <td>1.000000</td>\n      <td>1</td>\n    </tr>\n    <tr>\n      <th>WC</th>\n      <td>0.142857</td>\n      <td>7</td>\n    </tr>\n    <tr>\n      <th>WEP</th>\n      <td>0.500000</td>\n      <td>2</td>\n    </tr>\n  </tbody>\n</table>\n</div>"
     },
     "execution_count": 12,
     "metadata": {},
     "output_type": "execute_result"
    }
   ],
   "source": [
    "# print(train[['Ticket_n','Ticket_pre']])\n",
    "# print(train['Ticket_pre'].unique())\n",
    "train['Ticket_pre_fill'] = train['Ticket_pre'].fillna(value=-1)\n",
    "print(train['Survived'].mean())\n",
    "train.groupby('Ticket_pre_fill')['Survived'].agg(['mean','count'])"
   ],
   "metadata": {
    "collapsed": false,
    "pycharm": {
     "name": "#%%\n"
    }
   }
  },
  {
   "cell_type": "markdown",
   "source": [
    "3 from onenote - cabin to deck level."
   ],
   "metadata": {
    "collapsed": false,
    "pycharm": {
     "name": "#%% md\n"
    }
   }
  },
  {
   "cell_type": "code",
   "execution_count": 13,
   "outputs": [],
   "source": [
    "# train['Cabin_Deck'] =\n",
    "Cabin_Deck = train['Cabin'].dropna().str.split(pat='[\\d ]').apply(lambda x:x[0])\n",
    "train['Cabin_Deck'] = pd.DataFrame(Cabin_Deck, index = Cabin_Deck.index)"
   ],
   "metadata": {
    "collapsed": false,
    "pycharm": {
     "name": "#%%\n"
    }
   }
  },
  {
   "cell_type": "code",
   "execution_count": 14,
   "outputs": [
    {
     "data": {
      "text/plain": "5      B\n9      C\n10     C\n16     E\n17     C\n      ..\n678    D\n694    D\n705    C\n710    B\n711    D\nName: Cabin_Deck, Length: 162, dtype: object"
     },
     "execution_count": 14,
     "metadata": {},
     "output_type": "execute_result"
    }
   ],
   "source": [
    "train['Cabin_Deck'].dropna()"
   ],
   "metadata": {
    "collapsed": false,
    "pycharm": {
     "name": "#%%\n"
    }
   }
  },
  {
   "cell_type": "markdown",
   "source": [
    "4\n",
    "Sum relations\n",
    "Has_relatives\n",
    "Title"
   ],
   "metadata": {
    "collapsed": false,
    "pycharm": {
     "name": "#%% md\n"
    }
   }
  },
  {
   "cell_type": "code",
   "execution_count": 15,
   "outputs": [
    {
     "data": {
      "text/plain": "     Relatives  Has_Relatives  Title\n0            0              0  Miss.\n1            0              0    Mr.\n2            2              1  Miss.\n3           10              1  Miss.\n4            0              0    Mr.\n..         ...            ...    ...\n707          0              0  Miss.\n708          0              0    Mr.\n709          2              1    Mr.\n710          3              1  Miss.\n711          1              1    Mr.\n\n[712 rows x 3 columns]",
      "text/html": "<div>\n<style scoped>\n    .dataframe tbody tr th:only-of-type {\n        vertical-align: middle;\n    }\n\n    .dataframe tbody tr th {\n        vertical-align: top;\n    }\n\n    .dataframe thead th {\n        text-align: right;\n    }\n</style>\n<table border=\"1\" class=\"dataframe\">\n  <thead>\n    <tr style=\"text-align: right;\">\n      <th></th>\n      <th>Relatives</th>\n      <th>Has_Relatives</th>\n      <th>Title</th>\n    </tr>\n  </thead>\n  <tbody>\n    <tr>\n      <th>0</th>\n      <td>0</td>\n      <td>0</td>\n      <td>Miss.</td>\n    </tr>\n    <tr>\n      <th>1</th>\n      <td>0</td>\n      <td>0</td>\n      <td>Mr.</td>\n    </tr>\n    <tr>\n      <th>2</th>\n      <td>2</td>\n      <td>1</td>\n      <td>Miss.</td>\n    </tr>\n    <tr>\n      <th>3</th>\n      <td>10</td>\n      <td>1</td>\n      <td>Miss.</td>\n    </tr>\n    <tr>\n      <th>4</th>\n      <td>0</td>\n      <td>0</td>\n      <td>Mr.</td>\n    </tr>\n    <tr>\n      <th>...</th>\n      <td>...</td>\n      <td>...</td>\n      <td>...</td>\n    </tr>\n    <tr>\n      <th>707</th>\n      <td>0</td>\n      <td>0</td>\n      <td>Miss.</td>\n    </tr>\n    <tr>\n      <th>708</th>\n      <td>0</td>\n      <td>0</td>\n      <td>Mr.</td>\n    </tr>\n    <tr>\n      <th>709</th>\n      <td>2</td>\n      <td>1</td>\n      <td>Mr.</td>\n    </tr>\n    <tr>\n      <th>710</th>\n      <td>3</td>\n      <td>1</td>\n      <td>Miss.</td>\n    </tr>\n    <tr>\n      <th>711</th>\n      <td>1</td>\n      <td>1</td>\n      <td>Mr.</td>\n    </tr>\n  </tbody>\n</table>\n<p>712 rows × 3 columns</p>\n</div>"
     },
     "execution_count": 15,
     "metadata": {},
     "output_type": "execute_result"
    }
   ],
   "source": [
    "train['Relatives'] = train['Parch'] + train['SibSp']\n",
    "train['Has_Relatives'] = (train['Relatives'] != 0).astype(int)\n",
    "train['Title'] = train['Name'].apply(lambda x: x.split(',')[1].split()[0])\n",
    "train.iloc[:,-3:]\n",
    "# train.groupby('Pclass').Fare.agg(['std','mean'])\n"
   ],
   "metadata": {
    "collapsed": false,
    "pycharm": {
     "name": "#%%\n"
    }
   }
  },
  {
   "cell_type": "code",
   "execution_count": 16,
   "outputs": [
    {
     "name": "stdout",
     "output_type": "stream",
     "text": [
      "Title\n",
      "Dr.        0.428571\n",
      "Master.    0.515152\n",
      "Miss.      0.657143\n",
      "Mr.        0.164286\n",
      "Mrs.       0.814433\n",
      "Name: Survived, dtype: float64\n",
      "Sex\n",
      "female    0.722689\n",
      "male      0.191721\n",
      "Name: Survived, dtype: float64\n",
      "Sex\n",
      "female    0.729508\n",
      "male      0.194444\n",
      "Name: Survived, dtype: float64\n"
     ]
    }
   ],
   "source": [
    "freq_initials = train['Title'].value_counts()\n",
    "freq_initials = freq_initials[freq_initials>4].index\n",
    "print(train.loc[train['Title'].isin(freq_initials)].groupby('Title')['Survived'].mean())\n",
    "print(train.loc[train['Title'].isin(freq_initials)].groupby('Sex')['Survived'].mean())\n",
    "print(train.groupby('Sex')['Survived'].mean())"
   ],
   "metadata": {
    "collapsed": false,
    "pycharm": {
     "name": "#%%\n"
    }
   }
  },
  {
   "cell_type": "markdown",
   "source": [
    "make deck levels and titles ordinal for testing"
   ],
   "metadata": {
    "collapsed": false,
    "pycharm": {
     "name": "#%% md\n"
    }
   }
  },
  {
   "cell_type": "code",
   "execution_count": 17,
   "outputs": [],
   "source": [
    "enc = new_OrdinalEncoder()\n",
    "train['Cabin_Deck_Ord'] = enc.fit_transform(train['Cabin_Deck'].fillna('nan').to_frame())\n",
    "train['Title_Ord'] = enc.fit_transform(train['Title'].to_frame())\n",
    "train['Sex_Binary'] = (train['Sex']=='male').astype(int)"
   ],
   "metadata": {
    "collapsed": false,
    "pycharm": {
     "name": "#%%\n"
    }
   }
  },
  {
   "cell_type": "code",
   "execution_count": 18,
   "outputs": [
    {
     "data": {
      "text/plain": "   Survived  Pclass                         Name     Sex   Age  SibSp  Parch  \\\n0         1       1         Cleaver, Miss. Alice  female  22.0      0      0   \n1         0       2       Hunt, Mr. George Henry    male  33.0      0      0   \n2         1       3  Nakid, Miss. Maria (\"Mary\")  female   1.0      0      2   \n3         0       3      Sage, Miss. Stella Anna  female   NaN      8      2   \n4         0       2  Mitchell, Mr. Henry Michael    male  70.0      0      0   \n\n       Ticket      Fare Cabin  ... Ticket_n  Ticket_pre  Ticket_pre_fill  \\\n0      113781  151.5500   NaN  ...   113781         NaN               -1   \n1  SCO/W 1585   12.2750   NaN  ...     1585        SCOW             SCOW   \n2        2653   15.7417   NaN  ...     2653         NaN               -1   \n3    CA. 2343   69.5500   NaN  ...     2343          CA               CA   \n4  C.A. 24580   10.5000   NaN  ...    24580          CA               CA   \n\n  Cabin_Deck Relatives Has_Relatives  Title  Cabin_Deck_Ord  Title_Ord  \\\n0        NaN         0             0  Miss.               8          6   \n1        NaN         0             0    Mr.               8          9   \n2        NaN         2             1  Miss.               8          6   \n3        NaN        10             1  Miss.               8          6   \n4        NaN         0             0    Mr.               8          9   \n\n  Sex_Binary  \n0          0  \n1          1  \n2          0  \n3          0  \n4          1  \n\n[5 rows x 23 columns]",
      "text/html": "<div>\n<style scoped>\n    .dataframe tbody tr th:only-of-type {\n        vertical-align: middle;\n    }\n\n    .dataframe tbody tr th {\n        vertical-align: top;\n    }\n\n    .dataframe thead th {\n        text-align: right;\n    }\n</style>\n<table border=\"1\" class=\"dataframe\">\n  <thead>\n    <tr style=\"text-align: right;\">\n      <th></th>\n      <th>Survived</th>\n      <th>Pclass</th>\n      <th>Name</th>\n      <th>Sex</th>\n      <th>Age</th>\n      <th>SibSp</th>\n      <th>Parch</th>\n      <th>Ticket</th>\n      <th>Fare</th>\n      <th>Cabin</th>\n      <th>...</th>\n      <th>Ticket_n</th>\n      <th>Ticket_pre</th>\n      <th>Ticket_pre_fill</th>\n      <th>Cabin_Deck</th>\n      <th>Relatives</th>\n      <th>Has_Relatives</th>\n      <th>Title</th>\n      <th>Cabin_Deck_Ord</th>\n      <th>Title_Ord</th>\n      <th>Sex_Binary</th>\n    </tr>\n  </thead>\n  <tbody>\n    <tr>\n      <th>0</th>\n      <td>1</td>\n      <td>1</td>\n      <td>Cleaver, Miss. Alice</td>\n      <td>female</td>\n      <td>22.0</td>\n      <td>0</td>\n      <td>0</td>\n      <td>113781</td>\n      <td>151.5500</td>\n      <td>NaN</td>\n      <td>...</td>\n      <td>113781</td>\n      <td>NaN</td>\n      <td>-1</td>\n      <td>NaN</td>\n      <td>0</td>\n      <td>0</td>\n      <td>Miss.</td>\n      <td>8</td>\n      <td>6</td>\n      <td>0</td>\n    </tr>\n    <tr>\n      <th>1</th>\n      <td>0</td>\n      <td>2</td>\n      <td>Hunt, Mr. George Henry</td>\n      <td>male</td>\n      <td>33.0</td>\n      <td>0</td>\n      <td>0</td>\n      <td>SCO/W 1585</td>\n      <td>12.2750</td>\n      <td>NaN</td>\n      <td>...</td>\n      <td>1585</td>\n      <td>SCOW</td>\n      <td>SCOW</td>\n      <td>NaN</td>\n      <td>0</td>\n      <td>0</td>\n      <td>Mr.</td>\n      <td>8</td>\n      <td>9</td>\n      <td>1</td>\n    </tr>\n    <tr>\n      <th>2</th>\n      <td>1</td>\n      <td>3</td>\n      <td>Nakid, Miss. Maria (\"Mary\")</td>\n      <td>female</td>\n      <td>1.0</td>\n      <td>0</td>\n      <td>2</td>\n      <td>2653</td>\n      <td>15.7417</td>\n      <td>NaN</td>\n      <td>...</td>\n      <td>2653</td>\n      <td>NaN</td>\n      <td>-1</td>\n      <td>NaN</td>\n      <td>2</td>\n      <td>1</td>\n      <td>Miss.</td>\n      <td>8</td>\n      <td>6</td>\n      <td>0</td>\n    </tr>\n    <tr>\n      <th>3</th>\n      <td>0</td>\n      <td>3</td>\n      <td>Sage, Miss. Stella Anna</td>\n      <td>female</td>\n      <td>NaN</td>\n      <td>8</td>\n      <td>2</td>\n      <td>CA. 2343</td>\n      <td>69.5500</td>\n      <td>NaN</td>\n      <td>...</td>\n      <td>2343</td>\n      <td>CA</td>\n      <td>CA</td>\n      <td>NaN</td>\n      <td>10</td>\n      <td>1</td>\n      <td>Miss.</td>\n      <td>8</td>\n      <td>6</td>\n      <td>0</td>\n    </tr>\n    <tr>\n      <th>4</th>\n      <td>0</td>\n      <td>2</td>\n      <td>Mitchell, Mr. Henry Michael</td>\n      <td>male</td>\n      <td>70.0</td>\n      <td>0</td>\n      <td>0</td>\n      <td>C.A. 24580</td>\n      <td>10.5000</td>\n      <td>NaN</td>\n      <td>...</td>\n      <td>24580</td>\n      <td>CA</td>\n      <td>CA</td>\n      <td>NaN</td>\n      <td>0</td>\n      <td>0</td>\n      <td>Mr.</td>\n      <td>8</td>\n      <td>9</td>\n      <td>1</td>\n    </tr>\n  </tbody>\n</table>\n<p>5 rows × 23 columns</p>\n</div>"
     },
     "execution_count": 18,
     "metadata": {},
     "output_type": "execute_result"
    }
   ],
   "source": [
    "train.head()\n"
   ],
   "metadata": {
    "collapsed": false,
    "pycharm": {
     "name": "#%%\n"
    }
   }
  },
  {
   "cell_type": "markdown",
   "source": [
    "Age Impute - find correlating features then impute accordingly."
   ],
   "metadata": {
    "collapsed": false
   }
  },
  {
   "cell_type": "code",
   "execution_count": 19,
   "outputs": [],
   "source": [
    "class Test_Recorder():\n",
    "    '''\n",
    "    Keep track of tests on a category.\n",
    "    initialize with the column you want to keep track of,\n",
    "    then add tests as you please.\n",
    "    '''\n",
    "    def __init__(self,col,is_numeric = True):\n",
    "        '''\n",
    "        set numeric column as the column to be tested.\n",
    "        :param numeric:\n",
    "        '''\n",
    "        self.is_numeric = is_numeric\n",
    "        self.col_class = np.atleast_2d(col).T\n",
    "        self.res = pd.DataFrame([],columns=['col','f/z_score','p_score'])\n",
    "        self.name = col.name\n",
    "    def add_test(self,cat):\n",
    "        if self.is_numeric:\n",
    "            new_test = f_classif(self.col_class,cat)\n",
    "        else:\n",
    "            new_test = chi2(cat,self.col_class)\n",
    "        new_test = pd.Series([cat.name,new_test[0],new_test[1]],index=self.res.columns)\n",
    "        self.res = self.res.append(new_test,ignore_index=True)"
   ],
   "metadata": {
    "collapsed": false,
    "pycharm": {
     "name": "#%%\n"
    }
   }
  },
  {
   "cell_type": "code",
   "execution_count": 20,
   "outputs": [
    {
     "data": {
      "text/plain": "              col             f/z_score                   p_score\n0   Has_Relatives  [26.745248987613945]  [3.2149883949199796e-07]\n1       Relatives  [10.927392067535918]   [5.661507719865244e-13]\n2  Cabin_Deck_Ord   [9.399325842536864]   [3.156570812842826e-12]\n3       Title_Ord   [16.47219423915224]   [5.542444396406927e-34]\n4          Pclass   [50.42752986371018]   [6.798722856645605e-21]\n5      Sex_Binary  [3.0837654500517457]     [0.07961240512371791]",
      "text/html": "<div>\n<style scoped>\n    .dataframe tbody tr th:only-of-type {\n        vertical-align: middle;\n    }\n\n    .dataframe tbody tr th {\n        vertical-align: top;\n    }\n\n    .dataframe thead th {\n        text-align: right;\n    }\n</style>\n<table border=\"1\" class=\"dataframe\">\n  <thead>\n    <tr style=\"text-align: right;\">\n      <th></th>\n      <th>col</th>\n      <th>f/z_score</th>\n      <th>p_score</th>\n    </tr>\n  </thead>\n  <tbody>\n    <tr>\n      <th>0</th>\n      <td>Has_Relatives</td>\n      <td>[26.745248987613945]</td>\n      <td>[3.2149883949199796e-07]</td>\n    </tr>\n    <tr>\n      <th>1</th>\n      <td>Relatives</td>\n      <td>[10.927392067535918]</td>\n      <td>[5.661507719865244e-13]</td>\n    </tr>\n    <tr>\n      <th>2</th>\n      <td>Cabin_Deck_Ord</td>\n      <td>[9.399325842536864]</td>\n      <td>[3.156570812842826e-12]</td>\n    </tr>\n    <tr>\n      <th>3</th>\n      <td>Title_Ord</td>\n      <td>[16.47219423915224]</td>\n      <td>[5.542444396406927e-34]</td>\n    </tr>\n    <tr>\n      <th>4</th>\n      <td>Pclass</td>\n      <td>[50.42752986371018]</td>\n      <td>[6.798722856645605e-21]</td>\n    </tr>\n    <tr>\n      <th>5</th>\n      <td>Sex_Binary</td>\n      <td>[3.0837654500517457]</td>\n      <td>[0.07961240512371791]</td>\n    </tr>\n  </tbody>\n</table>\n</div>"
     },
     "execution_count": 20,
     "metadata": {},
     "output_type": "execute_result"
    }
   ],
   "source": [
    "train_age_nanless = train.loc[train['Age'].dropna().index]\n",
    "age_record = Test_Recorder(train_age_nanless['Age'])\n",
    "age_record.add_test(train_age_nanless['Has_Relatives'])\n",
    "age_record.add_test(train_age_nanless['Relatives'])\n",
    "age_record.add_test(train_age_nanless['Cabin_Deck_Ord'])\n",
    "age_record.add_test(train_age_nanless['Title_Ord'])\n",
    "age_record.add_test(train_age_nanless['Pclass'])\n",
    "age_record.add_test(train_age_nanless['Sex_Binary'])\n",
    "age_record.res"
   ],
   "metadata": {
    "collapsed": false,
    "pycharm": {
     "name": "#%%\n"
    }
   }
  },
  {
   "cell_type": "code",
   "execution_count": 21,
   "outputs": [
    {
     "name": "stdout",
     "output_type": "stream",
     "text": [
      "         col             f/z_score                  p_score\n",
      "0  Title_Ord  [52.086257741372734]  [3.027118987300592e-37]\n"
     ]
    }
   ],
   "source": [
    "# just checking that title makes sense without the outliers\n",
    "# (bc some titles have less than 5 samples in them).\n",
    "titles = train_age_nanless['Title_Ord'].value_counts().index[:5]\n",
    "titles = train_age_nanless[train_age_nanless['Title_Ord'].isin(titles)]\n",
    "title_track = Test_Recorder(titles['Age'])\n",
    "title_track.add_test(titles['Title_Ord'])\n",
    "print(title_track.res)"
   ],
   "metadata": {
    "collapsed": false,
    "pycharm": {
     "name": "#%%\n"
    }
   }
  },
  {
   "cell_type": "markdown",
   "source": [
    "summary - Title_Ord and Pclass are most representative. good enough.\n",
    "don't have time for more right now. so we'll impute accordingly.\n",
    "maybe even just do by title only, and by comb of both. test both also."
   ],
   "metadata": {
    "collapsed": false,
    "pycharm": {
     "name": "#%% md\n"
    }
   }
  },
  {
   "cell_type": "code",
   "execution_count": 22,
   "outputs": [
    {
     "name": "stdout",
     "output_type": "stream",
     "text": [
      "Title\n",
      "Col.         56.000000\n",
      "Dr.          42.000000\n",
      "Jonkheer.    38.000000\n",
      "Lady.        48.000000\n",
      "Major.       48.500000\n",
      "Master.       4.850000\n",
      "Miss.        22.151786\n",
      "Mlle.        24.000000\n",
      "Mme.         24.000000\n",
      "Mr.          32.024465\n",
      "Mrs.         35.666667\n",
      "Ms.          28.000000\n",
      "Rev.         43.500000\n",
      "Sir.         49.000000\n",
      "the          33.000000\n",
      "Name: Age, dtype: float64 ['Miss.' 'Mr.' 'Mrs.' 'Master.' 'Dr.']\n",
      "Title      Pclass\n",
      "Col.       1         56.000000\n",
      "Dr.        1         43.750000\n",
      "           2         38.500000\n",
      "Jonkheer.  1         38.000000\n",
      "Lady.      1         48.000000\n",
      "Major.     1         48.500000\n",
      "Master.    1         11.000000\n",
      "           2          2.437500\n",
      "           3          5.476190\n",
      "Miss.      1         30.228571\n",
      "           2         24.021739\n",
      "           3         16.120370\n",
      "Mlle.      1         24.000000\n",
      "Mme.       1         24.000000\n",
      "Mr.        1         41.021429\n",
      "           2         32.194030\n",
      "           3         28.650000\n",
      "Mrs.       1         40.965517\n",
      "           2         33.033333\n",
      "           3         32.680000\n",
      "Ms.        2         28.000000\n",
      "Rev.       2         43.500000\n",
      "Sir.       1         49.000000\n",
      "the        1         33.000000\n",
      "Name: Age, dtype: float64\n"
     ]
    },
    {
     "data": {
      "text/plain": "      Age  Age_is_na  Age_Title_Impute  Age_Title_Pclass_Impute\n0    22.0          0         22.000000                22.000000\n1    33.0          0         33.000000                33.000000\n2     1.0          0          1.000000                 1.000000\n3     NaN          1         22.151786                16.120370\n4    70.0          0         70.000000                70.000000\n..    ...        ...               ...                      ...\n707  21.0          0         21.000000                21.000000\n708   NaN          1         32.024465                41.021429\n709  41.0          0         41.000000                41.000000\n710  14.0          0         14.000000                14.000000\n711  21.0          0         21.000000                21.000000\n\n[712 rows x 4 columns]",
      "text/html": "<div>\n<style scoped>\n    .dataframe tbody tr th:only-of-type {\n        vertical-align: middle;\n    }\n\n    .dataframe tbody tr th {\n        vertical-align: top;\n    }\n\n    .dataframe thead th {\n        text-align: right;\n    }\n</style>\n<table border=\"1\" class=\"dataframe\">\n  <thead>\n    <tr style=\"text-align: right;\">\n      <th></th>\n      <th>Age</th>\n      <th>Age_is_na</th>\n      <th>Age_Title_Impute</th>\n      <th>Age_Title_Pclass_Impute</th>\n    </tr>\n  </thead>\n  <tbody>\n    <tr>\n      <th>0</th>\n      <td>22.0</td>\n      <td>0</td>\n      <td>22.000000</td>\n      <td>22.000000</td>\n    </tr>\n    <tr>\n      <th>1</th>\n      <td>33.0</td>\n      <td>0</td>\n      <td>33.000000</td>\n      <td>33.000000</td>\n    </tr>\n    <tr>\n      <th>2</th>\n      <td>1.0</td>\n      <td>0</td>\n      <td>1.000000</td>\n      <td>1.000000</td>\n    </tr>\n    <tr>\n      <th>3</th>\n      <td>NaN</td>\n      <td>1</td>\n      <td>22.151786</td>\n      <td>16.120370</td>\n    </tr>\n    <tr>\n      <th>4</th>\n      <td>70.0</td>\n      <td>0</td>\n      <td>70.000000</td>\n      <td>70.000000</td>\n    </tr>\n    <tr>\n      <th>...</th>\n      <td>...</td>\n      <td>...</td>\n      <td>...</td>\n      <td>...</td>\n    </tr>\n    <tr>\n      <th>707</th>\n      <td>21.0</td>\n      <td>0</td>\n      <td>21.000000</td>\n      <td>21.000000</td>\n    </tr>\n    <tr>\n      <th>708</th>\n      <td>NaN</td>\n      <td>1</td>\n      <td>32.024465</td>\n      <td>41.021429</td>\n    </tr>\n    <tr>\n      <th>709</th>\n      <td>41.0</td>\n      <td>0</td>\n      <td>41.000000</td>\n      <td>41.000000</td>\n    </tr>\n    <tr>\n      <th>710</th>\n      <td>14.0</td>\n      <td>0</td>\n      <td>14.000000</td>\n      <td>14.000000</td>\n    </tr>\n    <tr>\n      <th>711</th>\n      <td>21.0</td>\n      <td>0</td>\n      <td>21.000000</td>\n      <td>21.000000</td>\n    </tr>\n  </tbody>\n</table>\n<p>712 rows × 4 columns</p>\n</div>"
     },
     "execution_count": 22,
     "metadata": {},
     "output_type": "execute_result"
    }
   ],
   "source": [
    "title_ages = train_age_nanless.groupby('Title')['Age'].mean()\n",
    "title_pclass_ages = train_age_nanless.groupby(['Title','Pclass'])['Age'].mean()\n",
    "print(title_ages,titles['Title'].unique())\n",
    "print(title_pclass_ages)\n",
    "train['Age_Title_Impute'] = train.apply(lambda x : title_ages[x['Title']] if np.isnan(x['Age']) else x['Age'],axis=1)\n",
    "train['Age_Title_Pclass_Impute'] = train.apply(lambda x : title_pclass_ages[x['Title'],x['Pclass']] if np.isnan(x['Age']) else x['Age'],axis=1)\n",
    "cols = [col for col in train.columns if col.startswith('Age')]\n",
    "train[cols]"
   ],
   "metadata": {
    "collapsed": false,
    "pycharm": {
     "name": "#%%\n"
    }
   }
  },
  {
   "cell_type": "markdown",
   "source": [
    "Cumulative cabin deck - if deck level was up to x or down to x."
   ],
   "metadata": {
    "collapsed": false,
    "pycharm": {
     "name": "#%% md\n"
    }
   }
  },
  {
   "cell_type": "code",
   "execution_count": 23,
   "outputs": [],
   "source": [
    "for i in range(7):\n",
    "    top_down = 'Cabin_Deck_down_to_' + str(i+1)\n",
    "    bottom_up = 'Cabin_Deck_up_to_' + str(i)\n",
    "    train[top_down] = train['Cabin_Deck_Ord'].apply(lambda x: 1 if x<=i and x!=8 else 0)\n",
    "    train[bottom_up] = train['Cabin_Deck_Ord'].apply(lambda x: 1 if x>=i and x!=8 else 0)"
   ],
   "metadata": {
    "collapsed": false,
    "pycharm": {
     "name": "#%%\n"
    }
   }
  },
  {
   "cell_type": "code",
   "execution_count": 24,
   "outputs": [
    {
     "data": {
      "text/plain": "    Survived  Pclass                                              Name  \\\n5          0       1                          Baxter, Mr. Quigg Edmond   \n9          1       1                                 Woolner, Mr. Hugh   \n10         1       1                            Minahan, Miss. Daisy E   \n16         1       1                       Harder, Mr. George Achilles   \n17         1       1  Mayne, Mlle. Berthe Antonine (\"Mrs de Villiers\")   \n\n       Sex   Age  SibSp  Parch    Ticket      Fare    Cabin  ...  \\\n5     male  24.0      0      1  PC 17558  247.5208  B58 B60  ...   \n9     male   NaN      0      0     19947   35.5000      C52  ...   \n10  female  33.0      1      0     19928   90.0000      C78  ...   \n16    male  25.0      1      0     11765   55.4417      E50  ...   \n17  female  24.0      0      0  PC 17482   49.5042      C90  ...   \n\n   Cabin_Deck_down_to_3  Cabin_Deck_up_to_2  Cabin_Deck_down_to_4  \\\n5                     1                   0                     1   \n9                     1                   1                     1   \n10                    1                   1                     1   \n16                    0                   1                     0   \n17                    1                   1                     1   \n\n   Cabin_Deck_up_to_3 Cabin_Deck_down_to_5 Cabin_Deck_up_to_4  \\\n5                   0                    1                  0   \n9                   0                    1                  0   \n10                  0                    1                  0   \n16                  1                    1                  1   \n17                  0                    1                  0   \n\n   Cabin_Deck_down_to_6  Cabin_Deck_up_to_5  Cabin_Deck_down_to_7  \\\n5                     1                   0                     1   \n9                     1                   0                     1   \n10                    1                   0                     1   \n16                    1                   0                     1   \n17                    1                   0                     1   \n\n   Cabin_Deck_up_to_6  \n5                   0  \n9                   0  \n10                  0  \n16                  0  \n17                  0  \n\n[5 rows x 39 columns]",
      "text/html": "<div>\n<style scoped>\n    .dataframe tbody tr th:only-of-type {\n        vertical-align: middle;\n    }\n\n    .dataframe tbody tr th {\n        vertical-align: top;\n    }\n\n    .dataframe thead th {\n        text-align: right;\n    }\n</style>\n<table border=\"1\" class=\"dataframe\">\n  <thead>\n    <tr style=\"text-align: right;\">\n      <th></th>\n      <th>Survived</th>\n      <th>Pclass</th>\n      <th>Name</th>\n      <th>Sex</th>\n      <th>Age</th>\n      <th>SibSp</th>\n      <th>Parch</th>\n      <th>Ticket</th>\n      <th>Fare</th>\n      <th>Cabin</th>\n      <th>...</th>\n      <th>Cabin_Deck_down_to_3</th>\n      <th>Cabin_Deck_up_to_2</th>\n      <th>Cabin_Deck_down_to_4</th>\n      <th>Cabin_Deck_up_to_3</th>\n      <th>Cabin_Deck_down_to_5</th>\n      <th>Cabin_Deck_up_to_4</th>\n      <th>Cabin_Deck_down_to_6</th>\n      <th>Cabin_Deck_up_to_5</th>\n      <th>Cabin_Deck_down_to_7</th>\n      <th>Cabin_Deck_up_to_6</th>\n    </tr>\n  </thead>\n  <tbody>\n    <tr>\n      <th>5</th>\n      <td>0</td>\n      <td>1</td>\n      <td>Baxter, Mr. Quigg Edmond</td>\n      <td>male</td>\n      <td>24.0</td>\n      <td>0</td>\n      <td>1</td>\n      <td>PC 17558</td>\n      <td>247.5208</td>\n      <td>B58 B60</td>\n      <td>...</td>\n      <td>1</td>\n      <td>0</td>\n      <td>1</td>\n      <td>0</td>\n      <td>1</td>\n      <td>0</td>\n      <td>1</td>\n      <td>0</td>\n      <td>1</td>\n      <td>0</td>\n    </tr>\n    <tr>\n      <th>9</th>\n      <td>1</td>\n      <td>1</td>\n      <td>Woolner, Mr. Hugh</td>\n      <td>male</td>\n      <td>NaN</td>\n      <td>0</td>\n      <td>0</td>\n      <td>19947</td>\n      <td>35.5000</td>\n      <td>C52</td>\n      <td>...</td>\n      <td>1</td>\n      <td>1</td>\n      <td>1</td>\n      <td>0</td>\n      <td>1</td>\n      <td>0</td>\n      <td>1</td>\n      <td>0</td>\n      <td>1</td>\n      <td>0</td>\n    </tr>\n    <tr>\n      <th>10</th>\n      <td>1</td>\n      <td>1</td>\n      <td>Minahan, Miss. Daisy E</td>\n      <td>female</td>\n      <td>33.0</td>\n      <td>1</td>\n      <td>0</td>\n      <td>19928</td>\n      <td>90.0000</td>\n      <td>C78</td>\n      <td>...</td>\n      <td>1</td>\n      <td>1</td>\n      <td>1</td>\n      <td>0</td>\n      <td>1</td>\n      <td>0</td>\n      <td>1</td>\n      <td>0</td>\n      <td>1</td>\n      <td>0</td>\n    </tr>\n    <tr>\n      <th>16</th>\n      <td>1</td>\n      <td>1</td>\n      <td>Harder, Mr. George Achilles</td>\n      <td>male</td>\n      <td>25.0</td>\n      <td>1</td>\n      <td>0</td>\n      <td>11765</td>\n      <td>55.4417</td>\n      <td>E50</td>\n      <td>...</td>\n      <td>0</td>\n      <td>1</td>\n      <td>0</td>\n      <td>1</td>\n      <td>1</td>\n      <td>1</td>\n      <td>1</td>\n      <td>0</td>\n      <td>1</td>\n      <td>0</td>\n    </tr>\n    <tr>\n      <th>17</th>\n      <td>1</td>\n      <td>1</td>\n      <td>Mayne, Mlle. Berthe Antonine (\"Mrs de Villiers\")</td>\n      <td>female</td>\n      <td>24.0</td>\n      <td>0</td>\n      <td>0</td>\n      <td>PC 17482</td>\n      <td>49.5042</td>\n      <td>C90</td>\n      <td>...</td>\n      <td>1</td>\n      <td>1</td>\n      <td>1</td>\n      <td>0</td>\n      <td>1</td>\n      <td>0</td>\n      <td>1</td>\n      <td>0</td>\n      <td>1</td>\n      <td>0</td>\n    </tr>\n  </tbody>\n</table>\n<p>5 rows × 39 columns</p>\n</div>"
     },
     "execution_count": 24,
     "metadata": {},
     "output_type": "execute_result"
    }
   ],
   "source": [
    "train[train['Cabin_Deck_Ord']<8].head()"
   ],
   "metadata": {
    "collapsed": false,
    "pycharm": {
     "name": "#%%\n"
    }
   }
  },
  {
   "cell_type": "code",
   "execution_count": 25,
   "outputs": [
    {
     "data": {
      "text/plain": "0.2898550724637681"
     },
     "execution_count": 25,
     "metadata": {},
     "output_type": "execute_result"
    }
   ],
   "source": [
    "train[train['Age'].isna()]['Survived'].mean()"
   ],
   "metadata": {
    "collapsed": false,
    "pycharm": {
     "name": "#%%\n"
    }
   }
  },
  {
   "cell_type": "markdown",
   "source": [
    "make ages discrete."
   ],
   "metadata": {
    "collapsed": false,
    "pycharm": {
     "name": "#%% md\n"
    }
   }
  },
  {
   "cell_type": "code",
   "execution_count": 26,
   "outputs": [
    {
     "data": {
      "text/plain": "<matplotlib.axes._subplots.AxesSubplot at 0x15775c13e50>"
     },
     "execution_count": 26,
     "metadata": {},
     "output_type": "execute_result"
    },
    {
     "data": {
      "text/plain": "<Figure size 432x288 with 1 Axes>",
      "image/png": "[encoded data removed]"
     },
     "metadata": {
      "needs_background": "dark"
     },
     "output_type": "display_data"
    }
   ],
   "source": [
    "train['Age_Title_Impute'].hist(bins=100)\n",
    "# train['Age_Title_Pclass_Impute'].hist(bins=100)"
   ],
   "metadata": {
    "collapsed": false,
    "pycharm": {
     "name": "#%%\n"
    }
   }
  },
  {
   "cell_type": "code",
   "execution_count": 27,
   "outputs": [],
   "source": [
    "for k in range(3,6):\n",
    "    disc = KBinsDiscretizer(encode='ordinal',n_bins=k)\n",
    "    col = 'Age_Title_Bin_' + str(k)\n",
    "    col2 = 'Age_Title_Pclass_Bin_' + str(k)\n",
    "    train[col] = disc.fit_transform(np.atleast_2d(train['Age_Title_Impute']).T)\n",
    "    train[col2] = disc.fit_transform(np.atleast_2d(train['Age_Title_Pclass_Impute']).T)\n",
    "    # print(np.c_[disc.fit_transform(np.atleast_2d(train['Age_Title_Impute']).T),\n",
    "    #               np.atleast_2d(train['Age_Title_Impute']).T])\n",
    "# now for my own discretizer:"
   ],
   "metadata": {
    "collapsed": false,
    "pycharm": {
     "name": "#%%\n"
    }
   }
  },
  {
   "cell_type": "code",
   "execution_count": 28,
   "outputs": [
    {
     "name": "stdout",
     "output_type": "stream",
     "text": [
      "hi\n"
     ]
    }
   ],
   "source": [
    "print('hi')"
   ],
   "metadata": {
    "collapsed": false,
    "pycharm": {
     "name": "#%%\n"
    }
   }
  },
  {
   "cell_type": "code",
   "execution_count": 29,
   "outputs": [
    {
     "data": {
      "text/plain": "     Age_Title_Bin_Custom  Age_Title_Pclass_Impute  \\\n0                       1                22.000000   \n1                       1                33.000000   \n2                       0                 1.000000   \n3                       1                16.120370   \n4                       3                70.000000   \n..                    ...                      ...   \n707                     1                21.000000   \n708                     1                41.021429   \n709                     2                41.000000   \n710                     0                14.000000   \n711                     1                21.000000   \n\n     Age_Title_Pclass_Bin_Custom  Age_Title_Impute  \n0                              1         22.000000  \n1                              1         33.000000  \n2                              0          1.000000  \n3                              1         22.151786  \n4                              3         70.000000  \n..                           ...               ...  \n707                            1         21.000000  \n708                            2         32.024465  \n709                            2         41.000000  \n710                            0         14.000000  \n711                            1         21.000000  \n\n[712 rows x 4 columns]",
      "text/html": "<div>\n<style scoped>\n    .dataframe tbody tr th:only-of-type {\n        vertical-align: middle;\n    }\n\n    .dataframe tbody tr th {\n        vertical-align: top;\n    }\n\n    .dataframe thead th {\n        text-align: right;\n    }\n</style>\n<table border=\"1\" class=\"dataframe\">\n  <thead>\n    <tr style=\"text-align: right;\">\n      <th></th>\n      <th>Age_Title_Bin_Custom</th>\n      <th>Age_Title_Pclass_Impute</th>\n      <th>Age_Title_Pclass_Bin_Custom</th>\n      <th>Age_Title_Impute</th>\n    </tr>\n  </thead>\n  <tbody>\n    <tr>\n      <th>0</th>\n      <td>1</td>\n      <td>22.000000</td>\n      <td>1</td>\n      <td>22.000000</td>\n    </tr>\n    <tr>\n      <th>1</th>\n      <td>1</td>\n      <td>33.000000</td>\n      <td>1</td>\n      <td>33.000000</td>\n    </tr>\n    <tr>\n      <th>2</th>\n      <td>0</td>\n      <td>1.000000</td>\n      <td>0</td>\n      <td>1.000000</td>\n    </tr>\n    <tr>\n      <th>3</th>\n      <td>1</td>\n      <td>16.120370</td>\n      <td>1</td>\n      <td>22.151786</td>\n    </tr>\n    <tr>\n      <th>4</th>\n      <td>3</td>\n      <td>70.000000</td>\n      <td>3</td>\n      <td>70.000000</td>\n    </tr>\n    <tr>\n      <th>...</th>\n      <td>...</td>\n      <td>...</td>\n      <td>...</td>\n      <td>...</td>\n    </tr>\n    <tr>\n      <th>707</th>\n      <td>1</td>\n      <td>21.000000</td>\n      <td>1</td>\n      <td>21.000000</td>\n    </tr>\n    <tr>\n      <th>708</th>\n      <td>1</td>\n      <td>41.021429</td>\n      <td>2</td>\n      <td>32.024465</td>\n    </tr>\n    <tr>\n      <th>709</th>\n      <td>2</td>\n      <td>41.000000</td>\n      <td>2</td>\n      <td>41.000000</td>\n    </tr>\n    <tr>\n      <th>710</th>\n      <td>0</td>\n      <td>14.000000</td>\n      <td>0</td>\n      <td>14.000000</td>\n    </tr>\n    <tr>\n      <th>711</th>\n      <td>1</td>\n      <td>21.000000</td>\n      <td>1</td>\n      <td>21.000000</td>\n    </tr>\n  </tbody>\n</table>\n<p>712 rows × 4 columns</p>\n</div>"
     },
     "execution_count": 29,
     "metadata": {},
     "output_type": "execute_result"
    }
   ],
   "source": [
    "def myBinDiscretizer1(x):\n",
    "    if x<16:\n",
    "        return 0\n",
    "    elif x<35:\n",
    "        return 1\n",
    "    elif x<60:\n",
    "        return 2\n",
    "    else:\n",
    "        return 3\n",
    "train['Age_Title_Pclass_Bin_Custom'] = train['Age_Title_Pclass_Impute'].apply(lambda x: myBinDiscretizer1(x))\n",
    "train['Age_Title_Bin_Custom'] = train['Age_Title_Impute'].apply(lambda x: myBinDiscretizer1(x))\n",
    "train[['Age_Title_Bin_Custom','Age_Title_Pclass_Impute',\n",
    "       'Age_Title_Pclass_Bin_Custom','Age_Title_Impute']]"
   ],
   "metadata": {
    "collapsed": false,
    "pycharm": {
     "name": "#%%\n"
    }
   }
  },
  {
   "cell_type": "markdown",
   "source": [
    "check goodness of fit."
   ],
   "metadata": {
    "collapsed": false,
    "pycharm": {
     "name": "#%% md\n"
    }
   }
  },
  {
   "cell_type": "code",
   "execution_count": 30,
   "outputs": [
    {
     "data": {
      "text/plain": "Survived                         int64\nPclass                           int64\nName                            object\nSex                             object\nAge                            float64\nSibSp                            int64\nParch                            int64\nTicket                          object\nFare                           float64\nCabin                           object\nEmbarked                        object\nAge_is_na                        int32\nCabin_is_na                      int32\nTicket_n                        object\nTicket_pre                      object\nTicket_pre_fill                 object\nCabin_Deck                      object\nRelatives                        int64\nHas_Relatives                    int32\nTitle                           object\nCabin_Deck_Ord                   int64\nTitle_Ord                        int64\nSex_Binary                       int32\nAge_Title_Impute               float64\nAge_Title_Pclass_Impute        float64\nCabin_Deck_down_to_1             int64\nCabin_Deck_up_to_0               int64\nCabin_Deck_down_to_2             int64\nCabin_Deck_up_to_1               int64\nCabin_Deck_down_to_3             int64\nCabin_Deck_up_to_2               int64\nCabin_Deck_down_to_4             int64\nCabin_Deck_up_to_3               int64\nCabin_Deck_down_to_5             int64\nCabin_Deck_up_to_4               int64\nCabin_Deck_down_to_6             int64\nCabin_Deck_up_to_5               int64\nCabin_Deck_down_to_7             int64\nCabin_Deck_up_to_6               int64\nAge_Title_Bin_3                float64\nAge_Title_Pclass_Bin_3         float64\nAge_Title_Bin_4                float64\nAge_Title_Pclass_Bin_4         float64\nAge_Title_Bin_5                float64\nAge_Title_Pclass_Bin_5         float64\nAge_Title_Pclass_Bin_Custom      int64\nAge_Title_Bin_Custom             int64\ndtype: object"
     },
     "execution_count": 30,
     "metadata": {},
     "output_type": "execute_result"
    }
   ],
   "source": [
    "train.dtypes"
   ],
   "metadata": {
    "collapsed": false,
    "pycharm": {
     "name": "#%%\n"
    }
   }
  },
  {
   "cell_type": "code",
   "execution_count": 31,
   "outputs": [],
   "source": [
    "# survived_scorer = Test_Recorder(train['Survived'],is_numeric=False)\n",
    "# survived_scorer.add_test(train['Title_Ord'])\n",
    "# survived_scorer.add_test(train['Age_Title_Bin_Custom'])\n",
    "# survived_scorer.add_test(train['Age_Title_Pclass_Bin_Custom'])\n",
    "# survived_scorer.res"
   ],
   "metadata": {
    "collapsed": false,
    "pycharm": {
     "name": "#%%\n"
    }
   }
  },
  {
   "cell_type": "code",
   "execution_count": 32,
   "outputs": [
    {
     "name": "stdout",
     "output_type": "stream",
     "text": [
      "          0      1\n",
      "0  0.006228   71.0\n",
      "1  0.008097  442.0\n",
      "2  0.010148  183.0\n",
      "3  0.590019   16.0\n"
     ]
    }
   ],
   "source": [
    "hot = OneHotEncoder(sparse=False)\n",
    "hot_ages = pd.DataFrame(hot.fit_transform(train['Age_Title_Bin_Custom'].to_frame()),columns=hot.get_feature_names(['Age_Title_Bin_Custom']))\n",
    "print(pd.DataFrame([chi2(hot_ages,train['Survived'])[1],hot_ages.sum(axis=0)]).T)"
   ],
   "metadata": {
    "collapsed": false,
    "pycharm": {
     "name": "#%%\n"
    }
   }
  },
  {
   "cell_type": "markdown",
   "source": [
    "Sex \\* age \\* pclass - m/f \\* child/adult \\* 1/2/3"
   ],
   "metadata": {
    "collapsed": false,
    "pycharm": {
     "name": "#%% md\n"
    }
   }
  },
  {
   "cell_type": "code",
   "execution_count": 33,
   "outputs": [
    {
     "data": {
      "text/plain": "     Age_Title_Bin_Custom_0  Age_Title_Bin_Custom_1  Age_Title_Bin_Custom_2  \\\n0                       0.0                     1.0                     0.0   \n1                       0.0                     1.0                     0.0   \n2                       1.0                     0.0                     0.0   \n3                       0.0                     1.0                     0.0   \n4                       0.0                     0.0                     0.0   \n..                      ...                     ...                     ...   \n707                     0.0                     1.0                     0.0   \n708                     0.0                     1.0                     0.0   \n709                     0.0                     0.0                     1.0   \n710                     1.0                     0.0                     0.0   \n711                     0.0                     1.0                     0.0   \n\n     Age_Title_Bin_Custom_3  Sex_female  Sex_male  Pclass_1  Pclass_2  \\\n0                       0.0         1.0       0.0       1.0       0.0   \n1                       0.0         0.0       1.0       0.0       1.0   \n2                       0.0         1.0       0.0       0.0       0.0   \n3                       0.0         1.0       0.0       0.0       0.0   \n4                       1.0         0.0       1.0       0.0       1.0   \n..                      ...         ...       ...       ...       ...   \n707                     0.0         1.0       0.0       0.0       0.0   \n708                     0.0         0.0       1.0       1.0       0.0   \n709                     0.0         0.0       1.0       0.0       0.0   \n710                     0.0         1.0       0.0       1.0       0.0   \n711                     0.0         0.0       1.0       1.0       0.0   \n\n     Pclass_3  \n0         0.0  \n1         0.0  \n2         1.0  \n3         1.0  \n4         0.0  \n..        ...  \n707       1.0  \n708       0.0  \n709       1.0  \n710       0.0  \n711       0.0  \n\n[712 rows x 9 columns]",
      "text/html": "<div>\n<style scoped>\n    .dataframe tbody tr th:only-of-type {\n        vertical-align: middle;\n    }\n\n    .dataframe tbody tr th {\n        vertical-align: top;\n    }\n\n    .dataframe thead th {\n        text-align: right;\n    }\n</style>\n<table border=\"1\" class=\"dataframe\">\n  <thead>\n    <tr style=\"text-align: right;\">\n      <th></th>\n      <th>Age_Title_Bin_Custom_0</th>\n      <th>Age_Title_Bin_Custom_1</th>\n      <th>Age_Title_Bin_Custom_2</th>\n      <th>Age_Title_Bin_Custom_3</th>\n      <th>Sex_female</th>\n      <th>Sex_male</th>\n      <th>Pclass_1</th>\n      <th>Pclass_2</th>\n      <th>Pclass_3</th>\n    </tr>\n  </thead>\n  <tbody>\n    <tr>\n      <th>0</th>\n      <td>0.0</td>\n      <td>1.0</td>\n      <td>0.0</td>\n      <td>0.0</td>\n      <td>1.0</td>\n      <td>0.0</td>\n      <td>1.0</td>\n      <td>0.0</td>\n      <td>0.0</td>\n    </tr>\n    <tr>\n      <th>1</th>\n      <td>0.0</td>\n      <td>1.0</td>\n      <td>0.0</td>\n      <td>0.0</td>\n      <td>0.0</td>\n      <td>1.0</td>\n      <td>0.0</td>\n      <td>1.0</td>\n      <td>0.0</td>\n    </tr>\n    <tr>\n      <th>2</th>\n      <td>1.0</td>\n      <td>0.0</td>\n      <td>0.0</td>\n      <td>0.0</td>\n      <td>1.0</td>\n      <td>0.0</td>\n      <td>0.0</td>\n      <td>0.0</td>\n      <td>1.0</td>\n    </tr>\n    <tr>\n      <th>3</th>\n      <td>0.0</td>\n      <td>1.0</td>\n      <td>0.0</td>\n      <td>0.0</td>\n      <td>1.0</td>\n      <td>0.0</td>\n      <td>0.0</td>\n      <td>0.0</td>\n      <td>1.0</td>\n    </tr>\n    <tr>\n      <th>4</th>\n      <td>0.0</td>\n      <td>0.0</td>\n      <td>0.0</td>\n      <td>1.0</td>\n      <td>0.0</td>\n      <td>1.0</td>\n      <td>0.0</td>\n      <td>1.0</td>\n      <td>0.0</td>\n    </tr>\n    <tr>\n      <th>...</th>\n      <td>...</td>\n      <td>...</td>\n      <td>...</td>\n      <td>...</td>\n      <td>...</td>\n      <td>...</td>\n      <td>...</td>\n      <td>...</td>\n      <td>...</td>\n    </tr>\n    <tr>\n      <th>707</th>\n      <td>0.0</td>\n      <td>1.0</td>\n      <td>0.0</td>\n      <td>0.0</td>\n      <td>1.0</td>\n      <td>0.0</td>\n      <td>0.0</td>\n      <td>0.0</td>\n      <td>1.0</td>\n    </tr>\n    <tr>\n      <th>708</th>\n      <td>0.0</td>\n      <td>1.0</td>\n      <td>0.0</td>\n      <td>0.0</td>\n      <td>0.0</td>\n      <td>1.0</td>\n      <td>1.0</td>\n      <td>0.0</td>\n      <td>0.0</td>\n    </tr>\n    <tr>\n      <th>709</th>\n      <td>0.0</td>\n      <td>0.0</td>\n      <td>1.0</td>\n      <td>0.0</td>\n      <td>0.0</td>\n      <td>1.0</td>\n      <td>0.0</td>\n      <td>0.0</td>\n      <td>1.0</td>\n    </tr>\n    <tr>\n      <th>710</th>\n      <td>1.0</td>\n      <td>0.0</td>\n      <td>0.0</td>\n      <td>0.0</td>\n      <td>1.0</td>\n      <td>0.0</td>\n      <td>1.0</td>\n      <td>0.0</td>\n      <td>0.0</td>\n    </tr>\n    <tr>\n      <th>711</th>\n      <td>0.0</td>\n      <td>1.0</td>\n      <td>0.0</td>\n      <td>0.0</td>\n      <td>0.0</td>\n      <td>1.0</td>\n      <td>1.0</td>\n      <td>0.0</td>\n      <td>0.0</td>\n    </tr>\n  </tbody>\n</table>\n<p>712 rows × 9 columns</p>\n</div>"
     },
     "execution_count": 33,
     "metadata": {},
     "output_type": "execute_result"
    }
   ],
   "source": [
    "hot_sex = pd.DataFrame(hot.fit_transform(train['Sex'].to_frame()),columns=hot.get_feature_names(['Sex']))\n",
    "hot_class = pd.DataFrame(hot.fit_transform(train['Pclass'].to_frame()),columns=hot.get_feature_names(['Pclass']))\n",
    "\n",
    "pd.concat([hot_ages,hot_sex,hot_class],axis=1)"
   ],
   "metadata": {
    "collapsed": false,
    "pycharm": {
     "name": "#%%\n"
    }
   }
  },
  {
   "cell_type": "code",
   "execution_count": 34,
   "outputs": [
    {
     "name": "stdout",
     "output_type": "stream",
     "text": [
      "Index(['female_Age_0_Pclass_1', 'female_Age_0_Pclass_2',\n",
      "       'female_Age_0_Pclass_3', 'female_Age_1_Pclass_1',\n",
      "       'female_Age_1_Pclass_2', 'female_Age_1_Pclass_3',\n",
      "       'female_Age_2_Pclass_1', 'female_Age_2_Pclass_2',\n",
      "       'female_Age_2_Pclass_3', 'female_Age_3_Pclass_1',\n",
      "       'female_Age_3_Pclass_2', 'female_Age_3_Pclass_3', 'male_Age_0_Pclass_1',\n",
      "       'male_Age_0_Pclass_2', 'male_Age_0_Pclass_3', 'male_Age_1_Pclass_1',\n",
      "       'male_Age_1_Pclass_2', 'male_Age_1_Pclass_3', 'male_Age_2_Pclass_1',\n",
      "       'male_Age_2_Pclass_2', 'male_Age_2_Pclass_3', 'male_Age_3_Pclass_1',\n",
      "       'male_Age_3_Pclass_2', 'male_Age_3_Pclass_3', 'Child_Pclass_1',\n",
      "       'Child_Pclass_2', 'Child_Pclass_3'],\n",
      "      dtype='object')\n"
     ]
    },
    {
     "data": {
      "text/plain": "(array([1.06486136e+00, 1.15278810e+01, 1.52438175e+00, 4.26113759e+01,\n        3.96248832e+01, 3.08501621e+00, 6.23305234e+01, 2.13216411e+01,\n        8.33832304e-02, 3.29368030e+00,            nan, 1.64684015e+00,\n        1.64684015e+00, 1.31747212e+01, 1.01025572e+00, 4.74547484e-01,\n        1.80118335e+01, 5.23882055e+01, 8.50016270e-01, 1.03378361e+01,\n        1.67716302e+01, 9.26812326e-01, 1.21444695e+00, 1.21444695e+00,\n        2.35719620e+00, 2.47026022e+01, 1.02480617e-02]),\n array([3.02109035e-01, 6.85601158e-04, 2.16957606e-01, 6.67699335e-11,\n        3.07737175e-10, 7.90164778e-02, 2.90389185e-15, 3.88322855e-06,\n        7.72763861e-01, 6.95469737e-02,            nan, 1.99389550e-01,\n        1.99389550e-01, 2.83750943e-04, 3.14841585e-01, 4.90902519e-01,\n        2.19536045e-05, 4.55451131e-13, 3.56547735e-01, 1.30330716e-03,\n        4.21589157e-05, 3.35692612e-01, 2.70453199e-01, 2.70453199e-01,\n        1.24706147e-01, 6.68937935e-07, 9.19365731e-01]))"
     },
     "execution_count": 34,
     "metadata": {},
     "output_type": "execute_result"
    }
   ],
   "source": [
    "df = pd.DataFrame()\n",
    "# df.append(['a','b'])\n",
    "for col_sex in hot_sex.columns:\n",
    "    for col_ages in hot_ages.columns:\n",
    "        for col_class in hot_class.columns:\n",
    "            # print(col_sex,col_ages,col_class,'\\n',hot_sex[col_sex]*hot_ages[col_ages]*hot_class[col_class])\n",
    "            # if is child, then don't really care about sex. women and children first.\n",
    "            # if col_ages[-1]=='0':\n",
    "            #     name = 'Child'+'_'+col_class\n",
    "            #     new_series = pd.Series(hot_ages[col_ages]*hot_class[col_class],name=name)\n",
    "            # else:\n",
    "            age_sex = col_sex.split('_')[1]\n",
    "            age_name = 'Age_'+col_ages[-1]\n",
    "            name = age_sex+'_'+age_name+'_'+col_class\n",
    "            new_series = pd.Series(hot_sex[col_sex]*hot_ages[col_ages]*hot_class[col_class],name=name)\n",
    "            # print(new_series)\n",
    "            df = df.append(new_series)\n",
    "            # print(df)\n",
    "            # print('pd',df)\n",
    "for col_class in hot_class.columns:\n",
    "    name = 'Child'+'_'+col_class\n",
    "    new_series = pd.Series(hot_ages.iloc[:,0]*hot_class[col_class],name=name)\n",
    "    df = df.append(new_series)\n",
    "df = df.T\n",
    "df\n",
    "print(df.columns)\n",
    "chi2(df,train['Survived'])"
   ],
   "metadata": {
    "collapsed": false,
    "pycharm": {
     "name": "#%%\n"
    }
   }
  },
  {
   "cell_type": "code",
   "execution_count": 34,
   "outputs": [],
   "source": [],
   "metadata": {
    "collapsed": false,
    "pycharm": {
     "name": "#%%\n"
    }
   }
  },
  {
   "cell_type": "code",
   "execution_count": 35,
   "outputs": [
    {
     "name": "stdout",
     "output_type": "stream",
     "text": [
      "sex (array([128.39159317,  66.9392067 ]), array([9.21451406e-30, 2.80010277e-16])) \n",
      "age (array([7.48314846, 7.01193857, 6.60871819, 0.29031527]), array([0.00622791, 0.0080968 , 0.01014807, 0.59001857])) \n",
      "class (array([47.94653257,  4.3794004 , 33.5920899 ]), array([4.38002022e-12, 3.63757916e-02, 6.79685691e-09]))\n"
     ]
    }
   ],
   "source": [
    "y = train['Survived']\n",
    "print('sex',chi2(hot_sex,y),\n",
    "      '\\nage',chi2(hot_ages,y),\n",
    "      '\\nclass',chi2(hot_class,y))"
   ],
   "metadata": {
    "collapsed": false,
    "pycharm": {
     "name": "#%%\n"
    }
   }
  },
  {
   "cell_type": "code",
   "execution_count": 36,
   "outputs": [
    {
     "data": {
      "text/plain": "     Deck_0  Deck_1  Deck_2  Deck_3  Deck_4  Deck_5  Deck_6  Deck_7  Deck_8\n0       0.0     0.0     0.0     0.0     0.0     0.0     0.0     0.0     1.0\n1       0.0     0.0     0.0     0.0     0.0     0.0     0.0     0.0     1.0\n2       0.0     0.0     0.0     0.0     0.0     0.0     0.0     0.0     1.0\n3       0.0     0.0     0.0     0.0     0.0     0.0     0.0     0.0     1.0\n4       0.0     0.0     0.0     0.0     0.0     0.0     0.0     0.0     1.0\n..      ...     ...     ...     ...     ...     ...     ...     ...     ...\n707     0.0     0.0     0.0     0.0     0.0     0.0     0.0     0.0     1.0\n708     0.0     0.0     0.0     0.0     0.0     0.0     0.0     0.0     1.0\n709     0.0     0.0     0.0     0.0     0.0     0.0     0.0     0.0     1.0\n710     0.0     1.0     0.0     0.0     0.0     0.0     0.0     0.0     0.0\n711     0.0     0.0     0.0     1.0     0.0     0.0     0.0     0.0     0.0\n\n[712 rows x 9 columns]",
      "text/html": "<div>\n<style scoped>\n    .dataframe tbody tr th:only-of-type {\n        vertical-align: middle;\n    }\n\n    .dataframe tbody tr th {\n        vertical-align: top;\n    }\n\n    .dataframe thead th {\n        text-align: right;\n    }\n</style>\n<table border=\"1\" class=\"dataframe\">\n  <thead>\n    <tr style=\"text-align: right;\">\n      <th></th>\n      <th>Deck_0</th>\n      <th>Deck_1</th>\n      <th>Deck_2</th>\n      <th>Deck_3</th>\n      <th>Deck_4</th>\n      <th>Deck_5</th>\n      <th>Deck_6</th>\n      <th>Deck_7</th>\n      <th>Deck_8</th>\n    </tr>\n  </thead>\n  <tbody>\n    <tr>\n      <th>0</th>\n      <td>0.0</td>\n      <td>0.0</td>\n      <td>0.0</td>\n      <td>0.0</td>\n      <td>0.0</td>\n      <td>0.0</td>\n      <td>0.0</td>\n      <td>0.0</td>\n      <td>1.0</td>\n    </tr>\n    <tr>\n      <th>1</th>\n      <td>0.0</td>\n      <td>0.0</td>\n      <td>0.0</td>\n      <td>0.0</td>\n      <td>0.0</td>\n      <td>0.0</td>\n      <td>0.0</td>\n      <td>0.0</td>\n      <td>1.0</td>\n    </tr>\n    <tr>\n      <th>2</th>\n      <td>0.0</td>\n      <td>0.0</td>\n      <td>0.0</td>\n      <td>0.0</td>\n      <td>0.0</td>\n      <td>0.0</td>\n      <td>0.0</td>\n      <td>0.0</td>\n      <td>1.0</td>\n    </tr>\n    <tr>\n      <th>3</th>\n      <td>0.0</td>\n      <td>0.0</td>\n      <td>0.0</td>\n      <td>0.0</td>\n      <td>0.0</td>\n      <td>0.0</td>\n      <td>0.0</td>\n      <td>0.0</td>\n      <td>1.0</td>\n    </tr>\n    <tr>\n      <th>4</th>\n      <td>0.0</td>\n      <td>0.0</td>\n      <td>0.0</td>\n      <td>0.0</td>\n      <td>0.0</td>\n      <td>0.0</td>\n      <td>0.0</td>\n      <td>0.0</td>\n      <td>1.0</td>\n    </tr>\n    <tr>\n      <th>...</th>\n      <td>...</td>\n      <td>...</td>\n      <td>...</td>\n      <td>...</td>\n      <td>...</td>\n      <td>...</td>\n      <td>...</td>\n      <td>...</td>\n      <td>...</td>\n    </tr>\n    <tr>\n      <th>707</th>\n      <td>0.0</td>\n      <td>0.0</td>\n      <td>0.0</td>\n      <td>0.0</td>\n      <td>0.0</td>\n      <td>0.0</td>\n      <td>0.0</td>\n      <td>0.0</td>\n      <td>1.0</td>\n    </tr>\n    <tr>\n      <th>708</th>\n      <td>0.0</td>\n      <td>0.0</td>\n      <td>0.0</td>\n      <td>0.0</td>\n      <td>0.0</td>\n      <td>0.0</td>\n      <td>0.0</td>\n      <td>0.0</td>\n      <td>1.0</td>\n    </tr>\n    <tr>\n      <th>709</th>\n      <td>0.0</td>\n      <td>0.0</td>\n      <td>0.0</td>\n      <td>0.0</td>\n      <td>0.0</td>\n      <td>0.0</td>\n      <td>0.0</td>\n      <td>0.0</td>\n      <td>1.0</td>\n    </tr>\n    <tr>\n      <th>710</th>\n      <td>0.0</td>\n      <td>1.0</td>\n      <td>0.0</td>\n      <td>0.0</td>\n      <td>0.0</td>\n      <td>0.0</td>\n      <td>0.0</td>\n      <td>0.0</td>\n      <td>0.0</td>\n    </tr>\n    <tr>\n      <th>711</th>\n      <td>0.0</td>\n      <td>0.0</td>\n      <td>0.0</td>\n      <td>1.0</td>\n      <td>0.0</td>\n      <td>0.0</td>\n      <td>0.0</td>\n      <td>0.0</td>\n      <td>0.0</td>\n    </tr>\n  </tbody>\n</table>\n<p>712 rows × 9 columns</p>\n</div>"
     },
     "execution_count": 36,
     "metadata": {},
     "output_type": "execute_result"
    }
   ],
   "source": [
    "hot_deck = pd.DataFrame(hot.fit_transform(train['Cabin_Deck_Ord'].to_frame()),columns=hot.get_feature_names(['Deck']))\n",
    "hot_deck"
   ],
   "metadata": {
    "collapsed": false,
    "pycharm": {
     "name": "#%%\n"
    }
   }
  },
  {
   "cell_type": "code",
   "execution_count": 37,
   "outputs": [
    {
     "data": {
      "text/plain": "     Survived  Pclass                              Name     Sex   Age  SibSp  \\\n0           1       1              Cleaver, Miss. Alice  female  22.0      0   \n1           0       2            Hunt, Mr. George Henry    male  33.0      0   \n2           1       3       Nakid, Miss. Maria (\"Mary\")  female   1.0      0   \n3           0       3           Sage, Miss. Stella Anna  female   NaN      8   \n4           0       2       Mitchell, Mr. Henry Michael    male  70.0      0   \n..        ...     ...                               ...     ...   ...    ...   \n707         1       3  Salkjelsvik, Miss. Anna Kristine  female  21.0      0   \n708         0       1             Cairns, Mr. Alexander    male   NaN      0   \n709         0       3           Hansen, Mr. Claus Peter    male  41.0      2   \n710         1       1         Carter, Miss. Lucile Polk  female  14.0      1   \n711         0       1         White, Mr. Richard Frasar    male  21.0      0   \n\n     Parch      Ticket      Fare    Cabin  ... male_Age_1_Pclass_3  \\\n0        0      113781  151.5500      NaN  ...                 0.0   \n1        0  SCO/W 1585   12.2750      NaN  ...                 0.0   \n2        2        2653   15.7417      NaN  ...                 0.0   \n3        2    CA. 2343   69.5500      NaN  ...                 0.0   \n4        0  C.A. 24580   10.5000      NaN  ...                 0.0   \n..     ...         ...       ...      ...  ...                 ...   \n707      0      343120    7.6500      NaN  ...                 0.0   \n708      0      113798   31.0000      NaN  ...                 0.0   \n709      0      350026   14.1083      NaN  ...                 0.0   \n710      2      113760  120.0000  B96 B98  ...                 0.0   \n711      1       35281   77.2875      D26  ...                 0.0   \n\n     male_Age_2_Pclass_1  male_Age_2_Pclass_2 male_Age_2_Pclass_3  \\\n0                    0.0                  0.0                 0.0   \n1                    0.0                  0.0                 0.0   \n2                    0.0                  0.0                 0.0   \n3                    0.0                  0.0                 0.0   \n4                    0.0                  0.0                 0.0   \n..                   ...                  ...                 ...   \n707                  0.0                  0.0                 0.0   \n708                  0.0                  0.0                 0.0   \n709                  0.0                  0.0                 1.0   \n710                  0.0                  0.0                 0.0   \n711                  0.0                  0.0                 0.0   \n\n    male_Age_3_Pclass_1 male_Age_3_Pclass_2 male_Age_3_Pclass_3  \\\n0                   0.0                 0.0                 0.0   \n1                   0.0                 0.0                 0.0   \n2                   0.0                 0.0                 0.0   \n3                   0.0                 0.0                 0.0   \n4                   0.0                 1.0                 0.0   \n..                  ...                 ...                 ...   \n707                 0.0                 0.0                 0.0   \n708                 0.0                 0.0                 0.0   \n709                 0.0                 0.0                 0.0   \n710                 0.0                 0.0                 0.0   \n711                 0.0                 0.0                 0.0   \n\n     Child_Pclass_1  Child_Pclass_2 Child_Pclass_3  \n0               0.0             0.0            0.0  \n1               0.0             0.0            0.0  \n2               0.0             0.0            1.0  \n3               0.0             0.0            0.0  \n4               0.0             0.0            0.0  \n..              ...             ...            ...  \n707             0.0             0.0            0.0  \n708             0.0             0.0            0.0  \n709             0.0             0.0            0.0  \n710             1.0             0.0            0.0  \n711             0.0             0.0            0.0  \n\n[712 rows x 74 columns]",
      "text/html": "<div>\n<style scoped>\n    .dataframe tbody tr th:only-of-type {\n        vertical-align: middle;\n    }\n\n    .dataframe tbody tr th {\n        vertical-align: top;\n    }\n\n    .dataframe thead th {\n        text-align: right;\n    }\n</style>\n<table border=\"1\" class=\"dataframe\">\n  <thead>\n    <tr style=\"text-align: right;\">\n      <th></th>\n      <th>Survived</th>\n      <th>Pclass</th>\n      <th>Name</th>\n      <th>Sex</th>\n      <th>Age</th>\n      <th>SibSp</th>\n      <th>Parch</th>\n      <th>Ticket</th>\n      <th>Fare</th>\n      <th>Cabin</th>\n      <th>...</th>\n      <th>male_Age_1_Pclass_3</th>\n      <th>male_Age_2_Pclass_1</th>\n      <th>male_Age_2_Pclass_2</th>\n      <th>male_Age_2_Pclass_3</th>\n      <th>male_Age_3_Pclass_1</th>\n      <th>male_Age_3_Pclass_2</th>\n      <th>male_Age_3_Pclass_3</th>\n      <th>Child_Pclass_1</th>\n      <th>Child_Pclass_2</th>\n      <th>Child_Pclass_3</th>\n    </tr>\n  </thead>\n  <tbody>\n    <tr>\n      <th>0</th>\n      <td>1</td>\n      <td>1</td>\n      <td>Cleaver, Miss. Alice</td>\n      <td>female</td>\n      <td>22.0</td>\n      <td>0</td>\n      <td>0</td>\n      <td>113781</td>\n      <td>151.5500</td>\n      <td>NaN</td>\n      <td>...</td>\n      <td>0.0</td>\n      <td>0.0</td>\n      <td>0.0</td>\n      <td>0.0</td>\n      <td>0.0</td>\n      <td>0.0</td>\n      <td>0.0</td>\n      <td>0.0</td>\n      <td>0.0</td>\n      <td>0.0</td>\n    </tr>\n    <tr>\n      <th>1</th>\n      <td>0</td>\n      <td>2</td>\n      <td>Hunt, Mr. George Henry</td>\n      <td>male</td>\n      <td>33.0</td>\n      <td>0</td>\n      <td>0</td>\n      <td>SCO/W 1585</td>\n      <td>12.2750</td>\n      <td>NaN</td>\n      <td>...</td>\n      <td>0.0</td>\n      <td>0.0</td>\n      <td>0.0</td>\n      <td>0.0</td>\n      <td>0.0</td>\n      <td>0.0</td>\n      <td>0.0</td>\n      <td>0.0</td>\n      <td>0.0</td>\n      <td>0.0</td>\n    </tr>\n    <tr>\n      <th>2</th>\n      <td>1</td>\n      <td>3</td>\n      <td>Nakid, Miss. Maria (\"Mary\")</td>\n      <td>female</td>\n      <td>1.0</td>\n      <td>0</td>\n      <td>2</td>\n      <td>2653</td>\n      <td>15.7417</td>\n      <td>NaN</td>\n      <td>...</td>\n      <td>0.0</td>\n      <td>0.0</td>\n      <td>0.0</td>\n      <td>0.0</td>\n      <td>0.0</td>\n      <td>0.0</td>\n      <td>0.0</td>\n      <td>0.0</td>\n      <td>0.0</td>\n      <td>1.0</td>\n    </tr>\n    <tr>\n      <th>3</th>\n      <td>0</td>\n      <td>3</td>\n      <td>Sage, Miss. Stella Anna</td>\n      <td>female</td>\n      <td>NaN</td>\n      <td>8</td>\n      <td>2</td>\n      <td>CA. 2343</td>\n      <td>69.5500</td>\n      <td>NaN</td>\n      <td>...</td>\n      <td>0.0</td>\n      <td>0.0</td>\n      <td>0.0</td>\n      <td>0.0</td>\n      <td>0.0</td>\n      <td>0.0</td>\n      <td>0.0</td>\n      <td>0.0</td>\n      <td>0.0</td>\n      <td>0.0</td>\n    </tr>\n    <tr>\n      <th>4</th>\n      <td>0</td>\n      <td>2</td>\n      <td>Mitchell, Mr. Henry Michael</td>\n      <td>male</td>\n      <td>70.0</td>\n      <td>0</td>\n      <td>0</td>\n      <td>C.A. 24580</td>\n      <td>10.5000</td>\n      <td>NaN</td>\n      <td>...</td>\n      <td>0.0</td>\n      <td>0.0</td>\n      <td>0.0</td>\n      <td>0.0</td>\n      <td>0.0</td>\n      <td>1.0</td>\n      <td>0.0</td>\n      <td>0.0</td>\n      <td>0.0</td>\n      <td>0.0</td>\n    </tr>\n    <tr>\n      <th>...</th>\n      <td>...</td>\n      <td>...</td>\n      <td>...</td>\n      <td>...</td>\n      <td>...</td>\n      <td>...</td>\n      <td>...</td>\n      <td>...</td>\n      <td>...</td>\n      <td>...</td>\n      <td>...</td>\n      <td>...</td>\n      <td>...</td>\n      <td>...</td>\n      <td>...</td>\n      <td>...</td>\n      <td>...</td>\n      <td>...</td>\n      <td>...</td>\n      <td>...</td>\n      <td>...</td>\n    </tr>\n    <tr>\n      <th>707</th>\n      <td>1</td>\n      <td>3</td>\n      <td>Salkjelsvik, Miss. Anna Kristine</td>\n      <td>female</td>\n      <td>21.0</td>\n      <td>0</td>\n      <td>0</td>\n      <td>343120</td>\n      <td>7.6500</td>\n      <td>NaN</td>\n      <td>...</td>\n      <td>0.0</td>\n      <td>0.0</td>\n      <td>0.0</td>\n      <td>0.0</td>\n      <td>0.0</td>\n      <td>0.0</td>\n      <td>0.0</td>\n      <td>0.0</td>\n      <td>0.0</td>\n      <td>0.0</td>\n    </tr>\n    <tr>\n      <th>708</th>\n      <td>0</td>\n      <td>1</td>\n      <td>Cairns, Mr. Alexander</td>\n      <td>male</td>\n      <td>NaN</td>\n      <td>0</td>\n      <td>0</td>\n      <td>113798</td>\n      <td>31.0000</td>\n      <td>NaN</td>\n      <td>...</td>\n      <td>0.0</td>\n      <td>0.0</td>\n      <td>0.0</td>\n      <td>0.0</td>\n      <td>0.0</td>\n      <td>0.0</td>\n      <td>0.0</td>\n      <td>0.0</td>\n      <td>0.0</td>\n      <td>0.0</td>\n    </tr>\n    <tr>\n      <th>709</th>\n      <td>0</td>\n      <td>3</td>\n      <td>Hansen, Mr. Claus Peter</td>\n      <td>male</td>\n      <td>41.0</td>\n      <td>2</td>\n      <td>0</td>\n      <td>350026</td>\n      <td>14.1083</td>\n      <td>NaN</td>\n      <td>...</td>\n      <td>0.0</td>\n      <td>0.0</td>\n      <td>0.0</td>\n      <td>1.0</td>\n      <td>0.0</td>\n      <td>0.0</td>\n      <td>0.0</td>\n      <td>0.0</td>\n      <td>0.0</td>\n      <td>0.0</td>\n    </tr>\n    <tr>\n      <th>710</th>\n      <td>1</td>\n      <td>1</td>\n      <td>Carter, Miss. Lucile Polk</td>\n      <td>female</td>\n      <td>14.0</td>\n      <td>1</td>\n      <td>2</td>\n      <td>113760</td>\n      <td>120.0000</td>\n      <td>B96 B98</td>\n      <td>...</td>\n      <td>0.0</td>\n      <td>0.0</td>\n      <td>0.0</td>\n      <td>0.0</td>\n      <td>0.0</td>\n      <td>0.0</td>\n      <td>0.0</td>\n      <td>1.0</td>\n      <td>0.0</td>\n      <td>0.0</td>\n    </tr>\n    <tr>\n      <th>711</th>\n      <td>0</td>\n      <td>1</td>\n      <td>White, Mr. Richard Frasar</td>\n      <td>male</td>\n      <td>21.0</td>\n      <td>0</td>\n      <td>1</td>\n      <td>35281</td>\n      <td>77.2875</td>\n      <td>D26</td>\n      <td>...</td>\n      <td>0.0</td>\n      <td>0.0</td>\n      <td>0.0</td>\n      <td>0.0</td>\n      <td>0.0</td>\n      <td>0.0</td>\n      <td>0.0</td>\n      <td>0.0</td>\n      <td>0.0</td>\n      <td>0.0</td>\n    </tr>\n  </tbody>\n</table>\n<p>712 rows × 74 columns</p>\n</div>"
     },
     "execution_count": 37,
     "metadata": {},
     "output_type": "execute_result"
    }
   ],
   "source": [
    "train = pd.concat([train,df],axis=1)\n",
    "train"
   ],
   "metadata": {
    "collapsed": false,
    "pycharm": {
     "name": "#%%\n"
    }
   }
  },
  {
   "cell_type": "code",
   "execution_count": 38,
   "outputs": [
    {
     "data": {
      "text/plain": "Index(['Survived', 'Pclass', 'Name', 'Sex', 'Age', 'SibSp', 'Parch', 'Ticket',\n       'Fare', 'Cabin', 'Embarked', 'Age_is_na', 'Cabin_is_na', 'Ticket_n',\n       'Ticket_pre', 'Ticket_pre_fill', 'Cabin_Deck', 'Relatives',\n       'Has_Relatives', 'Title', 'Cabin_Deck_Ord', 'Title_Ord', 'Sex_Binary',\n       'Age_Title_Impute', 'Age_Title_Pclass_Impute', 'Cabin_Deck_down_to_1',\n       'Cabin_Deck_up_to_0', 'Cabin_Deck_down_to_2', 'Cabin_Deck_up_to_1',\n       'Cabin_Deck_down_to_3', 'Cabin_Deck_up_to_2', 'Cabin_Deck_down_to_4',\n       'Cabin_Deck_up_to_3', 'Cabin_Deck_down_to_5', 'Cabin_Deck_up_to_4',\n       'Cabin_Deck_down_to_6', 'Cabin_Deck_up_to_5', 'Cabin_Deck_down_to_7',\n       'Cabin_Deck_up_to_6', 'Age_Title_Bin_3', 'Age_Title_Pclass_Bin_3',\n       'Age_Title_Bin_4', 'Age_Title_Pclass_Bin_4', 'Age_Title_Bin_5',\n       'Age_Title_Pclass_Bin_5', 'Age_Title_Pclass_Bin_Custom',\n       'Age_Title_Bin_Custom', 'female_Age_0_Pclass_1',\n       'female_Age_0_Pclass_2', 'female_Age_0_Pclass_3',\n       'female_Age_1_Pclass_1', 'female_Age_1_Pclass_2',\n       'female_Age_1_Pclass_3', 'female_Age_2_Pclass_1',\n       'female_Age_2_Pclass_2', 'female_Age_2_Pclass_3',\n       'female_Age_3_Pclass_1', 'female_Age_3_Pclass_2',\n       'female_Age_3_Pclass_3', 'male_Age_0_Pclass_1', 'male_Age_0_Pclass_2',\n       'male_Age_0_Pclass_3', 'male_Age_1_Pclass_1', 'male_Age_1_Pclass_2',\n       'male_Age_1_Pclass_3', 'male_Age_2_Pclass_1', 'male_Age_2_Pclass_2',\n       'male_Age_2_Pclass_3', 'male_Age_3_Pclass_1', 'male_Age_3_Pclass_2',\n       'male_Age_3_Pclass_3', 'Child_Pclass_1', 'Child_Pclass_2',\n       'Child_Pclass_3'],\n      dtype='object')"
     },
     "execution_count": 38,
     "metadata": {},
     "output_type": "execute_result"
    }
   ],
   "source": [
    "train.columns"
   ],
   "metadata": {
    "collapsed": false,
    "pycharm": {
     "name": "#%%\n"
    }
   }
  },
  {
   "cell_type": "code",
   "execution_count": 39,
   "outputs": [
    {
     "data": {
      "text/plain": "     Deck_0_Pclass_1  Deck_0_Pclass_2  Deck_0_Pclass_3  Deck_1_Pclass_1  \\\n0                0.0              0.0              0.0              0.0   \n1                0.0              0.0              0.0              0.0   \n2                0.0              0.0              0.0              0.0   \n3                0.0              0.0              0.0              0.0   \n4                0.0              0.0              0.0              0.0   \n..               ...              ...              ...              ...   \n707              0.0              0.0              0.0              0.0   \n708              0.0              0.0              0.0              0.0   \n709              0.0              0.0              0.0              0.0   \n710              0.0              0.0              0.0              1.0   \n711              0.0              0.0              0.0              0.0   \n\n     Deck_1_Pclass_2  Deck_1_Pclass_3  Deck_2_Pclass_1  Deck_2_Pclass_2  \\\n0                0.0              0.0              0.0              0.0   \n1                0.0              0.0              0.0              0.0   \n2                0.0              0.0              0.0              0.0   \n3                0.0              0.0              0.0              0.0   \n4                0.0              0.0              0.0              0.0   \n..               ...              ...              ...              ...   \n707              0.0              0.0              0.0              0.0   \n708              0.0              0.0              0.0              0.0   \n709              0.0              0.0              0.0              0.0   \n710              0.0              0.0              0.0              0.0   \n711              0.0              0.0              0.0              0.0   \n\n     Deck_2_Pclass_3  Deck_3_Pclass_1  ...  Deck_5_Pclass_3  Deck_6_Pclass_1  \\\n0                0.0              0.0  ...              0.0              0.0   \n1                0.0              0.0  ...              0.0              0.0   \n2                0.0              0.0  ...              0.0              0.0   \n3                0.0              0.0  ...              0.0              0.0   \n4                0.0              0.0  ...              0.0              0.0   \n..               ...              ...  ...              ...              ...   \n707              0.0              0.0  ...              0.0              0.0   \n708              0.0              0.0  ...              0.0              0.0   \n709              0.0              0.0  ...              0.0              0.0   \n710              0.0              0.0  ...              0.0              0.0   \n711              0.0              1.0  ...              0.0              0.0   \n\n     Deck_6_Pclass_2  Deck_6_Pclass_3  Deck_7_Pclass_1  Deck_7_Pclass_2  \\\n0                0.0              0.0              0.0              0.0   \n1                0.0              0.0              0.0              0.0   \n2                0.0              0.0              0.0              0.0   \n3                0.0              0.0              0.0              0.0   \n4                0.0              0.0              0.0              0.0   \n..               ...              ...              ...              ...   \n707              0.0              0.0              0.0              0.0   \n708              0.0              0.0              0.0              0.0   \n709              0.0              0.0              0.0              0.0   \n710              0.0              0.0              0.0              0.0   \n711              0.0              0.0              0.0              0.0   \n\n     Deck_7_Pclass_3  Deck_8_Pclass_1  Deck_8_Pclass_2  Deck_8_Pclass_3  \n0                0.0              1.0              0.0              0.0  \n1                0.0              0.0              1.0              0.0  \n2                0.0              0.0              0.0              1.0  \n3                0.0              0.0              0.0              1.0  \n4                0.0              0.0              1.0              0.0  \n..               ...              ...              ...              ...  \n707              0.0              0.0              0.0              1.0  \n708              0.0              1.0              0.0              0.0  \n709              0.0              0.0              0.0              1.0  \n710              0.0              0.0              0.0              0.0  \n711              0.0              0.0              0.0              0.0  \n\n[712 rows x 27 columns]",
      "text/html": "<div>\n<style scoped>\n    .dataframe tbody tr th:only-of-type {\n        vertical-align: middle;\n    }\n\n    .dataframe tbody tr th {\n        vertical-align: top;\n    }\n\n    .dataframe thead th {\n        text-align: right;\n    }\n</style>\n<table border=\"1\" class=\"dataframe\">\n  <thead>\n    <tr style=\"text-align: right;\">\n      <th></th>\n      <th>Deck_0_Pclass_1</th>\n      <th>Deck_0_Pclass_2</th>\n      <th>Deck_0_Pclass_3</th>\n      <th>Deck_1_Pclass_1</th>\n      <th>Deck_1_Pclass_2</th>\n      <th>Deck_1_Pclass_3</th>\n      <th>Deck_2_Pclass_1</th>\n      <th>Deck_2_Pclass_2</th>\n      <th>Deck_2_Pclass_3</th>\n      <th>Deck_3_Pclass_1</th>\n      <th>...</th>\n      <th>Deck_5_Pclass_3</th>\n      <th>Deck_6_Pclass_1</th>\n      <th>Deck_6_Pclass_2</th>\n      <th>Deck_6_Pclass_3</th>\n      <th>Deck_7_Pclass_1</th>\n      <th>Deck_7_Pclass_2</th>\n      <th>Deck_7_Pclass_3</th>\n      <th>Deck_8_Pclass_1</th>\n      <th>Deck_8_Pclass_2</th>\n      <th>Deck_8_Pclass_3</th>\n    </tr>\n  </thead>\n  <tbody>\n    <tr>\n      <th>0</th>\n      <td>0.0</td>\n      <td>0.0</td>\n      <td>0.0</td>\n      <td>0.0</td>\n      <td>0.0</td>\n      <td>0.0</td>\n      <td>0.0</td>\n      <td>0.0</td>\n      <td>0.0</td>\n      <td>0.0</td>\n      <td>...</td>\n      <td>0.0</td>\n      <td>0.0</td>\n      <td>0.0</td>\n      <td>0.0</td>\n      <td>0.0</td>\n      <td>0.0</td>\n      <td>0.0</td>\n      <td>1.0</td>\n      <td>0.0</td>\n      <td>0.0</td>\n    </tr>\n    <tr>\n      <th>1</th>\n      <td>0.0</td>\n      <td>0.0</td>\n      <td>0.0</td>\n      <td>0.0</td>\n      <td>0.0</td>\n      <td>0.0</td>\n      <td>0.0</td>\n      <td>0.0</td>\n      <td>0.0</td>\n      <td>0.0</td>\n      <td>...</td>\n      <td>0.0</td>\n      <td>0.0</td>\n      <td>0.0</td>\n      <td>0.0</td>\n      <td>0.0</td>\n      <td>0.0</td>\n      <td>0.0</td>\n      <td>0.0</td>\n      <td>1.0</td>\n      <td>0.0</td>\n    </tr>\n    <tr>\n      <th>2</th>\n      <td>0.0</td>\n      <td>0.0</td>\n      <td>0.0</td>\n      <td>0.0</td>\n      <td>0.0</td>\n      <td>0.0</td>\n      <td>0.0</td>\n      <td>0.0</td>\n      <td>0.0</td>\n      <td>0.0</td>\n      <td>...</td>\n      <td>0.0</td>\n      <td>0.0</td>\n      <td>0.0</td>\n      <td>0.0</td>\n      <td>0.0</td>\n      <td>0.0</td>\n      <td>0.0</td>\n      <td>0.0</td>\n      <td>0.0</td>\n      <td>1.0</td>\n    </tr>\n    <tr>\n      <th>3</th>\n      <td>0.0</td>\n      <td>0.0</td>\n      <td>0.0</td>\n      <td>0.0</td>\n      <td>0.0</td>\n      <td>0.0</td>\n      <td>0.0</td>\n      <td>0.0</td>\n      <td>0.0</td>\n      <td>0.0</td>\n      <td>...</td>\n      <td>0.0</td>\n      <td>0.0</td>\n      <td>0.0</td>\n      <td>0.0</td>\n      <td>0.0</td>\n      <td>0.0</td>\n      <td>0.0</td>\n      <td>0.0</td>\n      <td>0.0</td>\n      <td>1.0</td>\n    </tr>\n    <tr>\n      <th>4</th>\n      <td>0.0</td>\n      <td>0.0</td>\n      <td>0.0</td>\n      <td>0.0</td>\n      <td>0.0</td>\n      <td>0.0</td>\n      <td>0.0</td>\n      <td>0.0</td>\n      <td>0.0</td>\n      <td>0.0</td>\n      <td>...</td>\n      <td>0.0</td>\n      <td>0.0</td>\n      <td>0.0</td>\n      <td>0.0</td>\n      <td>0.0</td>\n      <td>0.0</td>\n      <td>0.0</td>\n      <td>0.0</td>\n      <td>1.0</td>\n      <td>0.0</td>\n    </tr>\n    <tr>\n      <th>...</th>\n      <td>...</td>\n      <td>...</td>\n      <td>...</td>\n      <td>...</td>\n      <td>...</td>\n      <td>...</td>\n      <td>...</td>\n      <td>...</td>\n      <td>...</td>\n      <td>...</td>\n      <td>...</td>\n      <td>...</td>\n      <td>...</td>\n      <td>...</td>\n      <td>...</td>\n      <td>...</td>\n      <td>...</td>\n      <td>...</td>\n      <td>...</td>\n      <td>...</td>\n      <td>...</td>\n    </tr>\n    <tr>\n      <th>707</th>\n      <td>0.0</td>\n      <td>0.0</td>\n      <td>0.0</td>\n      <td>0.0</td>\n      <td>0.0</td>\n      <td>0.0</td>\n      <td>0.0</td>\n      <td>0.0</td>\n      <td>0.0</td>\n      <td>0.0</td>\n      <td>...</td>\n      <td>0.0</td>\n      <td>0.0</td>\n      <td>0.0</td>\n      <td>0.0</td>\n      <td>0.0</td>\n      <td>0.0</td>\n      <td>0.0</td>\n      <td>0.0</td>\n      <td>0.0</td>\n      <td>1.0</td>\n    </tr>\n    <tr>\n      <th>708</th>\n      <td>0.0</td>\n      <td>0.0</td>\n      <td>0.0</td>\n      <td>0.0</td>\n      <td>0.0</td>\n      <td>0.0</td>\n      <td>0.0</td>\n      <td>0.0</td>\n      <td>0.0</td>\n      <td>0.0</td>\n      <td>...</td>\n      <td>0.0</td>\n      <td>0.0</td>\n      <td>0.0</td>\n      <td>0.0</td>\n      <td>0.0</td>\n      <td>0.0</td>\n      <td>0.0</td>\n      <td>1.0</td>\n      <td>0.0</td>\n      <td>0.0</td>\n    </tr>\n    <tr>\n      <th>709</th>\n      <td>0.0</td>\n      <td>0.0</td>\n      <td>0.0</td>\n      <td>0.0</td>\n      <td>0.0</td>\n      <td>0.0</td>\n      <td>0.0</td>\n      <td>0.0</td>\n      <td>0.0</td>\n      <td>0.0</td>\n      <td>...</td>\n      <td>0.0</td>\n      <td>0.0</td>\n      <td>0.0</td>\n      <td>0.0</td>\n      <td>0.0</td>\n      <td>0.0</td>\n      <td>0.0</td>\n      <td>0.0</td>\n      <td>0.0</td>\n      <td>1.0</td>\n    </tr>\n    <tr>\n      <th>710</th>\n      <td>0.0</td>\n      <td>0.0</td>\n      <td>0.0</td>\n      <td>1.0</td>\n      <td>0.0</td>\n      <td>0.0</td>\n      <td>0.0</td>\n      <td>0.0</td>\n      <td>0.0</td>\n      <td>0.0</td>\n      <td>...</td>\n      <td>0.0</td>\n      <td>0.0</td>\n      <td>0.0</td>\n      <td>0.0</td>\n      <td>0.0</td>\n      <td>0.0</td>\n      <td>0.0</td>\n      <td>0.0</td>\n      <td>0.0</td>\n      <td>0.0</td>\n    </tr>\n    <tr>\n      <th>711</th>\n      <td>0.0</td>\n      <td>0.0</td>\n      <td>0.0</td>\n      <td>0.0</td>\n      <td>0.0</td>\n      <td>0.0</td>\n      <td>0.0</td>\n      <td>0.0</td>\n      <td>0.0</td>\n      <td>1.0</td>\n      <td>...</td>\n      <td>0.0</td>\n      <td>0.0</td>\n      <td>0.0</td>\n      <td>0.0</td>\n      <td>0.0</td>\n      <td>0.0</td>\n      <td>0.0</td>\n      <td>0.0</td>\n      <td>0.0</td>\n      <td>0.0</td>\n    </tr>\n  </tbody>\n</table>\n<p>712 rows × 27 columns</p>\n</div>"
     },
     "execution_count": 39,
     "metadata": {},
     "output_type": "execute_result"
    }
   ],
   "source": [
    "deck_class = pd.DataFrame()\n",
    "for col_deck in hot_deck:\n",
    "    for col_class in hot_class:\n",
    "        name = col_deck+'_'+col_class\n",
    "        new_series = pd.Series(hot_class[col_class]*hot_deck[col_deck],name=name)\n",
    "        deck_class = deck_class.append(new_series)\n",
    "deck_class = deck_class.T\n",
    "deck_class"
   ],
   "metadata": {
    "collapsed": false,
    "pycharm": {
     "name": "#%%\n"
    }
   }
  },
  {
   "cell_type": "code",
   "execution_count": 40,
   "outputs": [
    {
     "data": {
      "text/plain": "     Survived  Pclass                              Name     Sex   Age  SibSp  \\\n0           1       1              Cleaver, Miss. Alice  female  22.0      0   \n1           0       2            Hunt, Mr. George Henry    male  33.0      0   \n2           1       3       Nakid, Miss. Maria (\"Mary\")  female   1.0      0   \n3           0       3           Sage, Miss. Stella Anna  female   NaN      8   \n4           0       2       Mitchell, Mr. Henry Michael    male  70.0      0   \n..        ...     ...                               ...     ...   ...    ...   \n707         1       3  Salkjelsvik, Miss. Anna Kristine  female  21.0      0   \n708         0       1             Cairns, Mr. Alexander    male   NaN      0   \n709         0       3           Hansen, Mr. Claus Peter    male  41.0      2   \n710         1       1         Carter, Miss. Lucile Polk  female  14.0      1   \n711         0       1         White, Mr. Richard Frasar    male  21.0      0   \n\n     Parch      Ticket      Fare    Cabin  ... Deck_5_Pclass_3  \\\n0        0      113781  151.5500      NaN  ...             0.0   \n1        0  SCO/W 1585   12.2750      NaN  ...             0.0   \n2        2        2653   15.7417      NaN  ...             0.0   \n3        2    CA. 2343   69.5500      NaN  ...             0.0   \n4        0  C.A. 24580   10.5000      NaN  ...             0.0   \n..     ...         ...       ...      ...  ...             ...   \n707      0      343120    7.6500      NaN  ...             0.0   \n708      0      113798   31.0000      NaN  ...             0.0   \n709      0      350026   14.1083      NaN  ...             0.0   \n710      2      113760  120.0000  B96 B98  ...             0.0   \n711      1       35281   77.2875      D26  ...             0.0   \n\n     Deck_6_Pclass_1  Deck_6_Pclass_2 Deck_6_Pclass_3 Deck_7_Pclass_1  \\\n0                0.0              0.0             0.0             0.0   \n1                0.0              0.0             0.0             0.0   \n2                0.0              0.0             0.0             0.0   \n3                0.0              0.0             0.0             0.0   \n4                0.0              0.0             0.0             0.0   \n..               ...              ...             ...             ...   \n707              0.0              0.0             0.0             0.0   \n708              0.0              0.0             0.0             0.0   \n709              0.0              0.0             0.0             0.0   \n710              0.0              0.0             0.0             0.0   \n711              0.0              0.0             0.0             0.0   \n\n    Deck_7_Pclass_2 Deck_7_Pclass_3  Deck_8_Pclass_1  Deck_8_Pclass_2  \\\n0               0.0             0.0              1.0              0.0   \n1               0.0             0.0              0.0              1.0   \n2               0.0             0.0              0.0              0.0   \n3               0.0             0.0              0.0              0.0   \n4               0.0             0.0              0.0              1.0   \n..              ...             ...              ...              ...   \n707             0.0             0.0              0.0              0.0   \n708             0.0             0.0              1.0              0.0   \n709             0.0             0.0              0.0              0.0   \n710             0.0             0.0              0.0              0.0   \n711             0.0             0.0              0.0              0.0   \n\n    Deck_8_Pclass_3  \n0               0.0  \n1               0.0  \n2               1.0  \n3               1.0  \n4               0.0  \n..              ...  \n707             1.0  \n708             0.0  \n709             1.0  \n710             0.0  \n711             0.0  \n\n[712 rows x 101 columns]",
      "text/html": "<div>\n<style scoped>\n    .dataframe tbody tr th:only-of-type {\n        vertical-align: middle;\n    }\n\n    .dataframe tbody tr th {\n        vertical-align: top;\n    }\n\n    .dataframe thead th {\n        text-align: right;\n    }\n</style>\n<table border=\"1\" class=\"dataframe\">\n  <thead>\n    <tr style=\"text-align: right;\">\n      <th></th>\n      <th>Survived</th>\n      <th>Pclass</th>\n      <th>Name</th>\n      <th>Sex</th>\n      <th>Age</th>\n      <th>SibSp</th>\n      <th>Parch</th>\n      <th>Ticket</th>\n      <th>Fare</th>\n      <th>Cabin</th>\n      <th>...</th>\n      <th>Deck_5_Pclass_3</th>\n      <th>Deck_6_Pclass_1</th>\n      <th>Deck_6_Pclass_2</th>\n      <th>Deck_6_Pclass_3</th>\n      <th>Deck_7_Pclass_1</th>\n      <th>Deck_7_Pclass_2</th>\n      <th>Deck_7_Pclass_3</th>\n      <th>Deck_8_Pclass_1</th>\n      <th>Deck_8_Pclass_2</th>\n      <th>Deck_8_Pclass_3</th>\n    </tr>\n  </thead>\n  <tbody>\n    <tr>\n      <th>0</th>\n      <td>1</td>\n      <td>1</td>\n      <td>Cleaver, Miss. Alice</td>\n      <td>female</td>\n      <td>22.0</td>\n      <td>0</td>\n      <td>0</td>\n      <td>113781</td>\n      <td>151.5500</td>\n      <td>NaN</td>\n      <td>...</td>\n      <td>0.0</td>\n      <td>0.0</td>\n      <td>0.0</td>\n      <td>0.0</td>\n      <td>0.0</td>\n      <td>0.0</td>\n      <td>0.0</td>\n      <td>1.0</td>\n      <td>0.0</td>\n      <td>0.0</td>\n    </tr>\n    <tr>\n      <th>1</th>\n      <td>0</td>\n      <td>2</td>\n      <td>Hunt, Mr. George Henry</td>\n      <td>male</td>\n      <td>33.0</td>\n      <td>0</td>\n      <td>0</td>\n      <td>SCO/W 1585</td>\n      <td>12.2750</td>\n      <td>NaN</td>\n      <td>...</td>\n      <td>0.0</td>\n      <td>0.0</td>\n      <td>0.0</td>\n      <td>0.0</td>\n      <td>0.0</td>\n      <td>0.0</td>\n      <td>0.0</td>\n      <td>0.0</td>\n      <td>1.0</td>\n      <td>0.0</td>\n    </tr>\n    <tr>\n      <th>2</th>\n      <td>1</td>\n      <td>3</td>\n      <td>Nakid, Miss. Maria (\"Mary\")</td>\n      <td>female</td>\n      <td>1.0</td>\n      <td>0</td>\n      <td>2</td>\n      <td>2653</td>\n      <td>15.7417</td>\n      <td>NaN</td>\n      <td>...</td>\n      <td>0.0</td>\n      <td>0.0</td>\n      <td>0.0</td>\n      <td>0.0</td>\n      <td>0.0</td>\n      <td>0.0</td>\n      <td>0.0</td>\n      <td>0.0</td>\n      <td>0.0</td>\n      <td>1.0</td>\n    </tr>\n    <tr>\n      <th>3</th>\n      <td>0</td>\n      <td>3</td>\n      <td>Sage, Miss. Stella Anna</td>\n      <td>female</td>\n      <td>NaN</td>\n      <td>8</td>\n      <td>2</td>\n      <td>CA. 2343</td>\n      <td>69.5500</td>\n      <td>NaN</td>\n      <td>...</td>\n      <td>0.0</td>\n      <td>0.0</td>\n      <td>0.0</td>\n      <td>0.0</td>\n      <td>0.0</td>\n      <td>0.0</td>\n      <td>0.0</td>\n      <td>0.0</td>\n      <td>0.0</td>\n      <td>1.0</td>\n    </tr>\n    <tr>\n      <th>4</th>\n      <td>0</td>\n      <td>2</td>\n      <td>Mitchell, Mr. Henry Michael</td>\n      <td>male</td>\n      <td>70.0</td>\n      <td>0</td>\n      <td>0</td>\n      <td>C.A. 24580</td>\n      <td>10.5000</td>\n      <td>NaN</td>\n      <td>...</td>\n      <td>0.0</td>\n      <td>0.0</td>\n      <td>0.0</td>\n      <td>0.0</td>\n      <td>0.0</td>\n      <td>0.0</td>\n      <td>0.0</td>\n      <td>0.0</td>\n      <td>1.0</td>\n      <td>0.0</td>\n    </tr>\n    <tr>\n      <th>...</th>\n      <td>...</td>\n      <td>...</td>\n      <td>...</td>\n      <td>...</td>\n      <td>...</td>\n      <td>...</td>\n      <td>...</td>\n      <td>...</td>\n      <td>...</td>\n      <td>...</td>\n      <td>...</td>\n      <td>...</td>\n      <td>...</td>\n      <td>...</td>\n      <td>...</td>\n      <td>...</td>\n      <td>...</td>\n      <td>...</td>\n      <td>...</td>\n      <td>...</td>\n      <td>...</td>\n    </tr>\n    <tr>\n      <th>707</th>\n      <td>1</td>\n      <td>3</td>\n      <td>Salkjelsvik, Miss. Anna Kristine</td>\n      <td>female</td>\n      <td>21.0</td>\n      <td>0</td>\n      <td>0</td>\n      <td>343120</td>\n      <td>7.6500</td>\n      <td>NaN</td>\n      <td>...</td>\n      <td>0.0</td>\n      <td>0.0</td>\n      <td>0.0</td>\n      <td>0.0</td>\n      <td>0.0</td>\n      <td>0.0</td>\n      <td>0.0</td>\n      <td>0.0</td>\n      <td>0.0</td>\n      <td>1.0</td>\n    </tr>\n    <tr>\n      <th>708</th>\n      <td>0</td>\n      <td>1</td>\n      <td>Cairns, Mr. Alexander</td>\n      <td>male</td>\n      <td>NaN</td>\n      <td>0</td>\n      <td>0</td>\n      <td>113798</td>\n      <td>31.0000</td>\n      <td>NaN</td>\n      <td>...</td>\n      <td>0.0</td>\n      <td>0.0</td>\n      <td>0.0</td>\n      <td>0.0</td>\n      <td>0.0</td>\n      <td>0.0</td>\n      <td>0.0</td>\n      <td>1.0</td>\n      <td>0.0</td>\n      <td>0.0</td>\n    </tr>\n    <tr>\n      <th>709</th>\n      <td>0</td>\n      <td>3</td>\n      <td>Hansen, Mr. Claus Peter</td>\n      <td>male</td>\n      <td>41.0</td>\n      <td>2</td>\n      <td>0</td>\n      <td>350026</td>\n      <td>14.1083</td>\n      <td>NaN</td>\n      <td>...</td>\n      <td>0.0</td>\n      <td>0.0</td>\n      <td>0.0</td>\n      <td>0.0</td>\n      <td>0.0</td>\n      <td>0.0</td>\n      <td>0.0</td>\n      <td>0.0</td>\n      <td>0.0</td>\n      <td>1.0</td>\n    </tr>\n    <tr>\n      <th>710</th>\n      <td>1</td>\n      <td>1</td>\n      <td>Carter, Miss. Lucile Polk</td>\n      <td>female</td>\n      <td>14.0</td>\n      <td>1</td>\n      <td>2</td>\n      <td>113760</td>\n      <td>120.0000</td>\n      <td>B96 B98</td>\n      <td>...</td>\n      <td>0.0</td>\n      <td>0.0</td>\n      <td>0.0</td>\n      <td>0.0</td>\n      <td>0.0</td>\n      <td>0.0</td>\n      <td>0.0</td>\n      <td>0.0</td>\n      <td>0.0</td>\n      <td>0.0</td>\n    </tr>\n    <tr>\n      <th>711</th>\n      <td>0</td>\n      <td>1</td>\n      <td>White, Mr. Richard Frasar</td>\n      <td>male</td>\n      <td>21.0</td>\n      <td>0</td>\n      <td>1</td>\n      <td>35281</td>\n      <td>77.2875</td>\n      <td>D26</td>\n      <td>...</td>\n      <td>0.0</td>\n      <td>0.0</td>\n      <td>0.0</td>\n      <td>0.0</td>\n      <td>0.0</td>\n      <td>0.0</td>\n      <td>0.0</td>\n      <td>0.0</td>\n      <td>0.0</td>\n      <td>0.0</td>\n    </tr>\n  </tbody>\n</table>\n<p>712 rows × 101 columns</p>\n</div>"
     },
     "execution_count": 40,
     "metadata": {},
     "output_type": "execute_result"
    }
   ],
   "source": [
    "train = pd.concat([train,deck_class],axis=1)\n",
    "train"
   ],
   "metadata": {
    "collapsed": false,
    "pycharm": {
     "name": "#%%\n"
    }
   }
  },
  {
   "cell_type": "code",
   "execution_count": 41,
   "outputs": [],
   "source": [
    "sacrifice_df = pd.DataFrame()\n",
    "for col_age in hot_ages.columns[1:]:\n",
    "    name = 'Male_'+col_age[-1]+'_Has_Relatives'\n",
    "    new_series = pd.Series(hot_ages[col_age]*hot_sex.iloc[:,1]*train.Has_Relatives,name=name)\n",
    "    sacrifice_df = sacrifice_df.append(new_series)\n",
    "sacrifice_df = sacrifice_df.T\n",
    "train = pd.concat([train,sacrifice_df],axis=1)"
   ],
   "metadata": {
    "collapsed": false,
    "pycharm": {
     "name": "#%%\n"
    }
   }
  },
  {
   "cell_type": "code",
   "execution_count": 42,
   "outputs": [
    {
     "data": {
      "text/plain": "Survived             int64\nPclass               int64\nName                object\nSex                 object\nAge                float64\nSibSp                int64\nParch                int64\nTicket              object\nFare               float64\nCabin               object\nEmbarked            object\nAge_is_na            int32\nCabin_is_na          int32\nTicket_n            object\nTicket_pre          object\nTicket_pre_fill     object\nCabin_Deck          object\nRelatives            int64\nHas_Relatives        int32\nTitle               object\ndtype: object"
     },
     "execution_count": 42,
     "metadata": {},
     "output_type": "execute_result"
    }
   ],
   "source": [
    "train.dtypes[:20]"
   ],
   "metadata": {
    "collapsed": false,
    "pycharm": {
     "name": "#%%\n"
    }
   }
  },
  {
   "cell_type": "code",
   "execution_count": 43,
   "outputs": [
    {
     "data": {
      "text/plain": "       Ticket Ticket_n Ticket_pre Ticket_pre_fill\n0      113781   113781        NaN              -1\n1  SCO/W 1585     1585       SCOW            SCOW\n2        2653     2653        NaN              -1\n3    CA. 2343     2343         CA              CA\n4  C.A. 24580    24580         CA              CA",
      "text/html": "<div>\n<style scoped>\n    .dataframe tbody tr th:only-of-type {\n        vertical-align: middle;\n    }\n\n    .dataframe tbody tr th {\n        vertical-align: top;\n    }\n\n    .dataframe thead th {\n        text-align: right;\n    }\n</style>\n<table border=\"1\" class=\"dataframe\">\n  <thead>\n    <tr style=\"text-align: right;\">\n      <th></th>\n      <th>Ticket</th>\n      <th>Ticket_n</th>\n      <th>Ticket_pre</th>\n      <th>Ticket_pre_fill</th>\n    </tr>\n  </thead>\n  <tbody>\n    <tr>\n      <th>0</th>\n      <td>113781</td>\n      <td>113781</td>\n      <td>NaN</td>\n      <td>-1</td>\n    </tr>\n    <tr>\n      <th>1</th>\n      <td>SCO/W 1585</td>\n      <td>1585</td>\n      <td>SCOW</td>\n      <td>SCOW</td>\n    </tr>\n    <tr>\n      <th>2</th>\n      <td>2653</td>\n      <td>2653</td>\n      <td>NaN</td>\n      <td>-1</td>\n    </tr>\n    <tr>\n      <th>3</th>\n      <td>CA. 2343</td>\n      <td>2343</td>\n      <td>CA</td>\n      <td>CA</td>\n    </tr>\n    <tr>\n      <th>4</th>\n      <td>C.A. 24580</td>\n      <td>24580</td>\n      <td>CA</td>\n      <td>CA</td>\n    </tr>\n  </tbody>\n</table>\n</div>"
     },
     "execution_count": 43,
     "metadata": {},
     "output_type": "execute_result"
    }
   ],
   "source": [
    "ticket_col = [t for t in train.columns if 'Ticket' in t]\n",
    "train[ticket_col].head()"
   ],
   "metadata": {
    "collapsed": false,
    "pycharm": {
     "name": "#%%\n"
    }
   }
  },
  {
   "cell_type": "code",
   "execution_count": 44,
   "outputs": [
    {
     "data": {
      "text/plain": "Index(['Age', 'Cabin', 'Embarked', 'Ticket_pre', 'Cabin_Deck'], dtype='object')"
     },
     "execution_count": 44,
     "metadata": {},
     "output_type": "execute_result"
    }
   ],
   "source": [
    "enc = OneHotEncoder(sparse=False,handle_unknown='ignore')\n",
    "emb = pd.DataFrame(enc.fit_transform(train['Embarked'].fillna('-1').to_frame()),\n",
    "                   columns=enc.get_feature_names(['Embarked']))\n",
    "emb\n",
    "new_train = pd.concat([train,emb],axis=1)\n",
    "new_train.columns[new_train.isna().sum()>0]"
   ],
   "metadata": {
    "collapsed": false,
    "pycharm": {
     "name": "#%%\n"
    }
   }
  },
  {
   "cell_type": "code",
   "execution_count": 45,
   "outputs": [
    {
     "data": {
      "text/plain": "Index([], dtype='object')"
     },
     "execution_count": 45,
     "metadata": {},
     "output_type": "execute_result"
    },
    {
     "data": {
      "text/plain": "<Figure size 1584x1440 with 0 Axes>"
     },
     "metadata": {},
     "output_type": "display_data"
    }
   ],
   "source": [
    "plt.figure(figsize=(22,20))\n",
    "heatmap = train.select_dtypes(exclude=object).drop(['Age'],axis=1)\n",
    "heatmap.columns[heatmap.isna().sum()>0]\n",
    "# heatmap = heatmap.corr()\n",
    "# sns.heatmap(heatmap)"
   ],
   "metadata": {
    "collapsed": false,
    "pycharm": {
     "name": "#%%\n"
    }
   }
  },
  {
   "cell_type": "code",
   "execution_count": 46,
   "outputs": [
    {
     "data": {
      "text/plain": "array([[1., 8., 0., ..., 0., 0., 0.],\n       [2., 8., 1., ..., 0., 0., 0.],\n       [3., 8., 0., ..., 0., 0., 1.],\n       ...,\n       [3., 8., 1., ..., 0., 0., 1.],\n       [1., 1., 0., ..., 0., 1., 0.],\n       [1., 3., 1., ..., 0., 0., 0.]])"
     },
     "execution_count": 46,
     "metadata": {},
     "output_type": "execute_result"
    }
   ],
   "source": [
    "kb_df = heatmap.drop(['Fare','Survived'],axis=1)\n",
    "kb_df.isna().sum(axis=0)\n",
    "kb = SelectKBest(chi2,k=20)\n",
    "kb.fit_transform(kb_df,train['Survived'].to_frame())"
   ],
   "metadata": {
    "collapsed": false,
    "pycharm": {
     "name": "#%%\n"
    }
   }
  },
  {
   "cell_type": "code",
   "execution_count": 47,
   "outputs": [],
   "source": [
    "def selectKBest_and_plot(X,y,cols='all',k=6,v=True):\n",
    "    if cols=='all':\n",
    "        cols = X.columns\n",
    "    kb = SelectKBest(chi2,k=k)\n",
    "    best_cat = pd.DataFrame(kb.fit_transform(X[cols], y),columns=cols[kb.get_support()])\n",
    "    score_table = pd.DataFrame(np.c_[cols,kb.pvalues_][kb.get_support()],columns=['columns','scores'])\n",
    "    if v:\n",
    "        plt.figure(figsize=(8,6))\n",
    "        plt.bar(cols,kb.scores_)\n",
    "        plt.title('category scores from Chi2')\n",
    "        plt.show()\n",
    "        print(pd.DataFrame(np.c_[cols,kb.scores_],columns=['cat','chi_scores']))\n",
    "        print('selected: \\n',score_table)\n",
    "    return best_cat,score_table"
   ],
   "metadata": {
    "collapsed": false,
    "pycharm": {
     "name": "#%%\n"
    }
   }
  },
  {
   "cell_type": "code",
   "execution_count": 48,
   "outputs": [
    {
     "data": {
      "text/plain": "<Figure size 576x432 with 1 Axes>",
      "image/png": "[encoded data removed]"
     },
     "metadata": {
      "needs_background": "dark"
     },
     "output_type": "display_data"
    },
    {
     "name": "stdout",
     "output_type": "stream",
     "text": [
      "                     cat chi_scores\n",
      "0                 Pclass    25.6444\n",
      "1                  SibSp    3.77177\n",
      "2                  Parch    3.09297\n",
      "3              Age_is_na    4.54144\n",
      "4            Cabin_is_na    17.6687\n",
      "..                   ...        ...\n",
      "86       Deck_8_Pclass_2    1.72607\n",
      "87       Deck_8_Pclass_3    34.7338\n",
      "88  Male_1_Has_Relatives    14.3778\n",
      "89  Male_2_Has_Relatives    1.82027\n",
      "90  Male_3_Has_Relatives  0.0252447\n",
      "\n",
      "[91 rows x 2 columns]\n",
      "selected: \n",
      "                  columns       scores\n",
      "0                 Pclass  4.10482e-07\n",
      "1                  SibSp    0.0521243\n",
      "2                  Parch    0.0786312\n",
      "3              Age_is_na    0.0330838\n",
      "4            Cabin_is_na  2.62914e-05\n",
      "..                   ...          ...\n",
      "85       Deck_8_Pclass_2     0.188914\n",
      "86       Deck_8_Pclass_3  3.78011e-09\n",
      "87  Male_1_Has_Relatives  0.000149553\n",
      "88  Male_2_Has_Relatives     0.177281\n",
      "89  Male_3_Has_Relatives     0.873759\n",
      "\n",
      "[90 rows x 2 columns]\n"
     ]
    },
    {
     "data": {
      "text/plain": "                  columns       scores\n9              Sex_Binary   2.8001e-16\n7          Cabin_Deck_Ord  4.45465e-16\n22   Cabin_Deck_down_to_6  1.21217e-15\n20   Cabin_Deck_down_to_5  1.43227e-15\n40  female_Age_2_Pclass_1  2.90389e-15\n15     Cabin_Deck_up_to_1  3.55691e-15\n24   Cabin_Deck_down_to_7  4.85862e-15\n13     Cabin_Deck_up_to_0  9.55146e-15\n50    male_Age_1_Pclass_3  4.55451e-13\n18   Cabin_Deck_down_to_4  2.14106e-11\n37  female_Age_1_Pclass_1  6.67699e-11\n38  female_Age_1_Pclass_2  3.07737e-10\n17     Cabin_Deck_up_to_2  6.91526e-10\n86        Deck_8_Pclass_3  3.78011e-09\n16   Cabin_Deck_down_to_3  5.59373e-09\n19     Cabin_Deck_up_to_3  3.22165e-07\n0                  Pclass  4.10482e-07\n63        Deck_1_Pclass_1   4.6135e-07\n58         Child_Pclass_2  6.68938e-07\n14   Cabin_Deck_down_to_2   2.3229e-06\n41  female_Age_2_Pclass_2  3.88323e-06\n49    male_Age_1_Pclass_2  2.19536e-05\n4             Cabin_is_na  2.62914e-05\n53    male_Age_2_Pclass_3  4.21589e-05\n21     Cabin_Deck_up_to_4  9.79183e-05\n87   Male_1_Has_Relatives  0.000149553\n72        Deck_4_Pclass_1  0.000214727\n46    male_Age_0_Pclass_2  0.000283751\n6           Has_Relatives  0.000340074\n66        Deck_2_Pclass_1  0.000412121",
      "text/html": "<div>\n<style scoped>\n    .dataframe tbody tr th:only-of-type {\n        vertical-align: middle;\n    }\n\n    .dataframe tbody tr th {\n        vertical-align: top;\n    }\n\n    .dataframe thead th {\n        text-align: right;\n    }\n</style>\n<table border=\"1\" class=\"dataframe\">\n  <thead>\n    <tr style=\"text-align: right;\">\n      <th></th>\n      <th>columns</th>\n      <th>scores</th>\n    </tr>\n  </thead>\n  <tbody>\n    <tr>\n      <th>9</th>\n      <td>Sex_Binary</td>\n      <td>2.8001e-16</td>\n    </tr>\n    <tr>\n      <th>7</th>\n      <td>Cabin_Deck_Ord</td>\n      <td>4.45465e-16</td>\n    </tr>\n    <tr>\n      <th>22</th>\n      <td>Cabin_Deck_down_to_6</td>\n      <td>1.21217e-15</td>\n    </tr>\n    <tr>\n      <th>20</th>\n      <td>Cabin_Deck_down_to_5</td>\n      <td>1.43227e-15</td>\n    </tr>\n    <tr>\n      <th>40</th>\n      <td>female_Age_2_Pclass_1</td>\n      <td>2.90389e-15</td>\n    </tr>\n    <tr>\n      <th>15</th>\n      <td>Cabin_Deck_up_to_1</td>\n      <td>3.55691e-15</td>\n    </tr>\n    <tr>\n      <th>24</th>\n      <td>Cabin_Deck_down_to_7</td>\n      <td>4.85862e-15</td>\n    </tr>\n    <tr>\n      <th>13</th>\n      <td>Cabin_Deck_up_to_0</td>\n      <td>9.55146e-15</td>\n    </tr>\n    <tr>\n      <th>50</th>\n      <td>male_Age_1_Pclass_3</td>\n      <td>4.55451e-13</td>\n    </tr>\n    <tr>\n      <th>18</th>\n      <td>Cabin_Deck_down_to_4</td>\n      <td>2.14106e-11</td>\n    </tr>\n    <tr>\n      <th>37</th>\n      <td>female_Age_1_Pclass_1</td>\n      <td>6.67699e-11</td>\n    </tr>\n    <tr>\n      <th>38</th>\n      <td>female_Age_1_Pclass_2</td>\n      <td>3.07737e-10</td>\n    </tr>\n    <tr>\n      <th>17</th>\n      <td>Cabin_Deck_up_to_2</td>\n      <td>6.91526e-10</td>\n    </tr>\n    <tr>\n      <th>86</th>\n      <td>Deck_8_Pclass_3</td>\n      <td>3.78011e-09</td>\n    </tr>\n    <tr>\n      <th>16</th>\n      <td>Cabin_Deck_down_to_3</td>\n      <td>5.59373e-09</td>\n    </tr>\n    <tr>\n      <th>19</th>\n      <td>Cabin_Deck_up_to_3</td>\n      <td>3.22165e-07</td>\n    </tr>\n    <tr>\n      <th>0</th>\n      <td>Pclass</td>\n      <td>4.10482e-07</td>\n    </tr>\n    <tr>\n      <th>63</th>\n      <td>Deck_1_Pclass_1</td>\n      <td>4.6135e-07</td>\n    </tr>\n    <tr>\n      <th>58</th>\n      <td>Child_Pclass_2</td>\n      <td>6.68938e-07</td>\n    </tr>\n    <tr>\n      <th>14</th>\n      <td>Cabin_Deck_down_to_2</td>\n      <td>2.3229e-06</td>\n    </tr>\n    <tr>\n      <th>41</th>\n      <td>female_Age_2_Pclass_2</td>\n      <td>3.88323e-06</td>\n    </tr>\n    <tr>\n      <th>49</th>\n      <td>male_Age_1_Pclass_2</td>\n      <td>2.19536e-05</td>\n    </tr>\n    <tr>\n      <th>4</th>\n      <td>Cabin_is_na</td>\n      <td>2.62914e-05</td>\n    </tr>\n    <tr>\n      <th>53</th>\n      <td>male_Age_2_Pclass_3</td>\n      <td>4.21589e-05</td>\n    </tr>\n    <tr>\n      <th>21</th>\n      <td>Cabin_Deck_up_to_4</td>\n      <td>9.79183e-05</td>\n    </tr>\n    <tr>\n      <th>87</th>\n      <td>Male_1_Has_Relatives</td>\n      <td>0.000149553</td>\n    </tr>\n    <tr>\n      <th>72</th>\n      <td>Deck_4_Pclass_1</td>\n      <td>0.000214727</td>\n    </tr>\n    <tr>\n      <th>46</th>\n      <td>male_Age_0_Pclass_2</td>\n      <td>0.000283751</td>\n    </tr>\n    <tr>\n      <th>6</th>\n      <td>Has_Relatives</td>\n      <td>0.000340074</td>\n    </tr>\n    <tr>\n      <th>66</th>\n      <td>Deck_2_Pclass_1</td>\n      <td>0.000412121</td>\n    </tr>\n  </tbody>\n</table>\n</div>"
     },
     "execution_count": 48,
     "metadata": {},
     "output_type": "execute_result"
    }
   ],
   "source": [
    "\n",
    "age_cols = [col for col in kb_df if col.startswith('Age')]\n",
    "res, score_table = selectKBest_and_plot(kb_df,train['Survived'],cols='all',k=90)\n",
    "# res.iloc[:,[0,1,5,6,8,9]]\n",
    "score_table.sort_values('scores')[:30]\n",
    "# lr = RandomForestClassifier(n_estimators=400,max_depth=5)\n",
    "# lr.fit(cols,y)\n",
    "# roc_auc_score(y,lr.predict(y.to_frame()))\n",
    "# X['female_Age_2_Pclass_1'] = X['Sex'] == 0 and X['Pclass'] == 1 and X['Age']>16"
   ],
   "metadata": {
    "collapsed": false,
    "pycharm": {
     "name": "#%%\n"
    }
   }
  },
  {
   "cell_type": "code",
   "execution_count": 49,
   "outputs": [],
   "source": [
    "def cross_val_score_regular(est,X,y):\n",
    "    kf = KFold(shuffle=True)\n",
    "    scores = np.zeros(5)\n",
    "    for i,(train_index, test_index) in enumerate(kf.split(X)):\n",
    "        X_train, X_test = X.iloc[train_index], X.iloc[test_index]\n",
    "        y_train, y_test = y.iloc[train_index], y.iloc[test_index]\n",
    "        e = est\n",
    "        e.fit(X_train,y_train)\n",
    "        scores[i] = roc_auc_score(y_test,e.predict(X_test))\n",
    "    return scores.mean()"
   ],
   "metadata": {
    "collapsed": false,
    "pycharm": {
     "name": "#%%\n"
    }
   }
  },
  {
   "cell_type": "code",
   "execution_count": 50,
   "outputs": [
    {
     "name": "stdout",
     "output_type": "stream",
     "text": [
      "0.7849790009911035 \n",
      " 0.7849790009911035\n"
     ]
    }
   ],
   "source": [
    "scaler = StandardScaler()\n",
    "cont_scaled = pd.DataFrame(scaler.fit_transform(train[['Fare','Age_Title_Impute']]),columns=['Fare','Age_Title_Impute'])\n",
    "final_x = pd.concat([res.iloc[:,[0,1,6,8,9]],cont_scaled],axis=1)\n",
    "lr = RandomForestClassifier(n_estimators=400,max_depth=5)\n",
    "score = cross_val_score_regular(RandomForestClassifier(n_estimators=400,max_depth=5),final_x,y)\n",
    "print(score,'\\n',score.mean())\n"
   ],
   "metadata": {
    "collapsed": false,
    "pycharm": {
     "name": "#%%\n"
    }
   }
  },
  {
   "cell_type": "code",
   "execution_count": 51,
   "outputs": [
    {
     "name": "stdout",
     "output_type": "stream",
     "text": [
      "Survived          0    1\n",
      "Child_Pclass_1          \n",
      "0.0             442  266\n",
      "1.0               1    3\n",
      "scipy:  (1.0456252368430023, 0.3065167899132147, 1, array([[440.51123596, 267.48876404],\n",
      "       [  2.48876404,   1.51123596]]))\n",
      "\n",
      "sklearn:  (array([2.3571962]), array([0.12470615]))\n"
     ]
    }
   ],
   "source": [
    "from scipy.stats import chi2_contingency\n",
    "# y[final_x[kb_df.female_Age_1_Pclass_2==1].index].mean()\n",
    "x = kb_df.Child_Pclass_1\n",
    "ct = pd.crosstab(x,y)\n",
    "print(ct)\n",
    "print('scipy: ',chi2_contingency(ct))\n",
    "print('\\nsklearn: ',chi2(x.to_frame(),y))\n",
    "# chi2(kb_df.Female_Age_1_Pclass_2.to_frame(),y)"
   ],
   "metadata": {
    "collapsed": false,
    "pycharm": {
     "name": "#%%\n"
    }
   }
  },
  {
   "cell_type": "code",
   "execution_count": 52,
   "outputs": [
    {
     "data": {
      "text/plain": "     Survived  Pclass                                      Name     Sex  \\\n109         1       2                Navratil, Master. Michel M    male   \n193         1       2                     Mallet, Master. Andre    male   \n199         1       2  Laroche, Miss. Simonne Marie Anne Andree  female   \n234         1       2       Nasser, Mrs. Nicholas (Adele Achem)  female   \n243         1       2            Navratil, Master. Edmond Roger    male   \n247         1       2          Collyer, Miss. Marjorie \"Lottie\"  female   \n259         1       2            Davies, Master. John Morgan Jr    male   \n280         1       2                  Quick, Miss. Phyllis May  female   \n347         1       2            Richards, Master. William Rowe    male   \n394         1       2         Harper, Miss. Annie Jessie \"Nina\"  female   \n474         1       2                 Becker, Master. Richard F    male   \n508         1       2                         Wells, Miss. Joan  female   \n563         1       2                 Hamalainen, Master. Viljo    male   \n662         1       2           Richards, Master. George Sibley    male   \n673         1       2              West, Miss. Constance Mirium  female   \n\n       Age  SibSp  Parch           Ticket     Fare Cabin  ... Deck_6_Pclass_3  \\\n109   3.00      1      1           230080  26.0000    F2  ...             0.0   \n193   1.00      0      2  S.C./PARIS 2079  37.0042   NaN  ...             0.0   \n199   3.00      1      2    SC/Paris 2123  41.5792   NaN  ...             0.0   \n234  14.00      1      0           237736  30.0708   NaN  ...             0.0   \n243   2.00      1      1           230080  26.0000    F2  ...             0.0   \n247   8.00      0      2       C.A. 31921  26.2500   NaN  ...             0.0   \n259   8.00      1      1       C.A. 33112  36.7500   NaN  ...             0.0   \n280   2.00      1      1            26360  26.0000   NaN  ...             0.0   \n347   3.00      1      1            29106  18.7500   NaN  ...             0.0   \n394   6.00      0      1           248727  33.0000   NaN  ...             0.0   \n474   1.00      2      1           230136  39.0000    F4  ...             0.0   \n508   4.00      1      1            29103  23.0000   NaN  ...             0.0   \n563   0.67      1      1           250649  14.5000   NaN  ...             0.0   \n662   0.83      1      1            29106  18.7500   NaN  ...             0.0   \n673   5.00      1      2       C.A. 34651  27.7500   NaN  ...             0.0   \n\n     Deck_7_Pclass_1  Deck_7_Pclass_2 Deck_7_Pclass_3 Deck_8_Pclass_1  \\\n109              0.0              0.0             0.0             0.0   \n193              0.0              0.0             0.0             0.0   \n199              0.0              0.0             0.0             0.0   \n234              0.0              0.0             0.0             0.0   \n243              0.0              0.0             0.0             0.0   \n247              0.0              0.0             0.0             0.0   \n259              0.0              0.0             0.0             0.0   \n280              0.0              0.0             0.0             0.0   \n347              0.0              0.0             0.0             0.0   \n394              0.0              0.0             0.0             0.0   \n474              0.0              0.0             0.0             0.0   \n508              0.0              0.0             0.0             0.0   \n563              0.0              0.0             0.0             0.0   \n662              0.0              0.0             0.0             0.0   \n673              0.0              0.0             0.0             0.0   \n\n    Deck_8_Pclass_2 Deck_8_Pclass_3  Male_1_Has_Relatives  \\\n109             0.0             0.0                   0.0   \n193             1.0             0.0                   0.0   \n199             1.0             0.0                   0.0   \n234             1.0             0.0                   0.0   \n243             0.0             0.0                   0.0   \n247             1.0             0.0                   0.0   \n259             1.0             0.0                   0.0   \n280             1.0             0.0                   0.0   \n347             1.0             0.0                   0.0   \n394             1.0             0.0                   0.0   \n474             0.0             0.0                   0.0   \n508             1.0             0.0                   0.0   \n563             1.0             0.0                   0.0   \n662             1.0             0.0                   0.0   \n673             1.0             0.0                   0.0   \n\n     Male_2_Has_Relatives Male_3_Has_Relatives  \n109                   0.0                  0.0  \n193                   0.0                  0.0  \n199                   0.0                  0.0  \n234                   0.0                  0.0  \n243                   0.0                  0.0  \n247                   0.0                  0.0  \n259                   0.0                  0.0  \n280                   0.0                  0.0  \n347                   0.0                  0.0  \n394                   0.0                  0.0  \n474                   0.0                  0.0  \n508                   0.0                  0.0  \n563                   0.0                  0.0  \n662                   0.0                  0.0  \n673                   0.0                  0.0  \n\n[15 rows x 104 columns]",
      "text/html": "<div>\n<style scoped>\n    .dataframe tbody tr th:only-of-type {\n        vertical-align: middle;\n    }\n\n    .dataframe tbody tr th {\n        vertical-align: top;\n    }\n\n    .dataframe thead th {\n        text-align: right;\n    }\n</style>\n<table border=\"1\" class=\"dataframe\">\n  <thead>\n    <tr style=\"text-align: right;\">\n      <th></th>\n      <th>Survived</th>\n      <th>Pclass</th>\n      <th>Name</th>\n      <th>Sex</th>\n      <th>Age</th>\n      <th>SibSp</th>\n      <th>Parch</th>\n      <th>Ticket</th>\n      <th>Fare</th>\n      <th>Cabin</th>\n      <th>...</th>\n      <th>Deck_6_Pclass_3</th>\n      <th>Deck_7_Pclass_1</th>\n      <th>Deck_7_Pclass_2</th>\n      <th>Deck_7_Pclass_3</th>\n      <th>Deck_8_Pclass_1</th>\n      <th>Deck_8_Pclass_2</th>\n      <th>Deck_8_Pclass_3</th>\n      <th>Male_1_Has_Relatives</th>\n      <th>Male_2_Has_Relatives</th>\n      <th>Male_3_Has_Relatives</th>\n    </tr>\n  </thead>\n  <tbody>\n    <tr>\n      <th>109</th>\n      <td>1</td>\n      <td>2</td>\n      <td>Navratil, Master. Michel M</td>\n      <td>male</td>\n      <td>3.00</td>\n      <td>1</td>\n      <td>1</td>\n      <td>230080</td>\n      <td>26.0000</td>\n      <td>F2</td>\n      <td>...</td>\n      <td>0.0</td>\n      <td>0.0</td>\n      <td>0.0</td>\n      <td>0.0</td>\n      <td>0.0</td>\n      <td>0.0</td>\n      <td>0.0</td>\n      <td>0.0</td>\n      <td>0.0</td>\n      <td>0.0</td>\n    </tr>\n    <tr>\n      <th>193</th>\n      <td>1</td>\n      <td>2</td>\n      <td>Mallet, Master. Andre</td>\n      <td>male</td>\n      <td>1.00</td>\n      <td>0</td>\n      <td>2</td>\n      <td>S.C./PARIS 2079</td>\n      <td>37.0042</td>\n      <td>NaN</td>\n      <td>...</td>\n      <td>0.0</td>\n      <td>0.0</td>\n      <td>0.0</td>\n      <td>0.0</td>\n      <td>0.0</td>\n      <td>1.0</td>\n      <td>0.0</td>\n      <td>0.0</td>\n      <td>0.0</td>\n      <td>0.0</td>\n    </tr>\n    <tr>\n      <th>199</th>\n      <td>1</td>\n      <td>2</td>\n      <td>Laroche, Miss. Simonne Marie Anne Andree</td>\n      <td>female</td>\n      <td>3.00</td>\n      <td>1</td>\n      <td>2</td>\n      <td>SC/Paris 2123</td>\n      <td>41.5792</td>\n      <td>NaN</td>\n      <td>...</td>\n      <td>0.0</td>\n      <td>0.0</td>\n      <td>0.0</td>\n      <td>0.0</td>\n      <td>0.0</td>\n      <td>1.0</td>\n      <td>0.0</td>\n      <td>0.0</td>\n      <td>0.0</td>\n      <td>0.0</td>\n    </tr>\n    <tr>\n      <th>234</th>\n      <td>1</td>\n      <td>2</td>\n      <td>Nasser, Mrs. Nicholas (Adele Achem)</td>\n      <td>female</td>\n      <td>14.00</td>\n      <td>1</td>\n      <td>0</td>\n      <td>237736</td>\n      <td>30.0708</td>\n      <td>NaN</td>\n      <td>...</td>\n      <td>0.0</td>\n      <td>0.0</td>\n      <td>0.0</td>\n      <td>0.0</td>\n      <td>0.0</td>\n      <td>1.0</td>\n      <td>0.0</td>\n      <td>0.0</td>\n      <td>0.0</td>\n      <td>0.0</td>\n    </tr>\n    <tr>\n      <th>243</th>\n      <td>1</td>\n      <td>2</td>\n      <td>Navratil, Master. Edmond Roger</td>\n      <td>male</td>\n      <td>2.00</td>\n      <td>1</td>\n      <td>1</td>\n      <td>230080</td>\n      <td>26.0000</td>\n      <td>F2</td>\n      <td>...</td>\n      <td>0.0</td>\n      <td>0.0</td>\n      <td>0.0</td>\n      <td>0.0</td>\n      <td>0.0</td>\n      <td>0.0</td>\n      <td>0.0</td>\n      <td>0.0</td>\n      <td>0.0</td>\n      <td>0.0</td>\n    </tr>\n    <tr>\n      <th>247</th>\n      <td>1</td>\n      <td>2</td>\n      <td>Collyer, Miss. Marjorie \"Lottie\"</td>\n      <td>female</td>\n      <td>8.00</td>\n      <td>0</td>\n      <td>2</td>\n      <td>C.A. 31921</td>\n      <td>26.2500</td>\n      <td>NaN</td>\n      <td>...</td>\n      <td>0.0</td>\n      <td>0.0</td>\n      <td>0.0</td>\n      <td>0.0</td>\n      <td>0.0</td>\n      <td>1.0</td>\n      <td>0.0</td>\n      <td>0.0</td>\n      <td>0.0</td>\n      <td>0.0</td>\n    </tr>\n    <tr>\n      <th>259</th>\n      <td>1</td>\n      <td>2</td>\n      <td>Davies, Master. John Morgan Jr</td>\n      <td>male</td>\n      <td>8.00</td>\n      <td>1</td>\n      <td>1</td>\n      <td>C.A. 33112</td>\n      <td>36.7500</td>\n      <td>NaN</td>\n      <td>...</td>\n      <td>0.0</td>\n      <td>0.0</td>\n      <td>0.0</td>\n      <td>0.0</td>\n      <td>0.0</td>\n      <td>1.0</td>\n      <td>0.0</td>\n      <td>0.0</td>\n      <td>0.0</td>\n      <td>0.0</td>\n    </tr>\n    <tr>\n      <th>280</th>\n      <td>1</td>\n      <td>2</td>\n      <td>Quick, Miss. Phyllis May</td>\n      <td>female</td>\n      <td>2.00</td>\n      <td>1</td>\n      <td>1</td>\n      <td>26360</td>\n      <td>26.0000</td>\n      <td>NaN</td>\n      <td>...</td>\n      <td>0.0</td>\n      <td>0.0</td>\n      <td>0.0</td>\n      <td>0.0</td>\n      <td>0.0</td>\n      <td>1.0</td>\n      <td>0.0</td>\n      <td>0.0</td>\n      <td>0.0</td>\n      <td>0.0</td>\n    </tr>\n    <tr>\n      <th>347</th>\n      <td>1</td>\n      <td>2</td>\n      <td>Richards, Master. William Rowe</td>\n      <td>male</td>\n      <td>3.00</td>\n      <td>1</td>\n      <td>1</td>\n      <td>29106</td>\n      <td>18.7500</td>\n      <td>NaN</td>\n      <td>...</td>\n      <td>0.0</td>\n      <td>0.0</td>\n      <td>0.0</td>\n      <td>0.0</td>\n      <td>0.0</td>\n      <td>1.0</td>\n      <td>0.0</td>\n      <td>0.0</td>\n      <td>0.0</td>\n      <td>0.0</td>\n    </tr>\n    <tr>\n      <th>394</th>\n      <td>1</td>\n      <td>2</td>\n      <td>Harper, Miss. Annie Jessie \"Nina\"</td>\n      <td>female</td>\n      <td>6.00</td>\n      <td>0</td>\n      <td>1</td>\n      <td>248727</td>\n      <td>33.0000</td>\n      <td>NaN</td>\n      <td>...</td>\n      <td>0.0</td>\n      <td>0.0</td>\n      <td>0.0</td>\n      <td>0.0</td>\n      <td>0.0</td>\n      <td>1.0</td>\n      <td>0.0</td>\n      <td>0.0</td>\n      <td>0.0</td>\n      <td>0.0</td>\n    </tr>\n    <tr>\n      <th>474</th>\n      <td>1</td>\n      <td>2</td>\n      <td>Becker, Master. Richard F</td>\n      <td>male</td>\n      <td>1.00</td>\n      <td>2</td>\n      <td>1</td>\n      <td>230136</td>\n      <td>39.0000</td>\n      <td>F4</td>\n      <td>...</td>\n      <td>0.0</td>\n      <td>0.0</td>\n      <td>0.0</td>\n      <td>0.0</td>\n      <td>0.0</td>\n      <td>0.0</td>\n      <td>0.0</td>\n      <td>0.0</td>\n      <td>0.0</td>\n      <td>0.0</td>\n    </tr>\n    <tr>\n      <th>508</th>\n      <td>1</td>\n      <td>2</td>\n      <td>Wells, Miss. Joan</td>\n      <td>female</td>\n      <td>4.00</td>\n      <td>1</td>\n      <td>1</td>\n      <td>29103</td>\n      <td>23.0000</td>\n      <td>NaN</td>\n      <td>...</td>\n      <td>0.0</td>\n      <td>0.0</td>\n      <td>0.0</td>\n      <td>0.0</td>\n      <td>0.0</td>\n      <td>1.0</td>\n      <td>0.0</td>\n      <td>0.0</td>\n      <td>0.0</td>\n      <td>0.0</td>\n    </tr>\n    <tr>\n      <th>563</th>\n      <td>1</td>\n      <td>2</td>\n      <td>Hamalainen, Master. Viljo</td>\n      <td>male</td>\n      <td>0.67</td>\n      <td>1</td>\n      <td>1</td>\n      <td>250649</td>\n      <td>14.5000</td>\n      <td>NaN</td>\n      <td>...</td>\n      <td>0.0</td>\n      <td>0.0</td>\n      <td>0.0</td>\n      <td>0.0</td>\n      <td>0.0</td>\n      <td>1.0</td>\n      <td>0.0</td>\n      <td>0.0</td>\n      <td>0.0</td>\n      <td>0.0</td>\n    </tr>\n    <tr>\n      <th>662</th>\n      <td>1</td>\n      <td>2</td>\n      <td>Richards, Master. George Sibley</td>\n      <td>male</td>\n      <td>0.83</td>\n      <td>1</td>\n      <td>1</td>\n      <td>29106</td>\n      <td>18.7500</td>\n      <td>NaN</td>\n      <td>...</td>\n      <td>0.0</td>\n      <td>0.0</td>\n      <td>0.0</td>\n      <td>0.0</td>\n      <td>0.0</td>\n      <td>1.0</td>\n      <td>0.0</td>\n      <td>0.0</td>\n      <td>0.0</td>\n      <td>0.0</td>\n    </tr>\n    <tr>\n      <th>673</th>\n      <td>1</td>\n      <td>2</td>\n      <td>West, Miss. Constance Mirium</td>\n      <td>female</td>\n      <td>5.00</td>\n      <td>1</td>\n      <td>2</td>\n      <td>C.A. 34651</td>\n      <td>27.7500</td>\n      <td>NaN</td>\n      <td>...</td>\n      <td>0.0</td>\n      <td>0.0</td>\n      <td>0.0</td>\n      <td>0.0</td>\n      <td>0.0</td>\n      <td>1.0</td>\n      <td>0.0</td>\n      <td>0.0</td>\n      <td>0.0</td>\n      <td>0.0</td>\n    </tr>\n  </tbody>\n</table>\n<p>15 rows × 104 columns</p>\n</div>"
     },
     "execution_count": 52,
     "metadata": {},
     "output_type": "execute_result"
    }
   ],
   "source": [
    "train[(train['Age_Title_Impute']<16) & (train.Pclass == 2)]"
   ],
   "metadata": {
    "collapsed": false,
    "pycharm": {
     "name": "#%%\n"
    }
   }
  },
  {
   "cell_type": "code",
   "execution_count": 52,
   "outputs": [],
   "source": [
    "\n"
   ],
   "metadata": {
    "collapsed": false,
    "pycharm": {
     "name": "#%%\n"
    }
   }
  }
 ],
 "metadata": {
  "kernelspec": {
   "display_name": "Python 3",
   "language": "python",
   "name": "python3"
  },
  "language_info": {
   "codemirror_mode": {
    "name": "ipython",
    "version": 2
   },
   "file_extension": ".py",
   "mimetype": "text/x-python",
   "name": "python",
   "nbconvert_exporter": "python",
   "pygments_lexer": "ipython2",
   "version": "2.7.6"
  }
 },
 "nbformat": 4,
 "nbformat_minor": 0
}