{
 "cells": [
  {
   "cell_type": "code",
   "execution_count": 1,
   "metadata": {
    "collapsed": true
   },
   "outputs": [],
   "source": [
    "# pre_processing\n",
    "from sklearn.base import BaseEstimator,TransformerMixin\n",
    "from sklearn.impute import SimpleImputer\n",
    "from sklearn.pipeline import Pipeline\n",
    "from sklearn.preprocessing import StandardScaler\n",
    "from sklearn.preprocessing import RobustScaler\n",
    "from sklearn.preprocessing import PolynomialFeatures\n",
    "from sklearn.preprocessing import OneHotEncoder\n",
    "from sklearn.compose import make_column_transformer, ColumnTransformer\n",
    "\n",
    "# selection\n",
    "from sklearn.model_selection import train_test_split\n",
    "from sklearn.model_selection import KFold,StratifiedKFold\n",
    "from sklearn.model_selection import cross_val_score\n",
    "from sklearn.model_selection import GridSearchCV\n",
    "from sklearn.model_selection import RandomizedSearchCV\n",
    "from sklearn.feature_selection import SelectKBest\n",
    "from sklearn.feature_selection import chi2\n",
    "\n",
    "# models\n",
    "from sklearn.linear_model import LogisticRegression\n",
    "from sklearn.neural_network import MLPClassifier\n",
    "from sklearn.svm import SVC\n",
    "from sklearn.tree import DecisionTreeClassifier\n",
    "from sklearn.ensemble import RandomForestClassifier, AdaBoostClassifier\n",
    "import xgboost as xgb\n",
    "from catboost import CatBoostClassifier, Pool, cv\n",
    "import lightgbm as lgb\n",
    "\n",
    "# metrics\n",
    "from sklearn.metrics import f1_score, plot_roc_curve, auc\n",
    "from sklearn.metrics import roc_auc_score\n",
    "from sklearn.metrics import confusion_matrix\n",
    "import scipy\n",
    "from sklearn.utils.fixes import loguniform\n",
    "from scipy.stats import uniform\n",
    "\n",
    "# general\n",
    "import pandas as pd\n",
    "import numpy as np\n",
    "from time import time\n",
    "from Titanic_utils import *\n",
    "import matplotlib.pyplot as plt\n",
    "plt.rcParams.update({'text.color' : \"k\",\n",
    "                     'axes.labelcolor' : \"w\",\n",
    "                     'xtick.color' : \"w\",\n",
    "                     'ytick.color' : \"w\"})"
   ]
  },
  {
   "cell_type": "markdown",
   "source": [
    "we need to be able to reproduce features from the train to the test,\n",
    "so we'll create a custom sklean preprocessor transformer object.\n",
    "[inspiration](https://scikit-learn.org/stable/auto_examples/compose/plot_column_transformer_mixed_types.html#sphx-glr-auto-examples-compose-plot-column-transformer-mixed-types-py)"
   ],
   "metadata": {
    "collapsed": false
   }
  },
  {
   "cell_type": "code",
   "execution_count": 2,
   "outputs": [],
   "source": [
    "class Preprocessor(BaseEstimator,TransformerMixin):\n",
    "    \"\"\"\n",
    "    A preprocessor transformer class for the Titanic dataset.\n",
    "    The pre-processing stages are as follows:\n",
    "    - Use title of names as a feature.\n",
    "    - Fill NaN ages by the mean age grouped by Title,\n",
    "        the highest correlating feature.\n",
    "    - parse deck level from 'Cabin' feature.\n",
    "    - drop Name, Cabin, Ticket as they were used for another feature,\n",
    "        or aren't worth the trouble.\n",
    "    - one-hot categorical data.\n",
    "    - possibly add/remove columns, based on feature exploration\n",
    "        and false analysis (added ability to define what columns to drop,\n",
    "        if they prove to be bad).\n",
    "    \"\"\"\n",
    "\n",
    "    def fit(self, X, *y):\n",
    "        \"\"\"\n",
    "        fit the preprocessor parameters to the training data.\n",
    "        :param X: data\n",
    "        :param y: labels\n",
    "        :return: none (transformer is now fitted).\n",
    "        \"\"\"\n",
    "        X = X.copy()\n",
    "        X.reset_index(inplace=True,drop=True)\n",
    "        # create Rare title for titles without enough examples (we consider\n",
    "        # it to be unknown).\n",
    "        X['Title'] = X['Name'].apply(lambda x: x.split(',')[1].split()[0])\n",
    "        self.freq_titles = X['Title'].value_counts()\n",
    "        self.freq_titles = self.freq_titles[self.freq_titles>4].index\n",
    "        X.loc[~X['Title'].isin(self.freq_titles),'Title'] = 'Rare'\n",
    "        self.ages = X.groupby('Title')['Age'].mean()\n",
    "        splitted_cabin = X['Cabin'].dropna().str.split(pat='[\\d ]').apply(lambda x: x[0])\n",
    "        X['Cabin_Deck'] = pd.DataFrame(splitted_cabin.tolist(), index = splitted_cabin.index)\n",
    "        if(self.one_hot_cat):\n",
    "            self.ohe = OneHotEncoder(handle_unknown='ignore',sparse=False)\n",
    "            self.ohe.fit(X[self.cat_columns].fillna(-1).astype(str))\n",
    "        else:\n",
    "            # catboost/LightGBM\n",
    "            X[self.cat_text_cols] = X[self.cat_text_cols].fillna('nan')\n",
    "            self.ord_enc = OrdinalEncoderWithUnknown()\n",
    "            self.ord_enc.fit(X[self.cat_text_cols])\n",
    "        # addition\n",
    "        X['SibSp^2'] = X['SibSp']**2\n",
    "        self.scaler = ColumnTransformer(\n",
    "            transformers=[\n",
    "                ('num', StandardScaler(), ['SibSp^2','Fare','Age'])],remainder='drop')\n",
    "        self.scaler.fit(X[['SibSp^2','Fare','Age']])\n",
    "\n",
    "    def add_columns_to_drop(self,cols):\n",
    "        self.drop_columns.append(cols)\n",
    "\n",
    "    def remove_columns_to_drop(self,cols):\n",
    "        self.drop_columns.remove(cols)\n",
    "\n",
    "    def drop_try(self,df):\n",
    "        '''\n",
    "        try to drop columns in 'self.columns_to_drop'.\n",
    "        if columns doesn't exist - do nothing.\n",
    "        :param df:\n",
    "        :return:\n",
    "        '''\n",
    "        for col in self.drop_columns:\n",
    "         try:\n",
    "             df.drop(col,axis=1,inplace=True)\n",
    "         except:\n",
    "             pass\n",
    "        return df\n",
    "\n",
    "    def transform(self,X, *y):\n",
    "        \"\"\"\n",
    "        transform the test/cv data to the same format as the train data.\n",
    "        :param X: data\n",
    "        :param y: none (unused for preprocessing).\n",
    "        :return: preprocessed data.\n",
    "        \"\"\"\n",
    "        X = X.copy()\n",
    "        X.reset_index(inplace=True,drop=True)\n",
    "        # ticket: just shows family relations, which is covered in parch and sibsp anyway.\n",
    "        # name: we already extracted titles\n",
    "        # cabin: we used it for deck feature, no need for it afterwards.\n",
    "        # one_hot categories all at once, drop originals afterwards.\n",
    "        # name_to_titles\n",
    "        X['Title'] = X['Name'].apply(lambda x: x.split(',')[1].split()[0])\n",
    "        X.loc[~X['Title'].isin(self.freq_titles),'Title'] = 'Rare'\n",
    "        # fill age NaNs by titles\n",
    "        # X.Age = self.age_imputer.transform(X.select_dtypes(exclude=object))[:,1]\n",
    "        X.Age = X.apply(lambda x : self.ages[x['Title']] if np.isnan(x['Age']) else x['Age'],axis=1)\n",
    "        # cabin_to_deck_no (keep NaNs as is, column is cabin_deck_-1)\n",
    "        splitted_cabin = X['Cabin'].dropna().str.split(pat='[\\d ]').apply(lambda x: x[0])\n",
    "        X['Cabin_Deck'] = pd.DataFrame(splitted_cabin.tolist(), index = splitted_cabin.index)\n",
    "        # as sex has only 2 categories, just binarize it.\n",
    "        X['Sex'] = (X['Sex']=='male').astype(int)\n",
    "        # found out from feature exploration that sibsp^2 makes a difference.\n",
    "        X['SibSp^2'] = X['SibSp']**2\n",
    "        # one_hot categories all at once, drop originals afterwards.\n",
    "        if(self.one_hot_cat):\n",
    "            ohe_array = self.ohe.transform(X[self.cat_columns].fillna(-1).astype(str))\n",
    "            ohe_df = pd.DataFrame(ohe_array, columns=self.ohe.get_feature_names(self.cat_columns))\n",
    "            X = pd.concat([X,ohe_df],axis='columns').drop(self.cat_columns,axis='columns')\n",
    "        else:\n",
    "            X[self.cat_text_cols] = self.ord_enc.transform(X[self.cat_text_cols].fillna('nan')).astype(int)\n",
    "        X[['SibSp^2','Fare','Age']] = self.scaler.transform(X[['SibSp^2','Fare','Age']])\n",
    "        X = self.drop_try(X)\n",
    "        self.features = X.columns\n",
    "        return X\n",
    "\n",
    "    def fit_transform(self,X, *y):\n",
    "        \"\"\"\n",
    "        fit the preprocessor parameters to the training data,\n",
    "        and transform the train data as well (using tranform func)\n",
    "        :param data:\n",
    "        X_train data, to fit the data preprocessor transformer.\n",
    "        :return:\n",
    "        -------\n",
    "        X_new : ndarray array of shape (n_samples, n_features_new)\n",
    "            Transformed array.\n",
    "        \"\"\"\n",
    "        self.fit(X,y)\n",
    "        return self.transform(X,y)\n",
    "    def get_features(self):\n",
    "        return self.features\n",
    "    def __init__(self,one_hot_cat = True,cols_to_drop = None):\n",
    "        self.one_hot_cat = one_hot_cat\n",
    "        self.drop_columns = ['Ticket','Name','Cabin']\n",
    "        if cols_to_drop is not None :\n",
    "            self.drop_columns += cols_to_drop\n",
    "        self.cat_columns = ['Pclass','Title','SibSp','Embarked','Cabin_Deck']\n",
    "        self.cat_text_cols = ['Title','Embarked','Cabin_Deck']"
   ],
   "metadata": {
    "collapsed": false,
    "pycharm": {
     "name": "#%%\n"
    }
   }
  },
  {
   "cell_type": "markdown",
   "source": [
    "# data and classifier setup"
   ],
   "metadata": {
    "collapsed": false
   }
  },
  {
   "cell_type": "code",
   "execution_count": 3,
   "outputs": [],
   "source": [
    "data = pd.read_csv('titanic.csv')\n",
    "data.dtypes\n",
    "X, X_test, y, y_test = train_test_split(data.drop('Survived',axis=1),\n",
    "                                        data['Survived'], test_size=0.2,\n",
    "                                        random_state=42)"
   ],
   "metadata": {
    "collapsed": false,
    "pycharm": {
     "name": "#%%\n"
    }
   }
  },
  {
   "cell_type": "markdown",
   "source": [
    "## Baseline Value\n",
    "method: just through away everything that isn't numeric,\n",
    "fill with median (robust to outliers), One_hot categories, done.\n",
    "taken from [here](https://scikit-learn.org/stable/auto_examples/compose/plot_column_transformer_mixed_types.html)"
   ],
   "metadata": {
    "collapsed": false
   }
  },
  {
   "cell_type": "code",
   "execution_count": 4,
   "outputs": [
    {
     "name": "stdout",
     "output_type": "stream",
     "text": [
      "baseline scores (cv and train): \n",
      "[0.80295464 0.77913025 0.77293771 0.71675084 0.79128683]\n",
      "0.7726120561847719\n",
      "[0.78336618 0.77082512 0.77566328 0.7901736  0.77581607]\n",
      "0.7791688508252099\n"
     ]
    }
   ],
   "source": [
    "numeric_features = ['Age', 'Fare']\n",
    "numeric_transformer = Pipeline(steps=[\n",
    "    ('imputer', SimpleImputer(strategy='median')),\n",
    "    ('scaler', RobustScaler())])\n",
    "categorical_features = ['Pclass','Sex','SibSp','Parch','Embarked']\n",
    "categorical_transformer = Pipeline(steps=[\n",
    "    ('imputer', SimpleImputer(strategy='constant', fill_value='missing')),\n",
    "    ('onehot', OneHotEncoder(handle_unknown='ignore'))])\n",
    "# note that Col Transformer returns only the transformed columns (unless remainder param set to 'passthrough')\n",
    "preprocessor = ColumnTransformer(\n",
    "    transformers=[\n",
    "        ('num', numeric_transformer, numeric_features),\n",
    "        ('cat', categorical_transformer, categorical_features)])\n",
    "baseline_clf = Pipeline(steps=[('preprocessor', preprocessor),\n",
    "                      ('classifier', LogisticRegression())])\n",
    "\n",
    "scores = cross_val_score_regular(baseline_clf,X,y)\n",
    "print('baseline scores (cv and train): ',*scores,sep='\\n')"
   ],
   "metadata": {
    "collapsed": false,
    "pycharm": {
     "name": "#%%\n"
    }
   }
  },
  {
   "cell_type": "code",
   "execution_count": 5,
   "outputs": [
    {
     "data": {
      "text/plain": "Sex                int32\nAge              float64\nParch              int64\nFare             float64\nSibSp^2          float64\nPclass_1         float64\nPclass_2         float64\nPclass_3         float64\nTitle_Dr.        float64\nTitle_Master.    float64\nTitle_Miss.      float64\nTitle_Mr.        float64\nTitle_Mrs.       float64\nTitle_Rare       float64\nSibSp_0          float64\nSibSp_1          float64\nSibSp_2          float64\nSibSp_3          float64\nSibSp_4          float64\nSibSp_5          float64\nSibSp_8          float64\nEmbarked_-1      float64\nEmbarked_C       float64\nEmbarked_Q       float64\nEmbarked_S       float64\nCabin_Deck_-1    float64\nCabin_Deck_A     float64\nCabin_Deck_B     float64\nCabin_Deck_C     float64\nCabin_Deck_D     float64\nCabin_Deck_E     float64\nCabin_Deck_F     float64\nCabin_Deck_G     float64\nCabin_Deck_T     float64\ndtype: object"
     },
     "execution_count": 5,
     "metadata": {},
     "output_type": "execute_result"
    }
   ],
   "source": [
    "pp = Preprocessor()\n",
    "pp.fit(X)\n",
    "pp.transform(X).dtypes"
   ],
   "metadata": {
    "collapsed": false,
    "pycharm": {
     "name": "#%%\n"
    }
   }
  },
  {
   "cell_type": "code",
   "execution_count": 6,
   "outputs": [],
   "source": [
    "# general structure of pipeline:\n",
    "from sklearn import set_config\n",
    "set_config(display='diagram')\n",
    "baseline_clf\n",
    "set_config(display='text')"
   ],
   "metadata": {
    "collapsed": false,
    "pycharm": {
     "name": "#%%\n"
    }
   }
  },
  {
   "cell_type": "markdown",
   "source": [
    "## catboost and lightgbm\n",
    " they can handle categorical data, so we'll start off with them, as they need a special setup."
   ],
   "metadata": {
    "collapsed": false
   }
  },
  {
   "cell_type": "code",
   "execution_count": 7,
   "outputs": [
    {
     "name": "stdout",
     "output_type": "stream",
     "text": [
      "[0.77517686 0.8363504  0.80639731 0.78787879 0.78927284]\n",
      "0.7990152389558791\n",
      "[0.96129287 0.94410064 0.94546348 0.95018015 0.94985876]\n",
      "0.9501791791347216\n"
     ]
    }
   ],
   "source": [
    "cb_clf = CatBoostClassifier(iterations=100,\n",
    "                            task_type=\"GPU\",\n",
    "                            devices='0=1',\n",
    "                            cat_features=['Pclass','Title','SibSp',\n",
    "                                          'Parch','Embarked','Cabin_Deck'],\n",
    "                            verbose=False)\n",
    "cb = False\n",
    "if(cb):\n",
    "    pipe = Pipeline([('pre_processing',Preprocessor(one_hot_cat=False)),('classifier',cb_clf)])\n",
    "    cv_scores = cross_val_score_regular(pipe,X,y)\n",
    "    print('catboost cv and train scores: ',*cv_scores,sep='\\n')\n",
    "else:\n",
    "    lgb_params = {'classifier__categorical_feature':['Pclass','Title','SibSp','Parch','Embarked','Cabin_Deck']}\n",
    "    lgb_clf = lgb.sklearn.LGBMClassifier()\n",
    "    pipe = Pipeline([('pre_processing',Preprocessor(one_hot_cat=False)),('classifier',lgb_clf)])\n",
    "    pipe.fit(X,y)\n",
    "    cv_scores = cross_val_score_regular(pipe,X,y)\n",
    "    print(*cv_scores,sep='\\n')"
   ],
   "metadata": {
    "collapsed": false,
    "pycharm": {
     "name": "#%%\n"
    }
   }
  },
  {
   "cell_type": "markdown",
   "source": [
    "## fitting classifiers with hyper-parameters"
   ],
   "metadata": {
    "collapsed": false
   }
  },
  {
   "cell_type": "markdown",
   "source": [
    "setting up classifiers and their parameters:"
   ],
   "metadata": {
    "collapsed": false,
    "pycharm": {
     "name": "#%% md\n"
    }
   }
  },
  {
   "cell_type": "code",
   "execution_count": 30,
   "outputs": [],
   "source": [
    "names = [\"Logistic_Regression\",\n",
    "         \"Linear_SVM\", \"RBF_SVM\",\n",
    "         \"Decision_Tree\",\n",
    "         \"Neural_Net\", \"AdaBoost\",\n",
    "         \"Random_Forest\",\"XGBoost\"]\n",
    "param_grid = {'Logistic_Regression':\n",
    "                  {'classifier__C':loguniform(1e-3, 1e3),\n",
    "                   'classifier__penalty':['l1','l2']},\n",
    "              'Linear_SVM':\n",
    "                  {'classifier__C': scipy.stats.expon(scale=100),\n",
    "                    'classifier__gamma': scipy.stats.expon(scale=.1),\n",
    "                    'classifier__kernel': ['rbf'],\n",
    "                    'classifier__class_weight':['balanced', None]},\n",
    "              'RBF_SVM':\n",
    "                  {'classifier__C': loguniform(1e0, 1e3),\n",
    "                    'classifier__gamma': loguniform(1e-4, 1e-3),\n",
    "                    'classifier__kernel': ['rbf']},\n",
    "              'Decision_Tree':\n",
    "                  {\"classifier__max_depth\": np.linspace(2,10,5),\n",
    "                     \"classifier__max_features\": range(1,9),\n",
    "                     \"classifier__min_samples_leaf\": range(3,9),\n",
    "                     \"classifier__criterion\": [\"gini\", \"entropy\"]},\n",
    "              'Neural_Net':{\n",
    "                  'classifier__solver': ['lbfgs','adam'],\n",
    "                  'classifier__max_iter': [500,1000,1500],\n",
    "                  'classifier__alpha': 10.0 ** -np.arange(1, 7),\n",
    "                  'classifier__hidden_layer_sizes':np.arange(5, 12)\n",
    "              },\n",
    "              'AdaBoost':{\n",
    "                  'classifier__n_estimators': [100,200,500],\n",
    "                  'classifier__learning_rate' : loguniform(1e-2, 1e0),\n",
    "                  'classifier__base_estimator__max_depth' : [4,5,6,7,8]\n",
    "              },\n",
    "              'Random_Forest':{\n",
    "                  'classifier__n_estimators': [200, 500],\n",
    "                  'classifier__max_features': ['auto', 'sqrt', 'log2'],\n",
    "                  'classifier__max_depth' : [4,5,6,7,8],\n",
    "                  'classifier__criterion' :['gini', 'entropy']},\n",
    "              'XGBoost':{\n",
    "                  'classifier__learning_rate':loguniform(1e-2, 1e0),\n",
    "                  'classifier__gamma':[0,1,5],\n",
    "                  'classifier__n_estimators': [500,750,1000],\n",
    "                  'classifier__max_depth': [3,6,8],\n",
    "                  'classifier__subsample': uniform(loc=0.8,scale=0.2),\n",
    "                  'classifier__colsample_bytree': uniform(loc=0.8,scale=0.2)\n",
    "              }}\n",
    "classifiers = [\n",
    "    LogisticRegression(C=0.3,n_jobs=-1,solver='newton-cg'),\n",
    "    SVC(kernel=\"linear\", C=0.025),\n",
    "    SVC(gamma=2, C=1),\n",
    "    DecisionTreeClassifier(max_depth=5),\n",
    "    MLPClassifier(hidden_layer_sizes=(5,3),alpha=1, max_iter=1000),\n",
    "    AdaBoostClassifier(base_estimator=DecisionTreeClassifier(max_depth=10),n_estimators=500),\n",
    "    RandomForestClassifier(max_depth=9, n_estimators=400, max_features=1),\n",
    "    xgb.XGBClassifier(max_depth=10,learning_rate =0.3,n_estimators=500,\n",
    "                      objective=\"reg:squarederror\", n_jobs = -1,random_state=42),\n",
    "]"
   ],
   "metadata": {
    "collapsed": false,
    "pycharm": {
     "name": "#%%\n"
    }
   }
  },
  {
   "cell_type": "markdown",
   "source": [
    "## Random Search on each Clf (20 rounds)"
   ],
   "metadata": {
    "collapsed": false,
    "pycharm": {
     "name": "#%% md\n"
    }
   }
  },
  {
   "cell_type": "code",
   "execution_count": 31,
   "outputs": [
    {
     "name": "stdout",
     "output_type": "stream",
     "text": [
      "Logistic_Regression\n",
      "RandomizedSearchCV took 6.26 seconds for 20 candidates parameter settings.\n",
      "Pipeline(steps=[('pre_processing', Preprocessor()),\n",
      "                ('classifier',\n",
      "                 LogisticRegression(C=0.1318719509629811, n_jobs=-1,\n",
      "                                    solver='newton-cg'))]) \n",
      "auc:  0.8631437734350073\n",
      "Linear_SVM\n",
      "RandomizedSearchCV took 3.87 seconds for 20 candidates parameter settings.\n",
      "Pipeline(steps=[('pre_processing', Preprocessor()),\n",
      "                ('classifier',\n",
      "                 SVC(C=81.2711365156844, gamma=0.00911830611703852))]) \n",
      "auc:  0.8663099843391873\n",
      "RBF_SVM\n",
      "RandomizedSearchCV took 3.64 seconds for 20 candidates parameter settings.\n",
      "Pipeline(steps=[('pre_processing', Preprocessor()),\n",
      "                ('classifier',\n",
      "                 SVC(C=4.097807229697087, gamma=0.000928771165291882))]) \n",
      "auc:  0.8576514428790769\n",
      "Decision_Tree\n",
      "RandomizedSearchCV took 3.33 seconds for 20 candidates parameter settings.\n",
      "Pipeline(steps=[('pre_processing', Preprocessor()),\n",
      "                ('classifier',\n",
      "                 DecisionTreeClassifier(max_depth=6.0, max_features=8,\n",
      "                                        min_samples_leaf=5))]) \n",
      "auc:  0.8598588662042659\n",
      "Neural_Net\n",
      "RandomizedSearchCV took 19.41 seconds for 20 candidates parameter settings.\n",
      "Pipeline(steps=[('pre_processing', Preprocessor()),\n",
      "                ('classifier',\n",
      "                 MLPClassifier(alpha=1e-05, hidden_layer_sizes=6,\n",
      "                               max_iter=1000))]) \n",
      "auc:  0.8646346646094896\n",
      "AdaBoost\n",
      "RandomizedSearchCV took 17.12 seconds for 20 candidates parameter settings.\n",
      "Pipeline(steps=[('pre_processing', Preprocessor()),\n",
      "                ('classifier',\n",
      "                 AdaBoostClassifier(base_estimator=DecisionTreeClassifier(max_depth=4),\n",
      "                                    learning_rate=0.04103861259930283,\n",
      "                                    n_estimators=200))]) \n",
      "auc:  0.8395066576299351\n",
      "Random_Forest\n",
      "RandomizedSearchCV took 16.73 seconds for 20 candidates parameter settings.\n",
      "Pipeline(steps=[('pre_processing', Preprocessor()),\n",
      "                ('classifier',\n",
      "                 RandomForestClassifier(max_depth=5, max_features='log2',\n",
      "                                        n_estimators=500))]) \n",
      "auc:  0.8610373530728099\n",
      "XGBoost\n",
      "RandomizedSearchCV took 23.93 seconds for 20 candidates parameter settings.\n",
      "Pipeline(steps=[('pre_processing', Preprocessor()),\n",
      "                ('classifier',\n",
      "                 XGBClassifier(base_score=0.5, booster='gbtree',\n",
      "                               colsample_bylevel=1, colsample_bynode=1,\n",
      "                               colsample_bytree=0.8923985942643856, gamma=1,\n",
      "                               gpu_id=-1, importance_type='gain',\n",
      "                               interaction_constraints='',\n",
      "                               learning_rate=0.1700693142664751,\n",
      "                               max_delta_step=0, max_depth=3,\n",
      "                               min_child_weight=1, missing=nan,\n",
      "                               monotone_constraints='()', n_estimators=500,\n",
      "                               n_jobs=-1, num_parallel_tree=1,\n",
      "                               objective='reg:squarederror', random_state=42,\n",
      "                               reg_alpha=0, reg_lambda=1, scale_pos_weight=1,\n",
      "                               subsample=0.8017808616646491,\n",
      "                               tree_method='exact', validate_parameters=1,\n",
      "                               verbosity=None))]) \n",
      "auc:  0.8657488870044521\n"
     ]
    },
    {
     "name": "stderr",
     "output_type": "stream",
     "text": [
      "C:\\Users\\Ariel\\AppData\\Local\\Programs\\Python\\Python38\\lib\\site-packages\\sklearn\\base.py:209: FutureWarning: From version 0.24, get_params will raise an AttributeError if a parameter cannot be retrieved as an instance attribute. Previously it would return None.\n",
      "  warnings.warn('From version 0.24, get_params will raise an '\n",
      "C:\\Users\\Ariel\\AppData\\Local\\Programs\\Python\\Python38\\lib\\site-packages\\sklearn\\base.py:209: FutureWarning: From version 0.24, get_params will raise an AttributeError if a parameter cannot be retrieved as an instance attribute. Previously it would return None.\n",
      "  warnings.warn('From version 0.24, get_params will raise an '\n",
      "C:\\Users\\Ariel\\AppData\\Local\\Programs\\Python\\Python38\\lib\\site-packages\\sklearn\\base.py:209: FutureWarning: From version 0.24, get_params will raise an AttributeError if a parameter cannot be retrieved as an instance attribute. Previously it would return None.\n",
      "  warnings.warn('From version 0.24, get_params will raise an '\n",
      "C:\\Users\\Ariel\\AppData\\Local\\Programs\\Python\\Python38\\lib\\site-packages\\sklearn\\base.py:209: FutureWarning: From version 0.24, get_params will raise an AttributeError if a parameter cannot be retrieved as an instance attribute. Previously it would return None.\n",
      "  warnings.warn('From version 0.24, get_params will raise an '\n",
      "C:\\Users\\Ariel\\AppData\\Local\\Programs\\Python\\Python38\\lib\\site-packages\\sklearn\\base.py:209: FutureWarning: From version 0.24, get_params will raise an AttributeError if a parameter cannot be retrieved as an instance attribute. Previously it would return None.\n",
      "  warnings.warn('From version 0.24, get_params will raise an '\n",
      "C:\\Users\\Ariel\\AppData\\Local\\Programs\\Python\\Python38\\lib\\site-packages\\sklearn\\base.py:209: FutureWarning: From version 0.24, get_params will raise an AttributeError if a parameter cannot be retrieved as an instance attribute. Previously it would return None.\n",
      "  warnings.warn('From version 0.24, get_params will raise an '\n",
      "C:\\Users\\Ariel\\AppData\\Local\\Programs\\Python\\Python38\\lib\\site-packages\\sklearn\\base.py:209: FutureWarning: From version 0.24, get_params will raise an AttributeError if a parameter cannot be retrieved as an instance attribute. Previously it would return None.\n",
      "  warnings.warn('From version 0.24, get_params will raise an '\n",
      "C:\\Users\\Ariel\\AppData\\Local\\Programs\\Python\\Python38\\lib\\site-packages\\sklearn\\base.py:209: FutureWarning: From version 0.24, get_params will raise an AttributeError if a parameter cannot be retrieved as an instance attribute. Previously it would return None.\n",
      "  warnings.warn('From version 0.24, get_params will raise an '\n",
      "C:\\Users\\Ariel\\AppData\\Local\\Programs\\Python\\Python38\\lib\\site-packages\\sklearn\\base.py:209: FutureWarning: From version 0.24, get_params will raise an AttributeError if a parameter cannot be retrieved as an instance attribute. Previously it would return None.\n",
      "  warnings.warn('From version 0.24, get_params will raise an '\n",
      "C:\\Users\\Ariel\\AppData\\Local\\Programs\\Python\\Python38\\lib\\site-packages\\sklearn\\base.py:209: FutureWarning: From version 0.24, get_params will raise an AttributeError if a parameter cannot be retrieved as an instance attribute. Previously it would return None.\n",
      "  warnings.warn('From version 0.24, get_params will raise an '\n",
      "C:\\Users\\Ariel\\AppData\\Local\\Programs\\Python\\Python38\\lib\\site-packages\\sklearn\\base.py:209: FutureWarning: From version 0.24, get_params will raise an AttributeError if a parameter cannot be retrieved as an instance attribute. Previously it would return None.\n",
      "  warnings.warn('From version 0.24, get_params will raise an '\n",
      "C:\\Users\\Ariel\\AppData\\Local\\Programs\\Python\\Python38\\lib\\site-packages\\sklearn\\base.py:209: FutureWarning: From version 0.24, get_params will raise an AttributeError if a parameter cannot be retrieved as an instance attribute. Previously it would return None.\n",
      "  warnings.warn('From version 0.24, get_params will raise an '\n",
      "C:\\Users\\Ariel\\AppData\\Local\\Programs\\Python\\Python38\\lib\\site-packages\\sklearn\\base.py:209: FutureWarning: From version 0.24, get_params will raise an AttributeError if a parameter cannot be retrieved as an instance attribute. Previously it would return None.\n",
      "  warnings.warn('From version 0.24, get_params will raise an '\n",
      "C:\\Users\\Ariel\\AppData\\Local\\Programs\\Python\\Python38\\lib\\site-packages\\sklearn\\base.py:209: FutureWarning: From version 0.24, get_params will raise an AttributeError if a parameter cannot be retrieved as an instance attribute. Previously it would return None.\n",
      "  warnings.warn('From version 0.24, get_params will raise an '\n",
      "C:\\Users\\Ariel\\AppData\\Local\\Programs\\Python\\Python38\\lib\\site-packages\\sklearn\\base.py:209: FutureWarning: From version 0.24, get_params will raise an AttributeError if a parameter cannot be retrieved as an instance attribute. Previously it would return None.\n",
      "  warnings.warn('From version 0.24, get_params will raise an '\n",
      "C:\\Users\\Ariel\\AppData\\Local\\Programs\\Python\\Python38\\lib\\site-packages\\sklearn\\base.py:209: FutureWarning: From version 0.24, get_params will raise an AttributeError if a parameter cannot be retrieved as an instance attribute. Previously it would return None.\n",
      "  warnings.warn('From version 0.24, get_params will raise an '\n"
     ]
    }
   ],
   "source": [
    "scores = []\n",
    "random_searches = {}\n",
    "for (name,clf) in zip(names, classifiers):\n",
    "    pipeclf = Pipeline([('pre_processing',Preprocessor()),('classifier',clf)])\n",
    "    print(name)\n",
    "    n_iter_search = 20\n",
    "    random_searches[name] = RandomizedSearchCV(pipeclf,param_grid[name],\n",
    "                                               n_jobs=-1,scoring='roc_auc',\n",
    "                                               n_iter=n_iter_search,\n",
    "                                               return_train_score=True)\n",
    "    start = time()\n",
    "    random_search = random_searches[name]\n",
    "    random_search.fit(X, y)\n",
    "    print(\"RandomizedSearchCV took %.2f seconds for %d candidates\"\n",
    "          \" parameter settings.\" % ((time() - start), n_iter_search))\n",
    "    print(random_search.best_estimator_,'\\nauc: ',random_search.best_score_)\n",
    "    scores.append((name,random_search.best_score_))"
   ],
   "metadata": {
    "collapsed": false,
    "pycharm": {
     "name": "#%%\n"
    }
   }
  },
  {
   "cell_type": "markdown",
   "source": [
    "# False analysis"
   ],
   "metadata": {
    "collapsed": false,
    "pycharm": {
     "name": "#%% md\n"
    }
   }
  },
  {
   "cell_type": "code",
   "execution_count": 10,
   "outputs": [
    {
     "data": {
      "text/plain": "['random_searches.joblib']"
     },
     "execution_count": 10,
     "metadata": {},
     "output_type": "execute_result"
    }
   ],
   "source": [
    "# save searches.\n",
    "from joblib import dump, load\n",
    "dump(random_searches, 'random_searches.joblib')"
   ],
   "metadata": {
    "collapsed": false,
    "pycharm": {
     "name": "#%%\n"
    }
   }
  },
  {
   "cell_type": "code",
   "execution_count": 11,
   "outputs": [],
   "source": [
    "random_searches = load('random_searches.joblib')"
   ],
   "metadata": {
    "collapsed": false,
    "pycharm": {
     "name": "#%%\n"
    }
   }
  },
  {
   "cell_type": "markdown",
   "source": [
    "see scores of the best classifiers."
   ],
   "metadata": {
    "collapsed": false
   }
  },
  {
   "cell_type": "code",
   "execution_count": 12,
   "outputs": [
    {
     "name": "stdout",
     "output_type": "stream",
     "text": [
      "Random_Forest \n",
      "\n",
      "best index:  11\n",
      "mean_fit_time 0.6774003505706787\n",
      "std_fit_time 0.05313293414715978\n",
      "mean_score_time 0.07860193252563477\n",
      "std_score_time 0.003615692523707627\n",
      "param_classifier__n_estimators 200\n",
      "param_classifier__max_features log2\n",
      "param_classifier__max_depth 5\n",
      "param_classifier__criterion gini\n",
      "params {'classifier__n_estimators': 200, 'classifier__max_features': 'log2', 'classifier__max_depth': 5, 'classifier__criterion': 'gini'}\n",
      "split0_test_score 0.8244902205576363\n",
      "split1_test_score 0.908239700374532\n",
      "split2_test_score 0.8195496632996633\n",
      "split3_test_score 0.8453282828282829\n",
      "split4_test_score 0.9103243587025652\n",
      "mean_test_score 0.8615864451525359\n",
      "std_test_score 0.039898519245510446\n",
      "rank_test_score 1\n",
      "split0_train_score 0.9190185258178951\n",
      "split1_train_score 0.8959926422283537\n",
      "split2_train_score 0.9200458565345562\n",
      "split3_train_score 0.9127481166066165\n",
      "split4_train_score 0.9032093534212179\n",
      "mean_train_score 0.9102028989217279\n",
      "std_train_score 0.009294281028278837\n",
      "\n",
      "\n",
      "\n",
      "XGBoost \n",
      "\n",
      "best index:  17\n",
      "mean_fit_time 1.7383989810943603\n",
      "std_fit_time 0.06546417154171366\n",
      "mean_score_time 0.04359955787658691\n",
      "std_score_time 0.0037204688706139696\n",
      "param_classifier__colsample_bytree 0.9455972833835383\n",
      "param_classifier__gamma 1\n",
      "param_classifier__learning_rate 0.010444255068701653\n",
      "param_classifier__max_depth 8\n",
      "param_classifier__n_estimators 500\n",
      "param_classifier__subsample 0.9387591116724983\n",
      "params {'classifier__colsample_bytree': 0.9455972833835383, 'classifier__gamma': 1, 'classifier__learning_rate': 0.010444255068701653, 'classifier__max_depth': 8, 'classifier__n_estimators': 500, 'classifier__subsample': 0.9387591116724983}\n",
      "split0_test_score 0.8181439866833125\n",
      "split1_test_score 0.9124011652101539\n",
      "split2_test_score 0.8263888888888888\n",
      "split3_test_score 0.839436026936027\n",
      "split4_test_score 0.8965444138223446\n",
      "mean_test_score 0.8585828963081454\n",
      "std_test_score 0.038407928899380314\n",
      "rank_test_score 1\n",
      "split0_train_score 0.9429969780580739\n",
      "split1_train_score 0.9335632636972803\n",
      "split2_train_score 0.9364231903046183\n",
      "split3_train_score 0.9389846053062562\n",
      "split4_train_score 0.9289927286043105\n",
      "mean_train_score 0.9361921531941079\n",
      "std_train_score 0.004751832968129979\n",
      "\n",
      "\n",
      "\n"
     ]
    }
   ],
   "source": [
    "random_searches_list = list(random_searches.items())\n",
    "random_searches_list.sort(key=lambda x:x[1].best_score_,reverse=True)\n",
    "for (name,rand_search) in random_searches_list[:3]:\n",
    "    print(name,'\\n')\n",
    "    print('best index: ',rand_search.best_index_)\n",
    "    for metric in rand_search.cv_results_.items():\n",
    "        print(metric[0],metric[1][rand_search.best_index_])\n",
    "    print('\\n\\n')"
   ],
   "metadata": {
    "collapsed": false,
    "pycharm": {
     "name": "#%%\n"
    }
   }
  },
  {
   "cell_type": "code",
   "execution_count": 13,
   "outputs": [
    {
     "name": "stdout",
     "output_type": "stream",
     "text": [
      "          Columns  Importances\n",
      "0             Sex     0.216024\n",
      "1             Age    0.0589352\n",
      "2           Parch    0.0217924\n",
      "3            Fare    0.0831595\n",
      "4         SibSp^2    0.0292305\n",
      "5        Pclass_1    0.0374797\n",
      "6        Pclass_2    0.0156107\n",
      "7        Pclass_3    0.0711937\n",
      "8       Title_Dr.   0.00118853\n",
      "9   Title_Master.   0.00813247\n",
      "10    Title_Miss.    0.0460607\n",
      "11      Title_Mr.      0.17295\n",
      "12     Title_Mrs.    0.0730131\n",
      "13     Title_Rare   0.00280771\n",
      "14        SibSp_0    0.0098823\n",
      "15        SibSp_1    0.0108997\n",
      "16        SibSp_2   0.00206973\n",
      "17        SibSp_3   0.00332359\n",
      "18        SibSp_4   0.00507819\n",
      "19        SibSp_5  0.000460626\n",
      "20        SibSp_8   0.00177538\n",
      "21    Embarked_-1  0.000295817\n",
      "22     Embarked_C    0.0129451\n",
      "23     Embarked_Q   0.00657096\n",
      "24     Embarked_S    0.0160002\n",
      "25  Cabin_Deck_-1    0.0483409\n",
      "26   Cabin_Deck_A   0.00122112\n",
      "27   Cabin_Deck_B    0.0120657\n",
      "28   Cabin_Deck_C   0.00460266\n",
      "29   Cabin_Deck_D   0.00474501\n",
      "30   Cabin_Deck_E    0.0179908\n",
      "31   Cabin_Deck_F    0.0015469\n",
      "32   Cabin_Deck_G   0.00238275\n",
      "33   Cabin_Deck_T  0.000223569\n"
     ]
    }
   ],
   "source": [
    "best_clf = random_searches_list[0][1].best_estimator_\n",
    "cols = best_clf['pre_processing'].fit_transform(X).columns\n",
    "importances = best_clf['classifier'].feature_importances_\n",
    "df = pd.DataFrame(np.c_[cols,importances],columns=['Columns','Importances'])\n",
    "print(df)\n",
    "# print(list(df[df['Importances']==0]['Columns']))"
   ],
   "metadata": {
    "collapsed": false,
    "pycharm": {
     "name": "#%%\n"
    }
   }
  },
  {
   "cell_type": "code",
   "execution_count": 14,
   "outputs": [
    {
     "name": "stdout",
     "output_type": "stream",
     "text": [
      "[[78 11]\n",
      " [16 38]]\n",
      "fp: \n",
      "      Pclass                                               Name     Sex   Age  \\\n",
      "5         1                           Baxter, Mr. Quigg Edmond    male  24.0   \n",
      "7         2              Lahtinen, Mrs. William (Anna Sylfven)  female  26.0   \n",
      "35        1                          Brewe, Dr. Arthur Jackson    male   NaN   \n",
      "42        2             Yrois, Miss. Henriette (\"Mrs Harbeck\")  female  24.0   \n",
      "52        3                                Canavan, Miss. Mary  female  21.0   \n",
      "77        3  Van Impe, Mrs. Jean Baptiste (Rosalie Paula Go...  female  30.0   \n",
      "81        1                                  Gee, Mr. Arthur H    male  47.0   \n",
      "114       3                      Boulos, Mrs. Joseph (Sultana)  female   NaN   \n",
      "116       1                            McCarthy, Mr. Timothy J    male  54.0   \n",
      "128       3     Robins, Mrs. Alexander A (Grace Charity Laury)  female  47.0   \n",
      "132       2  Turpin, Mrs. William John Robert (Dorothy Ann ...  female  27.0   \n",
      "\n",
      "     SibSp  Parch     Ticket      Fare    Cabin Embarked  \n",
      "5        0      1   PC 17558  247.5208  B58 B60        C  \n",
      "7        1      1     250651   26.0000      NaN        S  \n",
      "35       0      0     112379   39.6000      NaN        C  \n",
      "42       0      0     248747   13.0000      NaN        S  \n",
      "52       0      0     364846    7.7500      NaN        Q  \n",
      "77       1      1     345773   24.1500      NaN        S  \n",
      "81       0      0     111320   38.5000      E63        S  \n",
      "114      0      2       2678   15.2458      NaN        C  \n",
      "116      0      0      17463   51.8625      E46        S  \n",
      "128      1      0  A/5. 3337   14.5000      NaN        S  \n",
      "132      1      0      11668   21.0000      NaN        S  \n",
      "\n",
      "\n",
      "fn: \n",
      "      Pclass                                Name     Sex   Age  SibSp  Parch  \\\n",
      "6         3             de Mulder, Mr. Theodore    male  30.0      0      0   \n",
      "9         1                   Woolner, Mr. Hugh    male   NaN      0      0   \n",
      "14        3         Sheerlinck, Mr. Jan Baptist    male  29.0      0      0   \n",
      "27        1            Taylor, Mr. Elmer Zebley    male  48.0      1      0   \n",
      "31        1    Frolicher-Stehli, Mr. Maxmillian    male  60.0      1      1   \n",
      "50        3              Heikkinen, Miss. Laina  female  26.0      0      0   \n",
      "57        3        McCormack, Mr. Thomas Joseph    male   NaN      0      0   \n",
      "60        1     Homer, Mr. Harry (\"Mr E Haven\")    male  35.0      0      0   \n",
      "64        3                     Foo, Mr. Choong    male   NaN      0      0   \n",
      "82        2                   Beane, Mr. Edward    male  32.0      1      0   \n",
      "84        1            Goldenberg, Mr. Samuel L    male  49.0      1      0   \n",
      "88        3  Pickard, Mr. Berk (Berk Trembisky)    male  32.0      0      0   \n",
      "112       1                Marechal, Mr. Pierre    male   NaN      0      0   \n",
      "118       3   Johannesen-Bratthammer, Mr. Bernt    male   NaN      0      0   \n",
      "125       3      Sunderland, Mr. Victor Francis    male  16.0      0      0   \n",
      "142       3               Dahl, Mr. Karl Edwart    male  45.0      0      0   \n",
      "\n",
      "                Ticket     Fare Cabin Embarked  \n",
      "6               345774   9.5000   NaN        S  \n",
      "9                19947  35.5000   C52        S  \n",
      "14              345779   9.5000   NaN        S  \n",
      "27               19996  52.0000  C126        S  \n",
      "31               13567  79.2000   B41        C  \n",
      "50    STON/O2. 3101282   7.9250   NaN        S  \n",
      "57              367228   7.7500   NaN        Q  \n",
      "60              111426  26.5500   NaN        C  \n",
      "64                1601  56.4958   NaN        S  \n",
      "82                2908  26.0000   NaN        S  \n",
      "84               17453  89.1042   C92        C  \n",
      "88   SOTON/O.Q. 392078   8.0500   E10        S  \n",
      "112              11774  29.7000   C47        C  \n",
      "118              65306   8.1125   NaN        S  \n",
      "125    SOTON/OQ 392089   8.0500   NaN        S  \n",
      "142               7598   8.0500   NaN        S  \n",
      "train score:  0.8531467612665878\n",
      "cv score:  0.7900540990428632 \n",
      "\n",
      "[[82  7]\n",
      " [16 38]]\n",
      "train score:  0.8411049796347393\n",
      "cv score:  0.8125260091552227 \n",
      "\n",
      "[[79  9]\n",
      " [18 36]]\n",
      "train score:  0.8597117589256468\n",
      "cv score:  0.7821969696969696 \n",
      "\n",
      "[[79  9]\n",
      " [20 34]]\n",
      "train score:  0.8658368817556501\n",
      "cv score:  0.7636784511784512 \n",
      "\n",
      "[[78 11]\n",
      " [13 40]]\n",
      "train score:  0.8448289391086001\n",
      "cv score:  0.815560737757049 \n",
      "\n",
      "\n",
      "\n",
      "train scores:  [0.85314676 0.84110498 0.85971176 0.86583688 0.84482894] \n",
      "mean:  0.8529258641382448\n",
      "cv scores:  [0.7900541  0.81252601 0.78219697 0.76367845 0.81556074] \n",
      "mean:  0.7928032533661111\n"
     ]
    },
    {
     "data": {
      "text/plain": "array([[0.14755806634662205, 'Sex'],\n       [0.054520121208982, 'Age'],\n       [0.01926529942775782, 'Parch'],\n       [0.09669259658281129, 'Fare'],\n       [0.023285527933935637, 'SibSp^2'],\n       [0.03577670381768676, 'Pclass_1'],\n       [0.014822962446949972, 'Pclass_2'],\n       [0.06584107406321463, 'Pclass_3'],\n       [0.0016187892633401618, 'Title_Dr.'],\n       [0.007374335412958011, 'Title_Master.'],\n       [0.04150188453860577, 'Title_Miss.'],\n       [0.23614407457902742, 'Title_Mr.'],\n       [0.06995454139538816, 'Title_Mrs.'],\n       [0.00435238873656921, 'Title_Rare'],\n       [0.009894907287983536, 'SibSp_0'],\n       [0.011574103118654047, 'SibSp_1'],\n       [0.0018677484527196986, 'SibSp_2'],\n       [0.002033644708053833, 'SibSp_3'],\n       [0.0038503549500693386, 'SibSp_4'],\n       [0.0017320803091352174, 'SibSp_5'],\n       [0.002278571831794835, 'SibSp_8'],\n       [1.9713965384735713e-05, 'Embarked_-1'],\n       [0.018313178594373498, 'Embarked_C'],\n       [0.0059840966425970185, 'Embarked_Q'],\n       [0.013402181318196987, 'Embarked_S'],\n       [0.061002703289634856, 'Cabin_Deck_-1'],\n       [0.0014334884791052482, 'Cabin_Deck_A'],\n       [0.01589415778057694, 'Cabin_Deck_B'],\n       [0.0053199327161958946, 'Cabin_Deck_C'],\n       [0.00585336535041675, 'Cabin_Deck_D'],\n       [0.01638734392853947, 'Cabin_Deck_E'],\n       [0.0013394556394045634, 'Cabin_Deck_F'],\n       [0.002676707206099696, 'Cabin_Deck_G'],\n       [0.00043389867721495593, 'Cabin_Deck_T']], dtype=object)"
     },
     "execution_count": 14,
     "metadata": {},
     "output_type": "execute_result"
    }
   ],
   "source": [
    "feature_importances,fp,fn = get_errors_and_features(best_clf,X,y)\n",
    "feature_importances"
   ],
   "metadata": {
    "collapsed": false,
    "pycharm": {
     "name": "#%%\n"
    }
   }
  },
  {
   "cell_type": "markdown",
   "source": [
    "We see that most misclassifications are fn.\n",
    "let's take a closer look:"
   ],
   "metadata": {
    "collapsed": false,
    "pycharm": {
     "name": "#%% md\n"
    }
   }
  },
  {
   "cell_type": "code",
   "execution_count": 15,
   "outputs": [
    {
     "data": {
      "text/plain": "0     1.0\n1     1.0\n2     1.0\n3     1.0\n4     1.0\n5     0.0\n6     1.0\n7     1.0\n8     1.0\n9     1.0\n10    1.0\n11    1.0\n12    1.0\n13    1.0\n14    1.0\n15    1.0\nName: Title_Mr., dtype: float64"
     },
     "execution_count": 15,
     "metadata": {},
     "output_type": "execute_result"
    }
   ],
   "source": [
    "best_clf['pre_processing'].transform(fn)['Title_Mr.']"
   ],
   "metadata": {
    "collapsed": false,
    "pycharm": {
     "name": "#%%\n"
    }
   }
  },
  {
   "cell_type": "markdown",
   "source": [
    "we see that almost all fn's are men ('Mr.' to be specific). In addition,\n",
    "we see that the classifier puts a large emphasis on both title and one's Sex.\\\n",
    "Since we can assume the Titles cover one's sex (a 'Mrs.' is a female, etc),\\\n",
    "we'll try to remove the Sex, as it has a high correlation with the titles.\n",
    "to prove this, we'll check it's chi2 score with \"Mr.\":"
   ],
   "metadata": {
    "collapsed": false,
    "pycharm": {
     "name": "#%% md\n"
    }
   }
  },
  {
   "cell_type": "code",
   "execution_count": 16,
   "outputs": [
    {
     "data": {
      "text/plain": "(array([218.97435897]), array([1.51392505e-49]))"
     },
     "execution_count": 16,
     "metadata": {},
     "output_type": "execute_result"
    }
   ],
   "source": [
    "trans_x = best_clf['pre_processing'].transform(X)\n",
    "chi2(trans_x['Title_Mr.'].to_frame(),trans_x['Sex'])"
   ],
   "metadata": {
    "collapsed": false,
    "pycharm": {
     "name": "#%%\n"
    }
   }
  },
  {
   "cell_type": "markdown",
   "source": [
    "voalá. Insane score. let's try the same thing without Sex (as the titles\n",
    "are more precise than Sex):"
   ],
   "metadata": {
    "collapsed": false,
    "pycharm": {
     "name": "#%% md\n"
    }
   }
  },
  {
   "cell_type": "code",
   "execution_count": 17,
   "outputs": [
    {
     "name": "stdout",
     "output_type": "stream",
     "text": [
      "original score, with sex:\n",
      "\n",
      "[0.78277154 0.82740325 0.77651515 0.77651515 0.81937672]\n",
      "0.7965163614093018\n",
      "[0.84990803 0.84716857 0.84471012 0.84294137 0.84110169]\n",
      "0.8451659569822032\n",
      "\n",
      "\n",
      "\"improved\" score, without sex:\n",
      "\n",
      "[0.76425302 0.80690803 0.76578283 0.77861953 0.7758109 ]\n",
      "0.7782748604695817\n",
      "[0.8662725  0.83786625 0.84575827 0.83137897 0.84031701]\n",
      "0.8443186001070438\n"
     ]
    }
   ],
   "source": [
    "trans_x_no_sex = trans_x.drop('Sex',axis=1)\n",
    "print('original score, with sex:\\n',\n",
    "      *cross_val_score_regular(best_clf['classifier'],trans_x,y),sep='\\n')\n",
    "print('\\n\\n\"improved\" score, without sex:\\n',\n",
    "      *cross_val_score_regular(best_clf['classifier'],trans_x_no_sex,y),sep='\\n')"
   ],
   "metadata": {
    "collapsed": false,
    "pycharm": {
     "name": "#%%\n"
    }
   }
  },
  {
   "cell_type": "markdown",
   "source": [
    "aaaaaand it didn't work :(\n",
    "let's try removing the columns that aren't relevant to the model (i.e. got feature_importance 0):"
   ],
   "metadata": {
    "collapsed": false,
    "pycharm": {
     "name": "#%% md\n"
    }
   }
  },
  {
   "cell_type": "code",
   "execution_count": 18,
   "outputs": [
    {
     "name": "stdout",
     "output_type": "stream",
     "text": [
      "old pipe\n",
      "[0.78641282 0.82178527 0.78219697 0.76725589 0.83442866]\n",
      "0.7984159219928777\n",
      "[0.84617002 0.83736697 0.85774648 0.85322633 0.85318581]\n",
      "0.8495391224997835\n",
      "new pipe\n",
      "[0.77153558 0.82178527 0.78219697 0.76157407 0.83241467]\n",
      "0.7939013126102378\n",
      "[0.84384444 0.83919327 0.85217819 0.84808385 0.85601067]\n",
      "0.8478620835217292\n"
     ]
    }
   ],
   "source": [
    "cols_to_drop = [x[1] for x in feature_importances if x[0]==0]\n",
    "print('old pipe',*cross_val_score_regular(best_clf,X,y),sep='\\n')\n",
    "pipe_filtered = Pipeline([('pre_processing',Preprocessor(cols_to_drop=cols_to_drop)),\n",
    "                    ('classifier', best_clf['classifier'])])\n",
    "print('new pipe',*cross_val_score_regular(pipe_filtered,X,y),sep='\\n')"
   ],
   "metadata": {
    "collapsed": false,
    "pycharm": {
     "name": "#%%\n"
    }
   }
  },
  {
   "cell_type": "code",
   "execution_count": 19,
   "outputs": [
    {
     "data": {
      "text/plain": "array([[0.17879910823422437, 'Sex'],\n       [0.05689529780776213, 'Age'],\n       [0.023730730586101693, 'Parch'],\n       [0.10213345479714955, 'Fare'],\n       [0.040831900257978615, 'SibSp^2'],\n       [0.05026902389167042, 'Pclass_1'],\n       [0.0113876467981609, 'Pclass_2'],\n       [0.07178393929387732, 'Pclass_3'],\n       [0.0028159169632435265, 'Title_Dr.'],\n       [0.0108817406837449, 'Title_Master.'],\n       [0.03178228369341245, 'Title_Miss.'],\n       [0.17918718295502226, 'Title_Mr.'],\n       [0.07477866948595278, 'Title_Mrs.'],\n       [0.002479239015436822, 'Title_Rare'],\n       [0.011263774077739543, 'SibSp_0'],\n       [0.010522134433402682, 'SibSp_1'],\n       [0.002919992656201411, 'SibSp_2'],\n       [0.004238448664272785, 'SibSp_3'],\n       [0.004075187040135072, 'SibSp_4'],\n       [0.0004097854450713333, 'SibSp_5'],\n       [0.002705062213589189, 'SibSp_8'],\n       [0.00030767549575094625, 'Embarked_-1'],\n       [0.014344443860830836, 'Embarked_C'],\n       [0.003908796629588943, 'Embarked_Q'],\n       [0.008677727631922625, 'Embarked_S'],\n       [0.05540500238496584, 'Cabin_Deck_-1'],\n       [0.0005789990884349271, 'Cabin_Deck_A'],\n       [0.010578449764733718, 'Cabin_Deck_B'],\n       [0.009625309008267009, 'Cabin_Deck_C'],\n       [0.0029723431710599645, 'Cabin_Deck_D'],\n       [0.018117708067489083, 'Cabin_Deck_E'],\n       [0.0015930259028064022, 'Cabin_Deck_F']], dtype=object)"
     },
     "execution_count": 19,
     "metadata": {},
     "output_type": "execute_result"
    }
   ],
   "source": [
    "np.c_[pipe_filtered['classifier'].feature_importances_,\n",
    "      pipe_filtered['pre_processing'].get_features()]"
   ],
   "metadata": {
    "collapsed": false,
    "pycharm": {
     "name": "#%%\n"
    }
   }
  },
  {
   "cell_type": "markdown",
   "source": [
    "in addition, let's try creating the clf again, but incorporating the skewness of the class.\n",
    "scale_pos_weight=negatives/positives."
   ],
   "metadata": {
    "collapsed": false
   }
  },
  {
   "cell_type": "code",
   "execution_count": 20,
   "outputs": [
    {
     "data": {
      "text/plain": "{'bootstrap': True,\n 'ccp_alpha': 0.0,\n 'class_weight': None,\n 'criterion': 'gini',\n 'max_depth': 5,\n 'max_features': 'log2',\n 'max_leaf_nodes': None,\n 'max_samples': None,\n 'min_impurity_decrease': 0.0,\n 'min_impurity_split': None,\n 'min_samples_leaf': 1,\n 'min_samples_split': 2,\n 'min_weight_fraction_leaf': 0.0,\n 'n_estimators': 200,\n 'n_jobs': None,\n 'oob_score': False,\n 'random_state': None,\n 'verbose': 0,\n 'warm_start': False,\n 'scale_pos_weight': 0.6072234762979684}"
     },
     "execution_count": 20,
     "metadata": {},
     "output_type": "execute_result"
    }
   ],
   "source": [
    "xgb_params = pipe_filtered['classifier'].get_params()\n",
    "xgb_params['scale_pos_weight'] = ((y==1).sum()/(y==0).sum()) # positive cases/neg cases.\n",
    "xgb_params"
   ],
   "metadata": {
    "collapsed": false,
    "pycharm": {
     "name": "#%%\n"
    }
   }
  },
  {
   "cell_type": "code",
   "execution_count": 21,
   "outputs": [
    {
     "name": "stdout",
     "output_type": "stream",
     "text": [
      "filtered pipe:\n",
      "[0.78277154 0.82178527 0.78787879 0.77293771 0.83442866]\n",
      "0.799960392919371\n",
      "[0.84990803 0.83686769 0.85879463 0.8550606  0.84561362]\n",
      "0.8492489131639426\n",
      "[17:03:42] WARNING: C:\\Users\\Administrator\\workspace\\xgboost-win64_release_1.1.0\\src\\learner.cc:480: \n",
      "Parameters: { bootstrap, ccp_alpha, criterion, max_features, min_impurity_decrease, min_samples_leaf, min_samples_split, min_weight_fraction_leaf, oob_score, verbose, warm_start } might not be used.\n",
      "\n",
      "  This may not be accurate due to some parameters are only used in language bindings but\n",
      "  passed down to XGBoost core.  Or some parameters are not used but slip through this\n",
      "  verification. Please open an issue if you find above cases.\n",
      "\n",
      "\n",
      "[17:03:42] WARNING: C:\\Users\\Administrator\\workspace\\xgboost-win64_release_1.1.0\\src\\learner.cc:480: \n",
      "Parameters: { bootstrap, ccp_alpha, criterion, max_features, min_impurity_decrease, min_samples_leaf, min_samples_split, min_weight_fraction_leaf, oob_score, verbose, warm_start } might not be used.\n",
      "\n",
      "  This may not be accurate due to some parameters are only used in language bindings but\n",
      "  passed down to XGBoost core.  Or some parameters are not used but slip through this\n",
      "  verification. Please open an issue if you find above cases.\n",
      "\n",
      "\n",
      "[17:03:43] WARNING: C:\\Users\\Administrator\\workspace\\xgboost-win64_release_1.1.0\\src\\learner.cc:480: \n",
      "Parameters: { bootstrap, ccp_alpha, criterion, max_features, min_impurity_decrease, min_samples_leaf, min_samples_split, min_weight_fraction_leaf, oob_score, verbose, warm_start } might not be used.\n",
      "\n",
      "  This may not be accurate due to some parameters are only used in language bindings but\n",
      "  passed down to XGBoost core.  Or some parameters are not used but slip through this\n",
      "  verification. Please open an issue if you find above cases.\n",
      "\n",
      "\n",
      "[17:03:43] WARNING: C:\\Users\\Administrator\\workspace\\xgboost-win64_release_1.1.0\\src\\learner.cc:480: \n",
      "Parameters: { bootstrap, ccp_alpha, criterion, max_features, min_impurity_decrease, min_samples_leaf, min_samples_split, min_weight_fraction_leaf, oob_score, verbose, warm_start } might not be used.\n",
      "\n",
      "  This may not be accurate due to some parameters are only used in language bindings but\n",
      "  passed down to XGBoost core.  Or some parameters are not used but slip through this\n",
      "  verification. Please open an issue if you find above cases.\n",
      "\n",
      "\n",
      "[17:03:43] WARNING: C:\\Users\\Administrator\\workspace\\xgboost-win64_release_1.1.0\\src\\learner.cc:480: \n",
      "Parameters: { bootstrap, ccp_alpha, criterion, max_features, min_impurity_decrease, min_samples_leaf, min_samples_split, min_weight_fraction_leaf, oob_score, verbose, warm_start } might not be used.\n",
      "\n",
      "  This may not be accurate due to some parameters are only used in language bindings but\n",
      "  passed down to XGBoost core.  Or some parameters are not used but slip through this\n",
      "  verification. Please open an issue if you find above cases.\n",
      "\n",
      "\n",
      "skewed pipe\n",
      "[0.7659176  0.8122139  0.78577441 0.78367003 0.77220691]\n",
      "0.783956571581121\n",
      "[0.9823085  0.96976744 0.97533574 0.97301015 0.97865662]\n",
      "0.975815690945627\n"
     ]
    }
   ],
   "source": [
    "old_clf = best_clf['classifier']\n",
    "skew_pipe = Pipeline([('pre_processing',pipe_filtered['pre_processing']),\n",
    "                    ('classifier', xgb.XGBClassifier(**xgb_params))])\n",
    "print('filtered pipe:',*cross_val_score_regular(pipe_filtered,X,y),sep='\\n')\n",
    "print('skewed pipe',*cross_val_score_regular(skew_pipe,X,y),sep='\\n')"
   ],
   "metadata": {
    "collapsed": false,
    "pycharm": {
     "name": "#%%\n"
    }
   }
  },
  {
   "cell_type": "markdown",
   "source": [
    "didn't work. reverting back to filtered pipe.\n",
    "finally, we should try dealing with the fact that the data is skewed\n",
    "by stratifying the initial split maybe:"
   ],
   "metadata": {
    "collapsed": false,
    "pycharm": {
     "name": "#%% md\n"
    }
   }
  },
  {
   "cell_type": "code",
   "execution_count": 22,
   "outputs": [],
   "source": [
    "X_strat,X_test_strat,y_strat,y_test_strat = train_test_split(data.drop('Survived',axis=1),\n",
    "                                        data['Survived'], test_size=0.2,\n",
    "                                        random_state=42,stratify=data['Survived'])"
   ],
   "metadata": {
    "collapsed": false,
    "pycharm": {
     "name": "#%%\n"
    }
   }
  },
  {
   "cell_type": "code",
   "execution_count": 23,
   "outputs": [
    {
     "data": {
      "text/plain": "(array([0.84204545, 0.80795455, 0.81859979, 0.79707419, 0.79503367]),\n 0.8121415302449785,\n array([0.83928898, 0.85269406, 0.85509113, 0.84283651, 0.85090909]),\n 0.8481639547666944)"
     },
     "execution_count": 23,
     "metadata": {},
     "output_type": "execute_result"
    }
   ],
   "source": [
    "cross_val_score_regular(pipe_filtered,X_strat,y_strat)"
   ],
   "metadata": {
    "collapsed": false,
    "pycharm": {
     "name": "#%%\n"
    }
   }
  },
  {
   "cell_type": "markdown",
   "source": [
    "We didn't change the model, only now we're looking at a more realistic test case.\n",
    "now, it seems we overfit the training set. we need to reduce the expressibility of the model.\n",
    "let's reduce the dimension of the model, by further removing features below a certain\n",
    "threshold:"
   ],
   "metadata": {
    "collapsed": false,
    "pycharm": {
     "name": "#%% md\n"
    }
   }
  },
  {
   "cell_type": "code",
   "execution_count": 24,
   "outputs": [
    {
     "name": "stdout",
     "output_type": "stream",
     "text": [
      "filtered_pipe_1\n",
      "[0.77351228 0.83104453 0.78219697 0.76157407 0.82117872]\n",
      "0.7939013126102378\n",
      "[0.8484956  0.84243201 0.84611857 0.85132656 0.8606403 ]\n",
      "0.8498026084065378\n",
      "pipe_filtered_2\n",
      "[0.78838951 0.82178527 0.78219697 0.77861953 0.81937672]\n",
      "0.798073600466541\n",
      "[0.84990803 0.84384444 0.85640354 0.85316083 0.84290647]\n",
      "0.8492446584498303\n"
     ]
    }
   ],
   "source": [
    "cols_to_drop_2 = [x[1] for x in np.c_[pipe_filtered['classifier'].feature_importances_,\n",
    "                                   pipe_filtered['pre_processing'].get_features()] if x[0]<0.01]\n",
    "pipe_filtered_2 = Pipeline([('pre_processing',Preprocessor(cols_to_drop=cols_to_drop+cols_to_drop_2)),\n",
    "                    ('classifier', best_clf['classifier'])])\n",
    "pipe_filtered_2\n",
    "print('filtered_pipe_1',*cross_val_score_regular(pipe_filtered,X,y),sep='\\n')\n",
    "print('pipe_filtered_2',*cross_val_score_regular(pipe_filtered_2,X,y),sep='\\n')"
   ],
   "metadata": {
    "collapsed": false,
    "pycharm": {
     "name": "#%%\n"
    }
   }
  },
  {
   "cell_type": "markdown",
   "source": [
    "I guess good enough for now.\n",
    "### visualize roc_auc score\n",
    "taken from [here](https://scikit-learn.org/stable/auto_examples/model_selection/plot_roc_crossval.html)"
   ],
   "metadata": {
    "collapsed": false
   }
  },
  {
   "cell_type": "code",
   "execution_count": 25,
   "outputs": [
    {
     "data": {
      "text/plain": "<Figure size 432x288 with 1 Axes>",
      "image/png": "[encoded data removed]"
     },
     "metadata": {
      "needs_background": "dark"
     },
     "output_type": "display_data"
    }
   ],
   "source": [
    "tprs = []\n",
    "aucs = []\n",
    "mean_fpr = np.linspace(0, 1, 100)\n",
    "\n",
    "fig, ax = plt.subplots()\n",
    "kf = StratifiedKFold()\n",
    "lr_clf_pipe = pipe_filtered_2\n",
    "for i, (train, test) in enumerate(kf.split(X, y)):\n",
    "    lr_clf_pipe.fit(X.iloc[train], y.iloc[train])\n",
    "    viz = plot_roc_curve(lr_clf_pipe, X.iloc[test], y.iloc[test],\n",
    "                         name='ROC fold {}'.format(i),\n",
    "                         lw=1, ax=ax)\n",
    "    interp_tpr = np.interp(mean_fpr, viz.fpr, viz.tpr)\n",
    "    interp_tpr[0] = 0.0\n",
    "    tprs.append(interp_tpr)\n",
    "    aucs.append(viz.roc_auc)\n",
    "\n",
    "ax.plot([0, 1], [0, 1], linestyle='--', lw=2, color='r',\n",
    "        label='Chance', alpha=.8)\n",
    "\n",
    "mean_tpr = np.mean(tprs, axis=0)\n",
    "mean_tpr[-1] = 1.0\n",
    "mean_auc = auc(mean_fpr, mean_tpr)\n",
    "std_auc = np.std(aucs)\n",
    "ax.plot(mean_fpr, mean_tpr, color='b',\n",
    "        label=r'Mean ROC (AUC = %0.2f $\\pm$ %0.2f)' % (mean_auc, std_auc),\n",
    "        lw=2, alpha=.8)\n",
    "\n",
    "std_tpr = np.std(tprs, axis=0)\n",
    "tprs_upper = np.minimum(mean_tpr + std_tpr, 1)\n",
    "tprs_lower = np.maximum(mean_tpr - std_tpr, 0)\n",
    "ax.fill_between(mean_fpr, tprs_lower, tprs_upper, color='grey', alpha=.2,\n",
    "                label=r'$\\pm$ 1 std. dev.')\n",
    "\n",
    "ax.set(xlim=[-0.05, 1.05], ylim=[-0.05, 1.05],\n",
    "       title=\"Receiver operating characteristic example\")\n",
    "ax.legend(loc=\"lower right\")\n",
    "plt.show()\n"
   ],
   "metadata": {
    "collapsed": false,
    "pycharm": {
     "name": "#%%\n"
    }
   }
  },
  {
   "cell_type": "markdown",
   "source": [
    "# the final test"
   ],
   "metadata": {
    "collapsed": false,
    "pycharm": {
     "name": "#%% md\n"
    }
   }
  },
  {
   "cell_type": "code",
   "execution_count": 26,
   "outputs": [
    {
     "name": "stdout",
     "output_type": "stream",
     "text": [
      "score:  0.8264187866927593\n",
      "[[93 12]\n",
      " [17 56]]\n",
      "fp: \n",
      "      Pclass                                           Name     Sex   Age  \\\n",
      "854       2  Carter, Mrs. Ernest Courtenay (Lilian Hughes)  female  44.0   \n",
      "396       3                            Olsson, Miss. Elina  female  31.0   \n",
      "235       3                   Harknett, Miss. Alice Phoebe  female   NaN   \n",
      "578       3               Caram, Mrs. Joseph (Maria Elias)  female   NaN   \n",
      "593       3                             Bourke, Miss. Mary  female   NaN   \n",
      "852       3                        Boulos, Miss. Nourelain  female   9.0   \n",
      "807       3                Pettersson, Miss. Ellen Natalia  female  18.0   \n",
      "49        3  Arnold-Franchi, Mrs. Josef (Josefine Franchi)  female  18.0   \n",
      "254       3       Rosblom, Mrs. Viktor (Helena Wilhelmina)  female  41.0   \n",
      "745       1                   Crosby, Capt. Edward Gifford    male  70.0   \n",
      "362       3                Barbara, Mrs. (Catherine David)  female  45.0   \n",
      "772       2                              Mack, Mrs. (Mary)  female  57.0   \n",
      "\n",
      "     SibSp  Parch       Ticket     Fare Cabin Embarked  \n",
      "854      1      0       244252  26.0000   NaN        S  \n",
      "396      0      0       350407   7.8542   NaN        S  \n",
      "235      0      0   W./C. 6609   7.5500   NaN        S  \n",
      "578      1      0         2689  14.4583   NaN        C  \n",
      "593      0      2       364848   7.7500   NaN        Q  \n",
      "852      1      1         2678  15.2458   NaN        C  \n",
      "807      0      0       347087   7.7750   NaN        S  \n",
      "49       1      0       349237  17.8000   NaN        S  \n",
      "254      0      2       370129  20.2125   NaN        S  \n",
      "745      1      1    WE/P 5735  71.0000   B22        S  \n",
      "362      0      1         2691  14.4542   NaN        C  \n",
      "772      0      0  S.O./P.P. 3  10.5000   E77        S  \n",
      "\n",
      "\n",
      "fn: \n",
      "      Pclass                                               Name     Sex   Age  \\\n",
      "804       3                            Hedman, Mr. Oskar Arvid    male  27.0   \n",
      "507       1      Bradley, Mr. George (\"George Arthur Brayton\")    male   NaN   \n",
      "165       3    Goldsmith, Master. Frank John William \"Frankie\"    male   9.0   \n",
      "23        1                       Sloper, Mr. William Thompson    male  28.0   \n",
      "447       1                        Seward, Mr. Frederic Kimber    male  34.0   \n",
      "737       1                             Lesurer, Mr. Gustave J    male  35.0   \n",
      "209       1                                   Blank, Mr. Henry    male  40.0   \n",
      "298       1                              Saalfeld, Mr. Adolphe    male   NaN   \n",
      "821       3                                  Lulic, Mr. Nikola    male  27.0   \n",
      "204       3                           Cohen, Mr. Gurshon \"Gus\"    male  18.0   \n",
      "677       3                            Turja, Miss. Anna Sofia  female  18.0   \n",
      "570       2                                 Harris, Mr. George    male  62.0   \n",
      "192       3    Andersen-Jensen, Miss. Carla Christine Nielsine  female  19.0   \n",
      "744       3                                 Stranden, Mr. Juho    male  31.0   \n",
      "109       3                                Moran, Miss. Bertha  female   NaN   \n",
      "97        1                    Greenfield, Mr. William Bertram    male  23.0   \n",
      "25        3  Asplund, Mrs. Carl Oscar (Selma Augusta Emilia...  female  38.0   \n",
      "\n",
      "     SibSp  Parch             Ticket      Fare    Cabin Embarked  \n",
      "804      0      0             347089    6.9750      NaN        S  \n",
      "507      0      0             111427   26.5500      NaN        S  \n",
      "165      0      2             363291   20.5250      NaN        S  \n",
      "23       0      0             113788   35.5000       A6        S  \n",
      "447      0      0             113794   26.5500      NaN        S  \n",
      "737      0      0           PC 17755  512.3292     B101        C  \n",
      "209      0      0             112277   31.0000      A31        C  \n",
      "298      0      0              19988   30.5000     C106        S  \n",
      "821      0      0             315098    8.6625      NaN        S  \n",
      "204      0      0           A/5 3540    8.0500      NaN        S  \n",
      "677      0      0               4138    9.8417      NaN        S  \n",
      "570      0      0        S.W./PP 752   10.5000      NaN        S  \n",
      "192      1      0             350046    7.8542      NaN        S  \n",
      "744      0      0  STON/O 2. 3101288    7.9250      NaN        S  \n",
      "109      1      0             371110   24.1500      NaN        Q  \n",
      "97       0      1           PC 17759   63.3583  D10 D12        C  \n",
      "25       1      5             347077   31.3875      NaN        S  \n"
     ]
    }
   ],
   "source": [
    "# final test\n",
    "best_clf = pipe_filtered_2\n",
    "best_clf.fit(X,y)\n",
    "pred = best_clf.predict(X_test)\n",
    "print('score: ',roc_auc_score(y_test,pred))\n",
    "print(confusion_matrix(y_test,pred))\n",
    "print('fp: \\n', X_test[(y_test != pred) & (y_test == 0)])\n",
    "fn = X_test[(y_test != pred) & (y_test == 1)]\n",
    "print('\\n\\nfn: \\n', fn)"
   ],
   "metadata": {
    "collapsed": false,
    "pycharm": {
     "name": "#%%\n"
    }
   }
  },
  {
   "cell_type": "code",
   "execution_count": 27,
   "outputs": [
    {
     "data": {
      "text/plain": "Pclass        int64\nName         object\nSex          object\nAge         float64\nSibSp         int64\nParch         int64\nTicket       object\nFare        float64\nCabin        object\nEmbarked     object\ndtype: object"
     },
     "execution_count": 27,
     "metadata": {},
     "output_type": "execute_result"
    }
   ],
   "source": [
    "X_test.dtypes\n",
    "# X.iloc[0,:]"
   ],
   "metadata": {
    "collapsed": false,
    "pycharm": {
     "name": "#%%\n"
    }
   }
  },
  {
   "cell_type": "code",
   "execution_count": 32,
   "outputs": [
    {
     "name": "stdout",
     "output_type": "stream",
     "text": [
      "   Pclass                  Name   Sex   Age  SibSp  Parch Ticket  Fare Cabin  \\\n",
      "0       1  Shumacher, Mr. Ariel  male  21.0      2      4   None  30.0    E3   \n",
      "\n",
      "  Embarked  \n",
      "0        S   \n",
      " Pclass        int64\n",
      "Name         object\n",
      "Sex          object\n",
      "Age         float64\n",
      "SibSp         int64\n",
      "Parch         int64\n",
      "Ticket       object\n",
      "Fare        float64\n",
      "Cabin        object\n",
      "Embarked     object\n",
      "dtype: object\n",
      "will you survive?:  [ True] \n",
      "with probability: [[0.49839963 0.50160037]]\n"
     ]
    }
   ],
   "source": [
    "newbie = [1,'Shumacher, Mr. Ariel','male',21,2,4,None,30,'E3','S']\n",
    "def get_df_like_titanic(x):\n",
    "    res = X.iloc[0:0,:].copy()\n",
    "    res.append(x)\n",
    "    return res\n",
    "def will_you_survive(*params):\n",
    "    res = X.iloc[0:0,:].copy()\n",
    "    df = pd.DataFrame(np.atleast_2d(params),columns=X.columns)\n",
    "    for x in X.columns:\n",
    "        df[x]=df[x].astype(X[x].dtypes.name)\n",
    "    print(df,'\\n',df.dtypes)\n",
    "    print('will you survive?: ',best_clf.predict(df)==1,\n",
    "          '\\nwith probability:',best_clf.predict_proba(df))\n",
    "will_you_survive(*newbie)"
   ],
   "metadata": {
    "collapsed": false,
    "pycharm": {
     "name": "#%%\n"
    }
   }
  },
  {
   "cell_type": "code",
   "execution_count": null,
   "outputs": [],
   "source": [
    "\n"
   ],
   "metadata": {
    "collapsed": false,
    "pycharm": {
     "name": "#%%\n"
    }
   }
  }
 ],
 "metadata": {
  "kernelspec": {
   "name": "pycharm-1a86bc75",
   "language": "python",
   "display_name": "PyCharm (Project)"
  },
  "language_info": {
   "codemirror_mode": {
    "name": "ipython",
    "version": 2
   },
   "file_extension": ".py",
   "mimetype": "text/x-python",
   "name": "python",
   "nbconvert_exporter": "python",
   "pygments_lexer": "ipython2",
   "version": "2.7.6"
  }
 },
 "nbformat": 4,
 "nbformat_minor": 0
}