{
 "cells": [
  {
   "cell_type": "code",
   "execution_count": 1,
   "metadata": {},
   "outputs": [],
   "source": [
    "# pre_processing\n",
    "from sklearn.base import BaseEstimator,TransformerMixin\n",
    "from sklearn.impute import SimpleImputer\n",
    "from sklearn.pipeline import Pipeline\n",
    "from sklearn.preprocessing import StandardScaler\n",
    "from sklearn.preprocessing import RobustScaler\n",
    "from sklearn.preprocessing import PolynomialFeatures\n",
    "from sklearn.preprocessing import OneHotEncoder\n",
    "from sklearn.compose import make_column_transformer, ColumnTransformer\n",
    "\n",
    "# selection\n",
    "from sklearn.model_selection import train_test_split\n",
    "from sklearn.model_selection import KFold,StratifiedKFold\n",
    "from sklearn.model_selection import cross_val_score\n",
    "from sklearn.model_selection import GridSearchCV\n",
    "from sklearn.model_selection import RandomizedSearchCV\n",
    "from sklearn.feature_selection import SelectKBest\n",
    "from sklearn.feature_selection import chi2\n",
    "\n",
    "# models\n",
    "from sklearn.linear_model import LogisticRegression\n",
    "from sklearn.neural_network import MLPClassifier\n",
    "from sklearn.svm import SVC\n",
    "from sklearn.tree import DecisionTreeClassifier\n",
    "from sklearn.ensemble import RandomForestClassifier, AdaBoostClassifier\n",
    "import xgboost as xgb\n",
    "from catboost import CatBoostClassifier, Pool, cv\n",
    "import lightgbm as lgb\n",
    "\n",
    "# metrics\n",
    "from sklearn.metrics import f1_score, plot_roc_curve, auc\n",
    "from sklearn.metrics import roc_auc_score\n",
    "from sklearn.metrics import confusion_matrix\n",
    "import scipy\n",
    "from sklearn.utils.fixes import loguniform\n",
    "from scipy.stats import uniform\n",
    "\n",
    "# general\n",
    "import pandas as pd\n",
    "import numpy as np\n",
    "from time import time\n",
    "from Titanic_utils import *\n",
    "import matplotlib.pyplot as plt\n",
    "plt.rcParams.update({'text.color' : \"k\",\n",
    "                     'axes.labelcolor' : \"w\",\n",
    "                     'xtick.color' : \"w\",\n",
    "                     'ytick.color' : \"w\"})"
   ]
  },
  {
   "cell_type": "markdown",
   "metadata": {},
   "source": [
    "we need to be able to reproduce features from the train to the test,\n",
    "so we'll create a custom sklean preprocessor transformer object.\n",
    "[inspiration](https://scikit-learn.org/stable/auto_examples/compose/plot_column_transformer_mixed_types.html#sphx-glr-auto-examples-compose-plot-column-transformer-mixed-types-py)"
   ]
  },
  {
   "cell_type": "code",
   "execution_count": 2,
   "metadata": {
    "pycharm": {
     "name": "#%%\n"
    }
   },
   "outputs": [],
   "source": [
    "class Preprocessor(BaseEstimator,TransformerMixin):\n",
    "    \"\"\"\n",
    "    A preprocessor transformer class for the Titanic dataset.\n",
    "    The pre-processing stages are as follows:\n",
    "    - Use title of names as a feature.\n",
    "    - Fill NaN ages by the mean age grouped by Title,\n",
    "        the highest correlating feature.\n",
    "    - parse deck level from 'Cabin' feature.\n",
    "    - drop Name, Cabin, Ticket as they were used for another feature,\n",
    "        or aren't worth the trouble.\n",
    "    - one-hot categorical data.\n",
    "    - possibly add/remove columns, based on feature exploration\n",
    "        and false analysis (added ability to define what columns to drop,\n",
    "        if they prove to be bad).\n",
    "    \"\"\"\n",
    "\n",
    "    def fit(self, X, *y):\n",
    "        \"\"\"\n",
    "        fit the preprocessor parameters to the training data.\n",
    "        :param X: data\n",
    "        :param y: labels\n",
    "        :return: none (transformer is now fitted).\n",
    "        \"\"\"\n",
    "        X = X.copy()\n",
    "        X.reset_index(inplace=True,drop=True)\n",
    "        # create Rare title for titles without enough examples (we consider\n",
    "        # it to be unknown).\n",
    "        X['Title'] = X['Name'].apply(lambda x: x.split(',')[1].split()[0])\n",
    "        self.freq_titles = X['Title'].value_counts()\n",
    "        self.freq_titles = self.freq_titles[self.freq_titles>4].index\n",
    "        X.loc[~X['Title'].isin(self.freq_titles),'Title'] = 'Rare'\n",
    "        self.ages = X.groupby('Title')['Age'].mean()\n",
    "        splitted_cabin = X['Cabin'].dropna().str.split(pat='[\\d ]').apply(lambda x: x[0])\n",
    "        X['Cabin_Deck'] = pd.DataFrame(splitted_cabin.tolist(), index = splitted_cabin.index)\n",
    "        if(self.one_hot_cat):\n",
    "            self.ohe = OneHotEncoder(handle_unknown='ignore',sparse=False)\n",
    "            self.ohe.fit(X[self.cat_columns].fillna(-1).astype(str))\n",
    "        else:\n",
    "            # catboost/LightGBM\n",
    "            X[self.cat_text_cols] = X[self.cat_text_cols].fillna('nan')\n",
    "            self.ord_enc = OrdinalEncoderWithUnknown()\n",
    "            self.ord_enc.fit(X[self.cat_text_cols])\n",
    "        # addition\n",
    "        X['SibSp^2'] = X['SibSp']**2\n",
    "        self.scaler = ColumnTransformer(\n",
    "            transformers=[\n",
    "                ('num', StandardScaler(), ['SibSp^2','Fare','Age'])],remainder='drop')\n",
    "        self.scaler.fit(X[['SibSp^2','Fare','Age']])\n",
    "\n",
    "    def add_columns_to_drop(self,cols):\n",
    "        self.drop_columns.append(cols)\n",
    "\n",
    "    def remove_columns_to_drop(self,cols):\n",
    "        self.drop_columns.remove(cols)\n",
    "\n",
    "    def drop_try(self,df):\n",
    "        '''\n",
    "        try to drop columns in 'self.columns_to_drop'.\n",
    "        if columns doesn't exist - do nothing.\n",
    "        :param df:\n",
    "        :return:\n",
    "        '''\n",
    "        for col in self.drop_columns:\n",
    "         try:\n",
    "             df.drop(col,axis=1,inplace=True)\n",
    "         except:\n",
    "             pass\n",
    "        return df\n",
    "\n",
    "    def transform(self,X, *y):\n",
    "        \"\"\"\n",
    "        transform the test/cv data to the same format as the train data.\n",
    "        :param X: data\n",
    "        :param y: none (unused for preprocessing).\n",
    "        :return: preprocessed data.\n",
    "        \"\"\"\n",
    "        X = X.copy()\n",
    "        X.reset_index(inplace=True,drop=True)\n",
    "        # ticket: just shows family relations, which is covered in parch and sibsp anyway.\n",
    "        # name: we already extracted titles\n",
    "        # cabin: we used it for deck feature, no need for it afterwards.\n",
    "        # one_hot categories all at once, drop originals afterwards.\n",
    "        # name_to_titles\n",
    "        X['Title'] = X['Name'].apply(lambda x: x.split(',')[1].split()[0])\n",
    "        X.loc[~X['Title'].isin(self.freq_titles),'Title'] = 'Rare'\n",
    "        # fill age NaNs by titles\n",
    "        # X.Age = self.age_imputer.transform(X.select_dtypes(exclude=object))[:,1]\n",
    "        X.Age = X.apply(lambda x : self.ages[x['Title']] if np.isnan(x['Age']) else x['Age'],axis=1)\n",
    "        # cabin_to_deck_no (keep NaNs as is, column is cabin_deck_-1)\n",
    "        splitted_cabin = X['Cabin'].dropna().str.split(pat='[\\d ]').apply(lambda x: x[0])\n",
    "        X['Cabin_Deck'] = pd.DataFrame(splitted_cabin.tolist(), index = splitted_cabin.index)\n",
    "        # as sex has only 2 categories, just binarize it.\n",
    "        X['Sex'] = (X['Sex']=='male').astype(int)\n",
    "        # found out from feature exploration that sibsp^2 makes a difference.\n",
    "        X['SibSp^2'] = X['SibSp']**2\n",
    "        # one_hot categories all at once, drop originals afterwards.\n",
    "        if(self.one_hot_cat):\n",
    "            ohe_array = self.ohe.transform(X[self.cat_columns].fillna(-1).astype(str))\n",
    "            ohe_df = pd.DataFrame(ohe_array, columns=self.ohe.get_feature_names(self.cat_columns))\n",
    "            X = pd.concat([X,ohe_df],axis='columns').drop(self.cat_columns,axis='columns')\n",
    "        else:\n",
    "            X[self.cat_text_cols] = self.ord_enc.transform(X[self.cat_text_cols].fillna('nan')).astype(int)\n",
    "        X[['SibSp^2','Fare','Age']] = self.scaler.transform(X[['SibSp^2','Fare','Age']])\n",
    "        X = self.drop_try(X)\n",
    "        self.features = X.columns\n",
    "        return X\n",
    "\n",
    "    def fit_transform(self,X, *y):\n",
    "        \"\"\"\n",
    "        fit the preprocessor parameters to the training data,\n",
    "        and transform the train data as well (using tranform func)\n",
    "        :param data:\n",
    "        X_train data, to fit the data preprocessor transformer.\n",
    "        :return:\n",
    "        -------\n",
    "        X_new : ndarray array of shape (n_samples, n_features_new)\n",
    "            Transformed array.\n",
    "        \"\"\"\n",
    "        self.fit(X,y)\n",
    "        return self.transform(X,y)\n",
    "    def get_features(self):\n",
    "        return self.features\n",
    "    def __init__(self,one_hot_cat = True,cols_to_drop = None):\n",
    "        self.one_hot_cat = one_hot_cat\n",
    "        self.drop_columns = ['Ticket','Name','Cabin']\n",
    "        if cols_to_drop is not None :\n",
    "            self.drop_columns += cols_to_drop\n",
    "        self.cat_columns = ['Pclass','Title','SibSp','Embarked','Cabin_Deck']\n",
    "        self.cat_text_cols = ['Title','Embarked','Cabin_Deck']"
   ]
  },
  {
   "cell_type": "markdown",
   "metadata": {},
   "source": [
    "# data and classifier setup"
   ]
  },
  {
   "cell_type": "code",
   "execution_count": 3,
   "metadata": {
    "pycharm": {
     "name": "#%%\n"
    }
   },
   "outputs": [],
   "source": [
    "data = pd.read_csv('titanic.csv')\n",
    "data.dtypes\n",
    "X, X_test, y, y_test = train_test_split(data.drop('Survived',axis=1),\n",
    "                                        data['Survived'], test_size=0.2,\n",
    "                                        random_state=42)"
   ]
  },
  {
   "cell_type": "markdown",
   "metadata": {},
   "source": [
    "## Baseline Value\n",
    "method: just through away everything that isn't numeric,\n",
    "fill with median (robust to outliers), One_hot categories, done.\n",
    "taken from [here](https://scikit-learn.org/stable/auto_examples/compose/plot_column_transformer_mixed_types.html)"
   ]
  },
  {
   "cell_type": "code",
   "execution_count": 4,
   "metadata": {
    "pycharm": {
     "name": "#%%\n"
    }
   },
   "outputs": [
    {
     "name": "stdout",
     "output_type": "stream",
     "text": [
      "baseline scores (cv and train): \n",
      "[0.80295464 0.77913025 0.77293771 0.71675084 0.79128683]\n",
      "0.7726120561847719\n",
      "[0.78336618 0.77082512 0.77566328 0.7901736  0.77581607]\n",
      "0.7791688508252099\n"
     ]
    }
   ],
   "source": [
    "numeric_features = ['Age', 'Fare']\n",
    "numeric_transformer = Pipeline(steps=[\n",
    "    ('imputer', SimpleImputer(strategy='median')),\n",
    "    ('scaler', RobustScaler())])\n",
    "categorical_features = ['Pclass','Sex','SibSp','Parch','Embarked']\n",
    "categorical_transformer = Pipeline(steps=[\n",
    "    ('imputer', SimpleImputer(strategy='constant', fill_value='missing')),\n",
    "    ('onehot', OneHotEncoder(handle_unknown='ignore'))])\n",
    "# note that Col Transformer returns only the transformed columns (unless remainder param set to 'passthrough')\n",
    "preprocessor = ColumnTransformer(\n",
    "    transformers=[\n",
    "        ('num', numeric_transformer, numeric_features),\n",
    "        ('cat', categorical_transformer, categorical_features)])\n",
    "baseline_clf = Pipeline(steps=[('preprocessor', preprocessor),\n",
    "                      ('classifier', LogisticRegression())])\n",
    "\n",
    "scores = cross_val_score_regular(baseline_clf,X,y)\n",
    "print('baseline scores (cv and train): ',*scores,sep='\\n')"
   ]
  },
  {
   "cell_type": "code",
   "execution_count": 5,
   "metadata": {
    "pycharm": {
     "name": "#%%\n"
    }
   },
   "outputs": [
    {
     "data": {
      "text/plain": [
       "Sex                int32\n",
       "Age              float64\n",
       "Parch              int64\n",
       "Fare             float64\n",
       "SibSp^2          float64\n",
       "Pclass_1         float64\n",
       "Pclass_2         float64\n",
       "Pclass_3         float64\n",
       "Title_Dr.        float64\n",
       "Title_Master.    float64\n",
       "Title_Miss.      float64\n",
       "Title_Mr.        float64\n",
       "Title_Mrs.       float64\n",
       "Title_Rare       float64\n",
       "SibSp_0          float64\n",
       "SibSp_1          float64\n",
       "SibSp_2          float64\n",
       "SibSp_3          float64\n",
       "SibSp_4          float64\n",
       "SibSp_5          float64\n",
       "SibSp_8          float64\n",
       "Embarked_-1      float64\n",
       "Embarked_C       float64\n",
       "Embarked_Q       float64\n",
       "Embarked_S       float64\n",
       "Cabin_Deck_-1    float64\n",
       "Cabin_Deck_A     float64\n",
       "Cabin_Deck_B     float64\n",
       "Cabin_Deck_C     float64\n",
       "Cabin_Deck_D     float64\n",
       "Cabin_Deck_E     float64\n",
       "Cabin_Deck_F     float64\n",
       "Cabin_Deck_G     float64\n",
       "Cabin_Deck_T     float64\n",
       "dtype: object"
      ]
     },
     "execution_count": 5,
     "metadata": {},
     "output_type": "execute_result"
    }
   ],
   "source": [
    "pp = Preprocessor()\n",
    "pp.fit(X)\n",
    "pp.transform(X).dtypes"
   ]
  },
  {
   "cell_type": "code",
   "execution_count": 6,
   "metadata": {
    "pycharm": {
     "name": "#%%\n"
    }
   },
   "outputs": [],
   "source": [
    "# general structure of pipeline:\n",
    "from sklearn import set_config\n",
    "set_config(display='diagram')\n",
    "baseline_clf\n",
    "set_config(display='text')"
   ]
  },
  {
   "cell_type": "markdown",
   "metadata": {},
   "source": [
    "## catboost and lightgbm\n",
    " they can handle categorical data, so we'll start off with them, as they need a special setup."
   ]
  },
  {
   "cell_type": "code",
   "execution_count": 30,
   "metadata": {
    "pycharm": {
     "name": "#%%\n"
    }
   },
   "outputs": [
    {
     "name": "stdout",
     "output_type": "stream",
     "text": [
      "catboost cv and train scores: \n",
      "[0.77517686 0.8141906  0.78430135 0.77861953 0.83644265]\n",
      "0.7977461973990487\n",
      "[0.88446328 0.86012351 0.87232231 0.86858827 0.85734463]\n",
      "0.8685683989629538\n",
      "lgbm cv and train scores: \n",
      "[0.77517686 0.8363504  0.80639731 0.78787879 0.78927284]\n",
      "0.7990152389558791\n",
      "[0.96129287 0.94410064 0.94546348 0.95018015 0.94985876]\n",
      "0.9501791791347216\n"
     ]
    }
   ],
   "source": [
    "cb_clf = CatBoostClassifier(iterations=100,\n",
    "                            task_type=\"GPU\",\n",
    "                            devices='0=1',\n",
    "                            cat_features=['Pclass','Title','SibSp',\n",
    "                                          'Parch','Embarked','Cabin_Deck'],\n",
    "                            verbose=False)\n",
    "# cb = False\n",
    "# if(cb):\n",
    "pipe = Pipeline([('pre_processing',Preprocessor(one_hot_cat=False)),('classifier',cb_clf)])\n",
    "cv_scores = cross_val_score_regular(pipe,X,y)\n",
    "print('catboost cv and train scores: ',*cv_scores,sep='\\n')\n",
    "# else:\n",
    "lgb_params = {'classifier__categorical_feature':['Pclass','Title','SibSp','Parch','Embarked','Cabin_Deck']}\n",
    "lgb_clf = lgb.sklearn.LGBMClassifier()\n",
    "pipe = Pipeline([('pre_processing',Preprocessor(one_hot_cat=False)),('classifier',lgb_clf)])\n",
    "pipe.fit(X,y)\n",
    "cv_scores = cross_val_score_regular(pipe,X,y)\n",
    "print('lgbm cv and train scores: ',*cv_scores,sep='\\n')"
   ]
  },
  {
   "cell_type": "markdown",
   "metadata": {},
   "source": [
    "## fitting classifiers with hyper-parameters"
   ]
  },
  {
   "cell_type": "markdown",
   "metadata": {
    "pycharm": {
     "name": "#%% md\n"
    }
   },
   "source": [
    "setting up classifiers and their parameters:"
   ]
  },
  {
   "cell_type": "code",
   "execution_count": 8,
   "metadata": {
    "pycharm": {
     "name": "#%%\n"
    }
   },
   "outputs": [],
   "source": [
    "names = [\"Logistic_Regression\",\n",
    "         \"Linear_SVM\", \"RBF_SVM\",\n",
    "         \"Decision_Tree\",\n",
    "         \"Neural_Net\", \"AdaBoost\",\n",
    "         \"Random_Forest\",\"XGBoost\"]\n",
    "param_grid = {'Logistic_Regression':\n",
    "                  {'classifier__C':loguniform(1e-3, 1e3),\n",
    "                   'classifier__penalty':['l1','l2']},\n",
    "              'Linear_SVM':\n",
    "                  {'classifier__C': scipy.stats.expon(scale=100),\n",
    "                    'classifier__gamma': scipy.stats.expon(scale=.1),\n",
    "                    'classifier__kernel': ['rbf'],\n",
    "                    'classifier__class_weight':['balanced', None]},\n",
    "              'RBF_SVM':\n",
    "                  {'classifier__C': loguniform(1e0, 1e3),\n",
    "                    'classifier__gamma': loguniform(1e-4, 1e-3),\n",
    "                    'classifier__kernel': ['rbf']},\n",
    "              'Decision_Tree':\n",
    "                  {\"classifier__max_depth\": np.linspace(2,10,5),\n",
    "                     \"classifier__max_features\": range(1,9),\n",
    "                     \"classifier__min_samples_leaf\": range(3,9),\n",
    "                     \"classifier__criterion\": [\"gini\", \"entropy\"]},\n",
    "              'Neural_Net':{\n",
    "                  'classifier__solver': ['lbfgs','adam'],\n",
    "                  'classifier__max_iter': [500,1000,1500],\n",
    "                  'classifier__alpha': 10.0 ** -np.arange(1, 7),\n",
    "                  'classifier__hidden_layer_sizes':np.arange(5, 12)\n",
    "              },\n",
    "              'AdaBoost':{\n",
    "                  'classifier__n_estimators': [100,200,500],\n",
    "                  'classifier__learning_rate' : loguniform(1e-2, 1e0),\n",
    "                  'classifier__base_estimator__max_depth' : [4,5,6,7,8]\n",
    "              },\n",
    "              'Random_Forest':{\n",
    "                  'classifier__n_estimators': [200, 500],\n",
    "                  'classifier__max_features': ['auto', 'sqrt', 'log2'],\n",
    "                  'classifier__max_depth' : [4,5,6,7,8],\n",
    "                  'classifier__criterion' :['gini', 'entropy']},\n",
    "              'XGBoost':{\n",
    "                  'classifier__learning_rate':loguniform(1e-2, 1e0),\n",
    "                  'classifier__gamma':[0,1,5],\n",
    "                  'classifier__n_estimators': [500,750,1000],\n",
    "                  'classifier__max_depth': [3,6,8],\n",
    "                  'classifier__subsample': uniform(loc=0.8,scale=0.2),\n",
    "                  'classifier__colsample_bytree': uniform(loc=0.8,scale=0.2)\n",
    "              }}\n",
    "classifiers = [\n",
    "    LogisticRegression(C=0.3,n_jobs=-1,solver='newton-cg'),\n",
    "    SVC(kernel=\"linear\", C=0.025),\n",
    "    SVC(gamma=2, C=1),\n",
    "    DecisionTreeClassifier(max_depth=5),\n",
    "    MLPClassifier(hidden_layer_sizes=(5,3),alpha=1, max_iter=1000),\n",
    "    AdaBoostClassifier(base_estimator=DecisionTreeClassifier(max_depth=10),n_estimators=500),\n",
    "    RandomForestClassifier(max_depth=9, n_estimators=400, max_features=1),\n",
    "    xgb.XGBClassifier(max_depth=10,learning_rate =0.3,n_estimators=500,\n",
    "                      objective=\"reg:squarederror\", n_jobs = -1,random_state=42),\n",
    "]"
   ]
  },
  {
   "cell_type": "markdown",
   "metadata": {
    "pycharm": {
     "name": "#%% md\n"
    }
   },
   "source": [
    "## Random Search on each Clf (20 rounds)"
   ]
  },
  {
   "cell_type": "code",
   "execution_count": 9,
   "metadata": {
    "pycharm": {
     "name": "#%%\n"
    }
   },
   "outputs": [
    {
     "name": "stdout",
     "output_type": "stream",
     "text": [
      "Logistic_Regression\n"
     ]
    },
    {
     "name": "stderr",
     "output_type": "stream",
     "text": [
      "C:\\Users\\Ariel\\AppData\\Local\\Programs\\Python\\Python38\\lib\\site-packages\\sklearn\\base.py:209: FutureWarning: From version 0.24, get_params will raise an AttributeError if a parameter cannot be retrieved as an instance attribute. Previously it would return None.\n",
      "  warnings.warn('From version 0.24, get_params will raise an '\n",
      "C:\\Users\\Ariel\\AppData\\Local\\Programs\\Python\\Python38\\lib\\site-packages\\sklearn\\base.py:209: FutureWarning: From version 0.24, get_params will raise an AttributeError if a parameter cannot be retrieved as an instance attribute. Previously it would return None.\n",
      "  warnings.warn('From version 0.24, get_params will raise an '\n"
     ]
    },
    {
     "name": "stdout",
     "output_type": "stream",
     "text": [
      "RandomizedSearchCV took 6.72 seconds for 20 candidates parameter settings.\n",
      "Pipeline(steps=[('pre_processing', Preprocessor()),\n",
      "                ('classifier',\n",
      "                 LogisticRegression(C=0.10619108399169305, n_jobs=-1,\n",
      "                                    solver='newton-cg'))]) \n",
      "auc:  0.8625159222427083\n",
      "Linear_SVM\n"
     ]
    },
    {
     "name": "stderr",
     "output_type": "stream",
     "text": [
      "C:\\Users\\Ariel\\AppData\\Local\\Programs\\Python\\Python38\\lib\\site-packages\\sklearn\\base.py:209: FutureWarning: From version 0.24, get_params will raise an AttributeError if a parameter cannot be retrieved as an instance attribute. Previously it would return None.\n",
      "  warnings.warn('From version 0.24, get_params will raise an '\n",
      "C:\\Users\\Ariel\\AppData\\Local\\Programs\\Python\\Python38\\lib\\site-packages\\sklearn\\base.py:209: FutureWarning: From version 0.24, get_params will raise an AttributeError if a parameter cannot be retrieved as an instance attribute. Previously it would return None.\n",
      "  warnings.warn('From version 0.24, get_params will raise an '\n"
     ]
    },
    {
     "name": "stdout",
     "output_type": "stream",
     "text": [
      "RandomizedSearchCV took 4.21 seconds for 20 candidates parameter settings.\n",
      "Pipeline(steps=[('pre_processing', Preprocessor()),\n",
      "                ('classifier',\n",
      "                 SVC(C=16.493994305284705, gamma=0.0190010899985659))]) \n",
      "auc:  0.8624328267838444\n",
      "RBF_SVM\n"
     ]
    },
    {
     "name": "stderr",
     "output_type": "stream",
     "text": [
      "C:\\Users\\Ariel\\AppData\\Local\\Programs\\Python\\Python38\\lib\\site-packages\\sklearn\\base.py:209: FutureWarning: From version 0.24, get_params will raise an AttributeError if a parameter cannot be retrieved as an instance attribute. Previously it would return None.\n",
      "  warnings.warn('From version 0.24, get_params will raise an '\n",
      "C:\\Users\\Ariel\\AppData\\Local\\Programs\\Python\\Python38\\lib\\site-packages\\sklearn\\base.py:209: FutureWarning: From version 0.24, get_params will raise an AttributeError if a parameter cannot be retrieved as an instance attribute. Previously it would return None.\n",
      "  warnings.warn('From version 0.24, get_params will raise an '\n"
     ]
    },
    {
     "name": "stdout",
     "output_type": "stream",
     "text": [
      "RandomizedSearchCV took 3.86 seconds for 20 candidates parameter settings.\n",
      "Pipeline(steps=[('pre_processing', Preprocessor()),\n",
      "                ('classifier',\n",
      "                 SVC(C=25.306063066623494, gamma=0.00012337949527837963))]) \n",
      "auc:  0.8566019667739511\n",
      "Decision_Tree\n"
     ]
    },
    {
     "name": "stderr",
     "output_type": "stream",
     "text": [
      "C:\\Users\\Ariel\\AppData\\Local\\Programs\\Python\\Python38\\lib\\site-packages\\sklearn\\base.py:209: FutureWarning: From version 0.24, get_params will raise an AttributeError if a parameter cannot be retrieved as an instance attribute. Previously it would return None.\n",
      "  warnings.warn('From version 0.24, get_params will raise an '\n",
      "C:\\Users\\Ariel\\AppData\\Local\\Programs\\Python\\Python38\\lib\\site-packages\\sklearn\\base.py:209: FutureWarning: From version 0.24, get_params will raise an AttributeError if a parameter cannot be retrieved as an instance attribute. Previously it would return None.\n",
      "  warnings.warn('From version 0.24, get_params will raise an '\n"
     ]
    },
    {
     "name": "stdout",
     "output_type": "stream",
     "text": [
      "RandomizedSearchCV took 3.34 seconds for 20 candidates parameter settings.\n",
      "Pipeline(steps=[('pre_processing', Preprocessor()),\n",
      "                ('classifier',\n",
      "                 DecisionTreeClassifier(max_depth=8.0, max_features=8,\n",
      "                                        min_samples_leaf=6))]) \n",
      "auc:  0.8290599175987134\n",
      "Neural_Net\n"
     ]
    },
    {
     "name": "stderr",
     "output_type": "stream",
     "text": [
      "C:\\Users\\Ariel\\AppData\\Local\\Programs\\Python\\Python38\\lib\\site-packages\\sklearn\\base.py:209: FutureWarning: From version 0.24, get_params will raise an AttributeError if a parameter cannot be retrieved as an instance attribute. Previously it would return None.\n",
      "  warnings.warn('From version 0.24, get_params will raise an '\n",
      "C:\\Users\\Ariel\\AppData\\Local\\Programs\\Python\\Python38\\lib\\site-packages\\sklearn\\base.py:209: FutureWarning: From version 0.24, get_params will raise an AttributeError if a parameter cannot be retrieved as an instance attribute. Previously it would return None.\n",
      "  warnings.warn('From version 0.24, get_params will raise an '\n"
     ]
    },
    {
     "name": "stdout",
     "output_type": "stream",
     "text": [
      "RandomizedSearchCV took 19.76 seconds for 20 candidates parameter settings.\n",
      "Pipeline(steps=[('pre_processing', Preprocessor()),\n",
      "                ('classifier',\n",
      "                 MLPClassifier(alpha=1e-06, hidden_layer_sizes=8,\n",
      "                               max_iter=1500))]) \n",
      "auc:  0.8613236233082004\n",
      "AdaBoost\n"
     ]
    },
    {
     "name": "stderr",
     "output_type": "stream",
     "text": [
      "C:\\Users\\Ariel\\AppData\\Local\\Programs\\Python\\Python38\\lib\\site-packages\\sklearn\\base.py:209: FutureWarning: From version 0.24, get_params will raise an AttributeError if a parameter cannot be retrieved as an instance attribute. Previously it would return None.\n",
      "  warnings.warn('From version 0.24, get_params will raise an '\n",
      "C:\\Users\\Ariel\\AppData\\Local\\Programs\\Python\\Python38\\lib\\site-packages\\sklearn\\base.py:209: FutureWarning: From version 0.24, get_params will raise an AttributeError if a parameter cannot be retrieved as an instance attribute. Previously it would return None.\n",
      "  warnings.warn('From version 0.24, get_params will raise an '\n"
     ]
    },
    {
     "name": "stdout",
     "output_type": "stream",
     "text": [
      "RandomizedSearchCV took 19.30 seconds for 20 candidates parameter settings.\n",
      "Pipeline(steps=[('pre_processing', Preprocessor()),\n",
      "                ('classifier',\n",
      "                 AdaBoostClassifier(base_estimator=DecisionTreeClassifier(max_depth=4),\n",
      "                                    learning_rate=0.021080020568984736,\n",
      "                                    n_estimators=500))]) \n",
      "auc:  0.838199994253895\n",
      "Random_Forest\n"
     ]
    },
    {
     "name": "stderr",
     "output_type": "stream",
     "text": [
      "C:\\Users\\Ariel\\AppData\\Local\\Programs\\Python\\Python38\\lib\\site-packages\\sklearn\\base.py:209: FutureWarning: From version 0.24, get_params will raise an AttributeError if a parameter cannot be retrieved as an instance attribute. Previously it would return None.\n",
      "  warnings.warn('From version 0.24, get_params will raise an '\n",
      "C:\\Users\\Ariel\\AppData\\Local\\Programs\\Python\\Python38\\lib\\site-packages\\sklearn\\base.py:209: FutureWarning: From version 0.24, get_params will raise an AttributeError if a parameter cannot be retrieved as an instance attribute. Previously it would return None.\n",
      "  warnings.warn('From version 0.24, get_params will raise an '\n"
     ]
    },
    {
     "name": "stdout",
     "output_type": "stream",
     "text": [
      "RandomizedSearchCV took 16.74 seconds for 20 candidates parameter settings.\n",
      "Pipeline(steps=[('pre_processing', Preprocessor()),\n",
      "                ('classifier',\n",
      "                 RandomForestClassifier(max_depth=6, max_features='log2',\n",
      "                                        n_estimators=200))]) \n",
      "auc:  0.86191175588833\n",
      "XGBoost\n"
     ]
    },
    {
     "name": "stderr",
     "output_type": "stream",
     "text": [
      "C:\\Users\\Ariel\\AppData\\Local\\Programs\\Python\\Python38\\lib\\site-packages\\sklearn\\base.py:209: FutureWarning: From version 0.24, get_params will raise an AttributeError if a parameter cannot be retrieved as an instance attribute. Previously it would return None.\n",
      "  warnings.warn('From version 0.24, get_params will raise an '\n",
      "C:\\Users\\Ariel\\AppData\\Local\\Programs\\Python\\Python38\\lib\\site-packages\\sklearn\\base.py:209: FutureWarning: From version 0.24, get_params will raise an AttributeError if a parameter cannot be retrieved as an instance attribute. Previously it would return None.\n",
      "  warnings.warn('From version 0.24, get_params will raise an '\n"
     ]
    },
    {
     "name": "stdout",
     "output_type": "stream",
     "text": [
      "RandomizedSearchCV took 28.20 seconds for 20 candidates parameter settings.\n",
      "Pipeline(steps=[('pre_processing', Preprocessor()),\n",
      "                ('classifier',\n",
      "                 XGBClassifier(base_score=0.5, booster='gbtree',\n",
      "                               colsample_bylevel=1, colsample_bynode=1,\n",
      "                               colsample_bytree=0.8162398049146752, gamma=1,\n",
      "                               gpu_id=-1, importance_type='gain',\n",
      "                               interaction_constraints='',\n",
      "                               learning_rate=0.0592178042115199,\n",
      "                               max_delta_step=0, max_depth=3,\n",
      "                               min_child_weight=1, missing=nan,\n",
      "                               monotone_constraints='()', n_estimators=500,\n",
      "                               n_jobs=-1, num_parallel_tree=1,\n",
      "                               objective='reg:squarederror', random_state=42,\n",
      "                               reg_alpha=0, reg_lambda=1, scale_pos_weight=1,\n",
      "                               subsample=0.8025175231674534,\n",
      "                               tree_method='exact', validate_parameters=1,\n",
      "                               verbosity=None))]) \n",
      "auc:  0.8634841587738027\n"
     ]
    },
    {
     "name": "stderr",
     "output_type": "stream",
     "text": [
      "C:\\Users\\Ariel\\AppData\\Local\\Programs\\Python\\Python38\\lib\\site-packages\\sklearn\\base.py:209: FutureWarning: From version 0.24, get_params will raise an AttributeError if a parameter cannot be retrieved as an instance attribute. Previously it would return None.\n",
      "  warnings.warn('From version 0.24, get_params will raise an '\n"
     ]
    }
   ],
   "source": [
    "scores = []\n",
    "random_searches = {}\n",
    "for (name,clf) in zip(names, classifiers):\n",
    "    pipeclf = Pipeline([('pre_processing',Preprocessor()),('classifier',clf)])\n",
    "    print(name)\n",
    "    n_iter_search = 20\n",
    "    random_searches[name] = RandomizedSearchCV(pipeclf,param_grid[name],\n",
    "                                               n_jobs=-1,scoring='roc_auc',\n",
    "                                               n_iter=n_iter_search,\n",
    "                                               return_train_score=True)\n",
    "    start = time()\n",
    "    random_search = random_searches[name]\n",
    "    random_search.fit(X, y)\n",
    "    print(\"RandomizedSearchCV took %.2f seconds for %d candidates\"\n",
    "          \" parameter settings.\" % ((time() - start), n_iter_search))\n",
    "    print(random_search.best_estimator_,'\\nauc: ',random_search.best_score_)\n",
    "    scores.append((name,random_search.best_score_))"
   ]
  },
  {
   "cell_type": "markdown",
   "metadata": {
    "pycharm": {
     "name": "#%% md\n"
    }
   },
   "source": [
    "# False analysis"
   ]
  },
  {
   "cell_type": "code",
   "execution_count": 10,
   "metadata": {
    "pycharm": {
     "name": "#%%\n"
    }
   },
   "outputs": [
    {
     "data": {
      "text/plain": [
       "['random_searches.joblib']"
      ]
     },
     "execution_count": 10,
     "metadata": {},
     "output_type": "execute_result"
    }
   ],
   "source": [
    "# save searches.\n",
    "from joblib import dump, load\n",
    "dump(random_searches, 'random_searches.joblib')"
   ]
  },
  {
   "cell_type": "code",
   "execution_count": 11,
   "metadata": {
    "pycharm": {
     "name": "#%%\n"
    }
   },
   "outputs": [],
   "source": [
    "random_searches = load('random_searches.joblib')"
   ]
  },
  {
   "cell_type": "markdown",
   "metadata": {},
   "source": [
    "see scores of the best classifiers."
   ]
  },
  {
   "cell_type": "code",
   "execution_count": 12,
   "metadata": {
    "pycharm": {
     "name": "#%%\n"
    }
   },
   "outputs": [
    {
     "name": "stdout",
     "output_type": "stream",
     "text": [
      "XGBoost \n",
      "\n",
      "best index:  2\n",
      "mean_fit_time 0.6515990734100342\n",
      "std_fit_time 0.012449873920408389\n",
      "mean_score_time 0.04359965324401856\n",
      "std_score_time 0.0050041577898722895\n",
      "param_classifier__colsample_bytree 0.8162398049146752\n",
      "param_classifier__gamma 1\n",
      "param_classifier__learning_rate 0.0592178042115199\n",
      "param_classifier__max_depth 3\n",
      "param_classifier__n_estimators 500\n",
      "param_classifier__subsample 0.8025175231674534\n",
      "params {'classifier__colsample_bytree': 0.8162398049146752, 'classifier__gamma': 1, 'classifier__learning_rate': 0.0592178042115199, 'classifier__max_depth': 3, 'classifier__n_estimators': 500, 'classifier__subsample': 0.8025175231674534}\n",
      "split0_test_score 0.8315647107781939\n",
      "split1_test_score 0.9204119850187266\n",
      "split2_test_score 0.8207070707070707\n",
      "split3_test_score 0.8450126262626263\n",
      "split4_test_score 0.8997244011023956\n",
      "mean_test_score 0.8634841587738027\n",
      "std_test_score 0.039354950138787224\n",
      "rank_test_score 1\n",
      "split0_train_score 0.9204046774405465\n",
      "split1_train_score 0.890224674812771\n",
      "split2_train_score 0.9077169996724535\n",
      "split3_train_score 0.9110907304290861\n",
      "split4_train_score 0.8978081188533166\n",
      "mean_train_score 0.9054490402416349\n",
      "std_train_score 0.010495793200616499\n",
      "\n",
      "\n",
      "\n",
      "Logistic_Regression \n",
      "\n",
      "best index:  13\n",
      "mean_fit_time 0.15779848098754884\n",
      "std_fit_time 0.02521621114898199\n",
      "mean_score_time 0.060804891586303714\n",
      "std_score_time 0.00932395535863312\n",
      "param_classifier__C 0.10619108399169305\n",
      "param_classifier__penalty l2\n",
      "params {'classifier__C': 0.10619108399169305, 'classifier__penalty': 'l2'}\n",
      "split0_test_score 0.8295880149812733\n",
      "split1_test_score 0.8884727424053267\n",
      "split2_test_score 0.8364898989898989\n",
      "split3_test_score 0.8536405723905724\n",
      "split4_test_score 0.9043883824464702\n",
      "mean_test_score 0.8625159222427083\n",
      "std_test_score 0.029214490358181456\n",
      "rank_test_score 1\n",
      "split0_train_score 0.8804362107476023\n",
      "split1_train_score 0.8652082512153463\n",
      "split2_train_score 0.8791811333114969\n",
      "split3_train_score 0.8735669832951196\n",
      "split4_train_score 0.8635043942247331\n",
      "mean_train_score 0.8723793945588596\n",
      "std_train_score 0.006968173820288446\n",
      "\n",
      "\n",
      "\n",
      "Linear_SVM \n",
      "\n",
      "best index:  3\n",
      "mean_fit_time 0.13879947662353515\n",
      "std_fit_time 0.012796167276123227\n",
      "mean_score_time 0.050000905990600586\n",
      "std_score_time 0.002899118579077344\n",
      "param_classifier__C 16.493994305284705\n",
      "param_classifier__class_weight None\n",
      "param_classifier__gamma 0.0190010899985659\n",
      "param_classifier__kernel rbf\n",
      "params {'classifier__C': 16.493994305284705, 'classifier__class_weight': None, 'classifier__gamma': 0.0190010899985659, 'classifier__kernel': 'rbf'}\n",
      "split0_test_score 0.818976279650437\n",
      "split1_test_score 0.8924261339991677\n",
      "split2_test_score 0.8541666666666666\n",
      "split3_test_score 0.851746632996633\n",
      "split4_test_score 0.8948484206063175\n",
      "mean_test_score 0.8624328267838444\n",
      "std_test_score 0.028359706733586093\n",
      "rank_test_score 1\n",
      "split0_train_score 0.8959138089607147\n",
      "split1_train_score 0.8886480094599922\n",
      "split2_train_score 0.8930167048804455\n",
      "split3_train_score 0.8980674746151327\n",
      "split4_train_score 0.893243879472693\n",
      "mean_train_score 0.8937779754777957\n",
      "std_train_score 0.0031667942883884265\n",
      "\n",
      "\n",
      "\n"
     ]
    }
   ],
   "source": [
    "random_searches_list = list(random_searches.items())\n",
    "random_searches_list.sort(key=lambda x:x[1].best_score_,reverse=True)\n",
    "for (name,rand_search) in random_searches_list[:3]:\n",
    "    print(name,'\\n')\n",
    "    print('best index: ',rand_search.best_index_)\n",
    "    for metric in rand_search.cv_results_.items():\n",
    "        print(metric[0],metric[1][rand_search.best_index_])\n",
    "    print('\\n\\n')"
   ]
  },
  {
   "cell_type": "code",
   "execution_count": 13,
   "metadata": {
    "pycharm": {
     "name": "#%%\n"
    }
   },
   "outputs": [
    {
     "name": "stdout",
     "output_type": "stream",
     "text": [
      "          Columns Importances\n",
      "0             Sex     0.17875\n",
      "1             Age   0.0321568\n",
      "2           Parch   0.0218493\n",
      "3            Fare   0.0437958\n",
      "4         SibSp^2   0.0443479\n",
      "5        Pclass_1   0.0164144\n",
      "6        Pclass_2           0\n",
      "7        Pclass_3    0.117786\n",
      "8       Title_Dr.   0.0299772\n",
      "9   Title_Master.    0.044601\n",
      "10    Title_Miss.           0\n",
      "11      Title_Mr.    0.284978\n",
      "12     Title_Mrs.   0.0244918\n",
      "13     Title_Rare           0\n",
      "14        SibSp_0           0\n",
      "15        SibSp_1           0\n",
      "16        SibSp_2           0\n",
      "17        SibSp_3           0\n",
      "18        SibSp_4           0\n",
      "19        SibSp_5           0\n",
      "20        SibSp_8           0\n",
      "21    Embarked_-1           0\n",
      "22     Embarked_C    0.030049\n",
      "23     Embarked_Q           0\n",
      "24     Embarked_S    0.037153\n",
      "25  Cabin_Deck_-1   0.0574137\n",
      "26   Cabin_Deck_A           0\n",
      "27   Cabin_Deck_B           0\n",
      "28   Cabin_Deck_C           0\n",
      "29   Cabin_Deck_D           0\n",
      "30   Cabin_Deck_E    0.036236\n",
      "31   Cabin_Deck_F           0\n",
      "32   Cabin_Deck_G           0\n",
      "33   Cabin_Deck_T           0\n"
     ]
    }
   ],
   "source": [
    "best_clf = random_searches_list[0][1].best_estimator_\n",
    "cols = best_clf['pre_processing'].fit_transform(X).columns\n",
    "importances = best_clf['classifier'].feature_importances_\n",
    "df = pd.DataFrame(np.c_[cols,importances],columns=['Columns','Importances'])\n",
    "print(df)\n",
    "# print(list(df[df['Importances']==0]['Columns']))"
   ]
  },
  {
   "cell_type": "code",
   "execution_count": 14,
   "metadata": {
    "pycharm": {
     "name": "#%%\n"
    }
   },
   "outputs": [
    {
     "name": "stdout",
     "output_type": "stream",
     "text": [
      "[[81  8]\n",
      " [16 38]]\n",
      "fp: \n",
      "      Pclass                                               Name     Sex   Age  \\\n",
      "7         2              Lahtinen, Mrs. William (Anna Sylfven)  female  26.0   \n",
      "35        1                          Brewe, Dr. Arthur Jackson    male   NaN   \n",
      "36        3                     Palsson, Master. Gosta Leonard    male   2.0   \n",
      "42        2             Yrois, Miss. Henriette (\"Mrs Harbeck\")  female  24.0   \n",
      "52        3                                Canavan, Miss. Mary  female  21.0   \n",
      "114       3                      Boulos, Mrs. Joseph (Sultana)  female   NaN   \n",
      "128       3     Robins, Mrs. Alexander A (Grace Charity Laury)  female  47.0   \n",
      "132       2  Turpin, Mrs. William John Robert (Dorothy Ann ...  female  27.0   \n",
      "\n",
      "     SibSp  Parch     Ticket     Fare Cabin Embarked  \n",
      "7        1      1     250651  26.0000   NaN        S  \n",
      "35       0      0     112379  39.6000   NaN        C  \n",
      "36       3      1     349909  21.0750   NaN        S  \n",
      "42       0      0     248747  13.0000   NaN        S  \n",
      "52       0      0     364846   7.7500   NaN        Q  \n",
      "114      0      2       2678  15.2458   NaN        C  \n",
      "128      1      0  A/5. 3337  14.5000   NaN        S  \n",
      "132      1      0      11668  21.0000   NaN        S  \n",
      "\n",
      "\n",
      "fn: \n",
      "      Pclass                                Name     Sex   Age  SibSp  Parch  \\\n",
      "6         3             de Mulder, Mr. Theodore    male  30.0      0      0   \n",
      "9         1                   Woolner, Mr. Hugh    male   NaN      0      0   \n",
      "14        3         Sheerlinck, Mr. Jan Baptist    male  29.0      0      0   \n",
      "27        1            Taylor, Mr. Elmer Zebley    male  48.0      1      0   \n",
      "31        1    Frolicher-Stehli, Mr. Maxmillian    male  60.0      1      1   \n",
      "57        3        McCormack, Mr. Thomas Joseph    male   NaN      0      0   \n",
      "60        1     Homer, Mr. Harry (\"Mr E Haven\")    male  35.0      0      0   \n",
      "64        3                     Foo, Mr. Choong    male   NaN      0      0   \n",
      "71        3            Dowdell, Miss. Elizabeth  female  30.0      0      0   \n",
      "82        2                   Beane, Mr. Edward    male  32.0      1      0   \n",
      "84        1            Goldenberg, Mr. Samuel L    male  49.0      1      0   \n",
      "88        3  Pickard, Mr. Berk (Berk Trembisky)    male  32.0      0      0   \n",
      "112       1                Marechal, Mr. Pierre    male   NaN      0      0   \n",
      "118       3   Johannesen-Bratthammer, Mr. Bernt    male   NaN      0      0   \n",
      "125       3      Sunderland, Mr. Victor Francis    male  16.0      0      0   \n",
      "142       3               Dahl, Mr. Karl Edwart    male  45.0      0      0   \n",
      "\n",
      "                Ticket     Fare Cabin Embarked  \n",
      "6               345774   9.5000   NaN        S  \n",
      "9                19947  35.5000   C52        S  \n",
      "14              345779   9.5000   NaN        S  \n",
      "27               19996  52.0000  C126        S  \n",
      "31               13567  79.2000   B41        C  \n",
      "57              367228   7.7500   NaN        Q  \n",
      "60              111426  26.5500   NaN        C  \n",
      "64                1601  56.4958   NaN        S  \n",
      "71              364516  12.4750   NaN        S  \n",
      "82                2908  26.0000   NaN        S  \n",
      "84               17453  89.1042   C92        C  \n",
      "88   SOTON/O.Q. 392078   8.0500   E10        S  \n",
      "112              11774  29.7000   C47        C  \n",
      "118              65306   8.1125   NaN        S  \n",
      "125    SOTON/OQ 392089   8.0500   NaN        S  \n",
      "142               7598   8.0500   NaN        S  \n",
      "train score:  0.8558862173170412\n",
      "cv score:  0.8069080316271328 \n",
      "\n",
      "[[82  7]\n",
      " [14 40]]\n",
      "train score:  0.8205886217317041\n",
      "cv score:  0.8310445276737412 \n",
      "\n",
      "[[77 11]\n",
      " [16 38]]\n",
      "train score:  0.8479528332787423\n",
      "cv score:  0.7893518518518519 \n",
      "\n",
      "[[83  5]\n",
      " [20 34]]\n",
      "train score:  0.8430068784801833\n",
      "cv score:  0.7864057239057239 \n",
      "\n",
      "[[77 12]\n",
      " [12 41]]\n",
      "train score:  0.8363543628374137\n",
      "cv score:  0.8193767224931101 \n",
      "\n",
      "\n",
      "\n",
      "train scores:  [0.85588622 0.82058862 0.84795283 0.84300688 0.83635436] \n",
      "mean:  0.8407577827290169\n",
      "cv scores:  [0.80690803 0.83104453 0.78935185 0.78640572 0.81937672] \n",
      "mean:  0.8066173715103119\n"
     ]
    },
    {
     "data": {
      "text/plain": [
       "array([[0.12554821372032166, 'Sex'],\n",
       "       [0.027515694499015808, 'Age'],\n",
       "       [0.018225906416773796, 'Parch'],\n",
       "       [0.03561985492706299, 'Fare'],\n",
       "       [0.03603928163647652, 'SibSp^2'],\n",
       "       [0.05899054557085037, 'Pclass_1'],\n",
       "       [0.0656723603606224, 'Pclass_2'],\n",
       "       [0.07947859913110733, 'Pclass_3'],\n",
       "       [0.0, 'Title_Dr.'],\n",
       "       [0.0446961335837841, 'Title_Master.'],\n",
       "       [0.008875944651663303, 'Title_Miss.'],\n",
       "       [0.224235400557518, 'Title_Mr.'],\n",
       "       [0.03947775810956955, 'Title_Mrs.'],\n",
       "       [0.03019719384610653, 'Title_Rare'],\n",
       "       [0.0, 'SibSp_0'],\n",
       "       [0.0, 'SibSp_1'],\n",
       "       [0.0, 'SibSp_2'],\n",
       "       [0.0, 'SibSp_3'],\n",
       "       [0.0, 'SibSp_4'],\n",
       "       [0.0, 'SibSp_5'],\n",
       "       [0.0, 'SibSp_8'],\n",
       "       [0.0, 'Embarked_-1'],\n",
       "       [0.021867332980036736, 'Embarked_C'],\n",
       "       [0.0, 'Embarked_Q'],\n",
       "       [0.031197141855955124, 'Embarked_S'],\n",
       "       [0.024834902957081795, 'Cabin_Deck_-1'],\n",
       "       [0.03325647488236427, 'Cabin_Deck_A'],\n",
       "       [0.0, 'Cabin_Deck_B'],\n",
       "       [0.01499619148671627, 'Cabin_Deck_C'],\n",
       "       [0.05008317902684212, 'Cabin_Deck_D'],\n",
       "       [0.029191957786679268, 'Cabin_Deck_E'],\n",
       "       [0.0, 'Cabin_Deck_F'],\n",
       "       [0.0, 'Cabin_Deck_G'],\n",
       "       [0.0, 'Cabin_Deck_T']], dtype=object)"
      ]
     },
     "execution_count": 14,
     "metadata": {},
     "output_type": "execute_result"
    }
   ],
   "source": [
    "feature_importances,fp,fn = get_errors_and_features(best_clf,X,y)\n",
    "feature_importances"
   ]
  },
  {
   "cell_type": "markdown",
   "metadata": {
    "pycharm": {
     "name": "#%% md\n"
    }
   },
   "source": [
    "We see that most misclassifications are fn.\n",
    "let's take a closer look:"
   ]
  },
  {
   "cell_type": "code",
   "execution_count": 15,
   "metadata": {
    "pycharm": {
     "name": "#%%\n"
    }
   },
   "outputs": [
    {
     "data": {
      "text/plain": [
       "0     1.0\n",
       "1     1.0\n",
       "2     1.0\n",
       "3     1.0\n",
       "4     1.0\n",
       "5     1.0\n",
       "6     1.0\n",
       "7     1.0\n",
       "8     0.0\n",
       "9     1.0\n",
       "10    1.0\n",
       "11    1.0\n",
       "12    1.0\n",
       "13    1.0\n",
       "14    1.0\n",
       "15    1.0\n",
       "Name: Title_Mr., dtype: float64"
      ]
     },
     "execution_count": 15,
     "metadata": {},
     "output_type": "execute_result"
    }
   ],
   "source": [
    "best_clf['pre_processing'].transform(fn)['Title_Mr.']"
   ]
  },
  {
   "cell_type": "markdown",
   "metadata": {
    "pycharm": {
     "name": "#%% md\n"
    }
   },
   "source": [
    "we see that almost all fn's are men ('Mr.' to be specific). In addition,\n",
    "we see that the classifier puts a large emphasis on both title and one's Sex.\\\n",
    "Since we can assume the Titles cover one's sex (a 'Mrs.' is a female, etc),\\\n",
    "we'll try to remove the Sex, as it has a high correlation with the titles.\n",
    "to prove this, we'll check it's chi2 score with \"Mr.\":"
   ]
  },
  {
   "cell_type": "code",
   "execution_count": 16,
   "metadata": {
    "pycharm": {
     "name": "#%%\n"
    }
   },
   "outputs": [
    {
     "data": {
      "text/plain": [
       "(array([218.97435897]), array([1.51392505e-49]))"
      ]
     },
     "execution_count": 16,
     "metadata": {},
     "output_type": "execute_result"
    }
   ],
   "source": [
    "trans_x = best_clf['pre_processing'].transform(X)\n",
    "chi2(trans_x['Title_Mr.'].to_frame(),trans_x['Sex'])"
   ]
  },
  {
   "cell_type": "markdown",
   "metadata": {
    "pycharm": {
     "name": "#%% md\n"
    }
   },
   "source": [
    "voalá. Insane score. let's try the same thing without Sex (as the titles\n",
    "are more precise than Sex):"
   ]
  },
  {
   "cell_type": "code",
   "execution_count": 17,
   "metadata": {
    "pycharm": {
     "name": "#%%\n"
    }
   },
   "outputs": [
    {
     "name": "stdout",
     "output_type": "stream",
     "text": [
      "original score, with sex:\n",
      "\n",
      "[0.80129005 0.83104453 0.78935185 0.77714646 0.81937672]\n",
      "0.8036419241528421\n",
      "[0.85447379 0.81917619 0.84189322 0.84624959 0.83635436]\n",
      "0.8396294306959143\n",
      "\n",
      "\n",
      "\"improved\" score, without sex:\n",
      "\n",
      "[0.80129005 0.82542655 0.78009259 0.77861953 0.81757473]\n",
      "0.8006006910315794\n",
      "[0.85630009 0.82183025 0.8414019  0.83449066 0.84188638]\n",
      "0.8391818560525918\n"
     ]
    }
   ],
   "source": [
    "trans_x_no_sex = trans_x.drop('Sex',axis=1)\n",
    "print('original score, with sex:\\n',\n",
    "      *cross_val_score_regular(best_clf['classifier'],trans_x,y),sep='\\n')\n",
    "print('\\n\\n\"improved\" score, without sex:\\n',\n",
    "      *cross_val_score_regular(best_clf['classifier'],trans_x_no_sex,y),sep='\\n')"
   ]
  },
  {
   "cell_type": "markdown",
   "metadata": {
    "pycharm": {
     "name": "#%% md\n"
    }
   },
   "source": [
    "aaaaaand it didn't work :(\n",
    "let's try removing the columns that aren't relevant to the model (i.e. got feature_importance 0):"
   ]
  },
  {
   "cell_type": "code",
   "execution_count": 18,
   "metadata": {
    "pycharm": {
     "name": "#%%\n"
    }
   },
   "outputs": [
    {
     "name": "stdout",
     "output_type": "stream",
     "text": [
      "old pipe\n",
      "[0.80690803 0.83104453 0.78935185 0.78640572 0.81937672]\n",
      "0.8066173715103119\n",
      "[0.85588622 0.82058862 0.84795283 0.84300688 0.83635436]\n",
      "0.8407577827290169\n",
      "new pipe\n",
      "[0.80690803 0.83104453 0.78219697 0.76788721 0.83262667]\n",
      "0.8041326807756743\n",
      "[0.85264748 0.8229142  0.84752702 0.84159843 0.8335295 ]\n",
      "0.8396433282977915\n"
     ]
    }
   ],
   "source": [
    "cols_to_drop = [x[1] for x in feature_importances if x[0]==0]\n",
    "print('old pipe',*cross_val_score_regular(best_clf,X,y),sep='\\n')\n",
    "pipe_filtered = Pipeline([('pre_processing',Preprocessor(cols_to_drop=cols_to_drop)),\n",
    "                    ('classifier', best_clf['classifier'])])\n",
    "print('new pipe',*cross_val_score_regular(pipe_filtered,X,y),sep='\\n')"
   ]
  },
  {
   "cell_type": "code",
   "execution_count": 19,
   "metadata": {
    "pycharm": {
     "name": "#%%\n"
    }
   },
   "outputs": [
    {
     "data": {
      "text/plain": [
       "array([[0.16241511702537537, 'Sex'],\n",
       "       [0.025204453617334366, 'Age'],\n",
       "       [0.02946314960718155, 'Parch'],\n",
       "       [0.03445915877819061, 'Fare'],\n",
       "       [0.05228187143802643, 'SibSp^2'],\n",
       "       [0.046301644295454025, 'Pclass_1'],\n",
       "       [0.05975673347711563, 'Pclass_2'],\n",
       "       [0.06751319020986557, 'Pclass_3'],\n",
       "       [0.032133691012859344, 'Title_Master.'],\n",
       "       [0.14274349808692932, 'Title_Miss.'],\n",
       "       [0.15452584624290466, 'Title_Mr.'],\n",
       "       [0.05793631449341774, 'Title_Mrs.'],\n",
       "       [0.0, 'Title_Rare'],\n",
       "       [0.025895817205309868, 'Embarked_C'],\n",
       "       [0.03161083906888962, 'Embarked_S'],\n",
       "       [0.05554375424981117, 'Cabin_Deck_-1'],\n",
       "       [0.0, 'Cabin_Deck_A'],\n",
       "       [0.0, 'Cabin_Deck_C'],\n",
       "       [0.0, 'Cabin_Deck_D'],\n",
       "       [0.022214891389012337, 'Cabin_Deck_E']], dtype=object)"
      ]
     },
     "execution_count": 19,
     "metadata": {},
     "output_type": "execute_result"
    }
   ],
   "source": [
    "np.c_[pipe_filtered['classifier'].feature_importances_,\n",
    "      pipe_filtered['pre_processing'].get_features()]"
   ]
  },
  {
   "cell_type": "markdown",
   "metadata": {},
   "source": [
    "in addition, let's try creating the clf again, but incorporating the skewness of the class.\n",
    "scale_pos_weight=negatives/positives."
   ]
  },
  {
   "cell_type": "code",
   "execution_count": 20,
   "metadata": {
    "pycharm": {
     "name": "#%%\n"
    }
   },
   "outputs": [
    {
     "data": {
      "text/plain": [
       "{'objective': 'reg:squarederror',\n",
       " 'base_score': 0.5,\n",
       " 'booster': 'gbtree',\n",
       " 'colsample_bylevel': 1,\n",
       " 'colsample_bynode': 1,\n",
       " 'colsample_bytree': 0.8162398049146752,\n",
       " 'gamma': 1,\n",
       " 'gpu_id': -1,\n",
       " 'importance_type': 'gain',\n",
       " 'interaction_constraints': '',\n",
       " 'learning_rate': 0.0592178042115199,\n",
       " 'max_delta_step': 0,\n",
       " 'max_depth': 3,\n",
       " 'min_child_weight': 1,\n",
       " 'missing': nan,\n",
       " 'monotone_constraints': '()',\n",
       " 'n_estimators': 500,\n",
       " 'n_jobs': -1,\n",
       " 'num_parallel_tree': 1,\n",
       " 'random_state': 42,\n",
       " 'reg_alpha': 0,\n",
       " 'reg_lambda': 1,\n",
       " 'scale_pos_weight': 0.6072234762979684,\n",
       " 'subsample': 0.8025175231674534,\n",
       " 'tree_method': 'exact',\n",
       " 'validate_parameters': 1,\n",
       " 'verbosity': None}"
      ]
     },
     "execution_count": 20,
     "metadata": {},
     "output_type": "execute_result"
    }
   ],
   "source": [
    "xgb_params = pipe_filtered['classifier'].get_params()\n",
    "xgb_params['scale_pos_weight'] = ((y==1).sum()/(y==0).sum()) # positive cases/neg cases.\n",
    "xgb_params"
   ]
  },
  {
   "cell_type": "code",
   "execution_count": 21,
   "metadata": {
    "pycharm": {
     "name": "#%%\n"
    }
   },
   "outputs": [
    {
     "name": "stdout",
     "output_type": "stream",
     "text": [
      "filtered pipe:\n",
      "[0.80690803 0.83104453 0.78219697 0.76788721 0.83262667]\n",
      "0.8041326807756743\n",
      "[0.85264748 0.8229142  0.84752702 0.84159843 0.8335295 ]\n",
      "0.8396433282977915\n",
      "skewed pipe\n",
      "[0.72752809 0.78672493 0.78282828 0.7422138  0.74549502]\n",
      "0.7569580245248044\n",
      "[0.79243858 0.79276705 0.81424828 0.8119227  0.80018048]\n",
      "0.802311415978315\n"
     ]
    }
   ],
   "source": [
    "old_clf = best_clf['classifier']\n",
    "skew_pipe = Pipeline([('pre_processing',pipe_filtered['pre_processing']),\n",
    "                    ('classifier', xgb.XGBClassifier(**xgb_params))])\n",
    "print('filtered pipe:',*cross_val_score_regular(pipe_filtered,X,y),sep='\\n')\n",
    "print('skewed pipe',*cross_val_score_regular(skew_pipe,X,y),sep='\\n')"
   ]
  },
  {
   "cell_type": "markdown",
   "metadata": {
    "pycharm": {
     "name": "#%% md\n"
    }
   },
   "source": [
    "didn't work. reverting back to filtered pipe.\n",
    "finally, we should try dealing with the fact that the data is skewed\n",
    "by stratifying the initial split maybe:"
   ]
  },
  {
   "cell_type": "code",
   "execution_count": 22,
   "metadata": {
    "pycharm": {
     "name": "#%%\n"
    }
   },
   "outputs": [],
   "source": [
    "X_strat,X_test_strat,y_strat,y_test_strat = train_test_split(data.drop('Survived',axis=1),\n",
    "                                        data['Survived'], test_size=0.2,\n",
    "                                        random_state=42,stratify=data['Survived'])"
   ]
  },
  {
   "cell_type": "code",
   "execution_count": 23,
   "metadata": {
    "pycharm": {
     "name": "#%%\n"
    }
   },
   "outputs": [
    {
     "data": {
      "text/plain": [
       "(array([0.83295455, 0.81022727, 0.82340648, 0.81191223, 0.82491582]),\n",
       " 0.8206832694763729,\n",
       " array([0.82902153, 0.84584475, 0.8419584 , 0.83912891, 0.84694805]),\n",
       " 0.8405803263200525)"
      ]
     },
     "execution_count": 23,
     "metadata": {},
     "output_type": "execute_result"
    }
   ],
   "source": [
    "cross_val_score_regular(pipe_filtered,X_strat,y_strat)"
   ]
  },
  {
   "cell_type": "markdown",
   "metadata": {
    "pycharm": {
     "name": "#%% md\n"
    }
   },
   "source": [
    "We didn't change the model, only now we're looking at a more realistic test case.\n",
    "now, it seems we overfit the training set. we need to reduce the expressibility of the model.\n",
    "let's reduce the dimension of the model, by further removing features below a certain\n",
    "threshold:"
   ]
  },
  {
   "cell_type": "code",
   "execution_count": 24,
   "metadata": {
    "pycharm": {
     "name": "#%%\n"
    }
   },
   "outputs": [
    {
     "name": "stdout",
     "output_type": "stream",
     "text": [
      "filtered_pipe_1\n",
      "[0.80690803 0.83104453 0.78219697 0.76788721 0.83262667]\n",
      "0.8041326807756743\n",
      "[0.85264748 0.8229142  0.84752702 0.84159843 0.8335295 ]\n",
      "0.8396433282977915\n",
      "pipe_filtered_2\n",
      "[0.80690803 0.81252601 0.77651515 0.77714646 0.83262667]\n",
      "0.8011444652874588\n",
      "[0.83678229 0.82523978 0.85034392 0.84392401 0.84227872]\n",
      "0.8397137451785561\n"
     ]
    }
   ],
   "source": [
    "cols_to_drop_2 = [x[1] for x in np.c_[pipe_filtered['classifier'].feature_importances_,\n",
    "                                   pipe_filtered['pre_processing'].get_features()] if x[0]<0.01]\n",
    "pipe_filtered_2 = Pipeline([('pre_processing',Preprocessor(cols_to_drop=cols_to_drop+cols_to_drop_2)),\n",
    "                    ('classifier', best_clf['classifier'])])\n",
    "pipe_filtered_2\n",
    "print('filtered_pipe_1',*cross_val_score_regular(pipe_filtered,X,y),sep='\\n')\n",
    "print('pipe_filtered_2',*cross_val_score_regular(pipe_filtered_2,X,y),sep='\\n')"
   ]
  },
  {
   "cell_type": "markdown",
   "metadata": {},
   "source": [
    "I guess good enough for now.\n",
    "### visualize roc_auc score\n",
    "taken from [here](https://scikit-learn.org/stable/auto_examples/model_selection/plot_roc_crossval.html)"
   ]
  },
  {
   "cell_type": "code",
   "execution_count": 25,
   "metadata": {
    "pycharm": {
     "name": "#%%\n"
    }
   },
   "outputs": [
    {
     "data": {
      "image/png": "[encoded data removed]",
      "text/plain": [
       "<Figure size 432x288 with 1 Axes>"
      ]
     },
     "metadata": {
      "needs_background": "dark"
     },
     "output_type": "display_data"
    }
   ],
   "source": [
    "tprs = []\n",
    "aucs = []\n",
    "mean_fpr = np.linspace(0, 1, 100)\n",
    "\n",
    "fig, ax = plt.subplots()\n",
    "kf = StratifiedKFold()\n",
    "lr_clf_pipe = pipe_filtered_2\n",
    "for i, (train, test) in enumerate(kf.split(X, y)):\n",
    "    lr_clf_pipe.fit(X.iloc[train], y.iloc[train])\n",
    "    viz = plot_roc_curve(lr_clf_pipe, X.iloc[test], y.iloc[test],\n",
    "                         name='ROC fold {}'.format(i),\n",
    "                         lw=1, ax=ax)\n",
    "    interp_tpr = np.interp(mean_fpr, viz.fpr, viz.tpr)\n",
    "    interp_tpr[0] = 0.0\n",
    "    tprs.append(interp_tpr)\n",
    "    aucs.append(viz.roc_auc)\n",
    "\n",
    "ax.plot([0, 1], [0, 1], linestyle='--', lw=2, color='r',\n",
    "        label='Chance', alpha=.8)\n",
    "\n",
    "mean_tpr = np.mean(tprs, axis=0)\n",
    "mean_tpr[-1] = 1.0\n",
    "mean_auc = auc(mean_fpr, mean_tpr)\n",
    "std_auc = np.std(aucs)\n",
    "ax.plot(mean_fpr, mean_tpr, color='b',\n",
    "        label=r'Mean ROC (AUC = %0.2f $\\pm$ %0.2f)' % (mean_auc, std_auc),\n",
    "        lw=2, alpha=.8)\n",
    "\n",
    "std_tpr = np.std(tprs, axis=0)\n",
    "tprs_upper = np.minimum(mean_tpr + std_tpr, 1)\n",
    "tprs_lower = np.maximum(mean_tpr - std_tpr, 0)\n",
    "ax.fill_between(mean_fpr, tprs_lower, tprs_upper, color='grey', alpha=.2,\n",
    "                label=r'$\\pm$ 1 std. dev.')\n",
    "\n",
    "ax.set(xlim=[-0.05, 1.05], ylim=[-0.05, 1.05],\n",
    "       title=\"Receiver operating characteristic example\")\n",
    "ax.legend(loc=\"lower right\")\n",
    "plt.show()\n"
   ]
  },
  {
   "cell_type": "markdown",
   "metadata": {
    "pycharm": {
     "name": "#%% md\n"
    }
   },
   "source": [
    "# the final test"
   ]
  },
  {
   "cell_type": "code",
   "execution_count": 26,
   "metadata": {
    "pycharm": {
     "name": "#%%\n"
    }
   },
   "outputs": [
    {
     "name": "stdout",
     "output_type": "stream",
     "text": [
      "score:  0.8258317025440314\n",
      "[[90 15]\n",
      " [15 58]]\n",
      "fp: \n",
      "      Pclass                                           Name     Sex   Age  \\\n",
      "434       1                      Silvey, Mr. William Baird    male  50.0   \n",
      "854       2  Carter, Mrs. Ernest Courtenay (Lilian Hughes)  female  44.0   \n",
      "396       3                            Olsson, Miss. Elina  female  31.0   \n",
      "235       3                   Harknett, Miss. Alice Phoebe  female   NaN   \n",
      "137       1                    Futrelle, Mr. Jacques Heath    male  37.0   \n",
      "578       3               Caram, Mrs. Joseph (Maria Elias)  female   NaN   \n",
      "593       3                             Bourke, Miss. Mary  female   NaN   \n",
      "852       3                        Boulos, Miss. Nourelain  female   9.0   \n",
      "807       3                Pettersson, Miss. Ellen Natalia  female  18.0   \n",
      "49        3  Arnold-Franchi, Mrs. Josef (Josefine Franchi)  female  18.0   \n",
      "254       3       Rosblom, Mrs. Viktor (Helena Wilhelmina)  female  41.0   \n",
      "745       1                   Crosby, Capt. Edward Gifford    male  70.0   \n",
      "456       1                      Millet, Mr. Francis Davis    male  65.0   \n",
      "362       3                Barbara, Mrs. (Catherine David)  female  45.0   \n",
      "772       2                              Mack, Mrs. (Mary)  female  57.0   \n",
      "\n",
      "     SibSp  Parch       Ticket     Fare Cabin Embarked  \n",
      "434      1      0        13507  55.9000   E44        S  \n",
      "854      1      0       244252  26.0000   NaN        S  \n",
      "396      0      0       350407   7.8542   NaN        S  \n",
      "235      0      0   W./C. 6609   7.5500   NaN        S  \n",
      "137      1      0       113803  53.1000  C123        S  \n",
      "578      1      0         2689  14.4583   NaN        C  \n",
      "593      0      2       364848   7.7500   NaN        Q  \n",
      "852      1      1         2678  15.2458   NaN        C  \n",
      "807      0      0       347087   7.7750   NaN        S  \n",
      "49       1      0       349237  17.8000   NaN        S  \n",
      "254      0      2       370129  20.2125   NaN        S  \n",
      "745      1      1    WE/P 5735  71.0000   B22        S  \n",
      "456      0      0        13509  26.5500   E38        S  \n",
      "362      0      1         2691  14.4542   NaN        C  \n",
      "772      0      0  S.O./P.P. 3  10.5000   E77        S  \n",
      "\n",
      "\n",
      "fn: \n",
      "      Pclass                                               Name     Sex   Age  \\\n",
      "804       3                            Hedman, Mr. Oskar Arvid    male  27.0   \n",
      "507       1      Bradley, Mr. George (\"George Arthur Brayton\")    male   NaN   \n",
      "23        1                       Sloper, Mr. William Thompson    male  28.0   \n",
      "447       1                        Seward, Mr. Frederic Kimber    male  34.0   \n",
      "737       1                             Lesurer, Mr. Gustave J    male  35.0   \n",
      "209       1                                   Blank, Mr. Henry    male  40.0   \n",
      "298       1                              Saalfeld, Mr. Adolphe    male   NaN   \n",
      "821       3                                  Lulic, Mr. Nikola    male  27.0   \n",
      "204       3                           Cohen, Mr. Gurshon \"Gus\"    male  18.0   \n",
      "677       3                            Turja, Miss. Anna Sofia  female  18.0   \n",
      "570       2                                 Harris, Mr. George    male  62.0   \n",
      "744       3                                 Stranden, Mr. Juho    male  31.0   \n",
      "109       3                                Moran, Miss. Bertha  female   NaN   \n",
      "97        1                    Greenfield, Mr. William Bertram    male  23.0   \n",
      "25        3  Asplund, Mrs. Carl Oscar (Selma Augusta Emilia...  female  38.0   \n",
      "\n",
      "     SibSp  Parch             Ticket      Fare    Cabin Embarked  \n",
      "804      0      0             347089    6.9750      NaN        S  \n",
      "507      0      0             111427   26.5500      NaN        S  \n",
      "23       0      0             113788   35.5000       A6        S  \n",
      "447      0      0             113794   26.5500      NaN        S  \n",
      "737      0      0           PC 17755  512.3292     B101        C  \n",
      "209      0      0             112277   31.0000      A31        C  \n",
      "298      0      0              19988   30.5000     C106        S  \n",
      "821      0      0             315098    8.6625      NaN        S  \n",
      "204      0      0           A/5 3540    8.0500      NaN        S  \n",
      "677      0      0               4138    9.8417      NaN        S  \n",
      "570      0      0        S.W./PP 752   10.5000      NaN        S  \n",
      "744      0      0  STON/O 2. 3101288    7.9250      NaN        S  \n",
      "109      1      0             371110   24.1500      NaN        Q  \n",
      "97       0      1           PC 17759   63.3583  D10 D12        C  \n",
      "25       1      5             347077   31.3875      NaN        S  \n"
     ]
    }
   ],
   "source": [
    "# final test\n",
    "best_clf = pipe_filtered_2\n",
    "best_clf.fit(X,y)\n",
    "pred = best_clf.predict(X_test)\n",
    "print('score: ',roc_auc_score(y_test,pred))\n",
    "print(confusion_matrix(y_test,pred))\n",
    "print('fp: \\n', X_test[(y_test != pred) & (y_test == 0)])\n",
    "fn = X_test[(y_test != pred) & (y_test == 1)]\n",
    "print('\\n\\nfn: \\n', fn)"
   ]
  },
  {
   "cell_type": "code",
   "execution_count": 27,
   "metadata": {
    "pycharm": {
     "name": "#%%\n"
    }
   },
   "outputs": [
    {
     "data": {
      "text/plain": [
       "Pclass        int64\n",
       "Name         object\n",
       "Sex          object\n",
       "Age         float64\n",
       "SibSp         int64\n",
       "Parch         int64\n",
       "Ticket       object\n",
       "Fare        float64\n",
       "Cabin        object\n",
       "Embarked     object\n",
       "dtype: object"
      ]
     },
     "execution_count": 27,
     "metadata": {},
     "output_type": "execute_result"
    }
   ],
   "source": [
    "X_test.dtypes\n",
    "# X.iloc[0,:]"
   ]
  },
  {
   "cell_type": "code",
   "execution_count": 28,
   "metadata": {
    "pycharm": {
     "name": "#%%\n"
    }
   },
   "outputs": [
    {
     "name": "stdout",
     "output_type": "stream",
     "text": [
      "   Pclass                  Name   Sex   Age  SibSp  Parch Ticket  Fare Cabin  \\\n",
      "0       1  Shumacher, Mr. Ariel  male  21.0      2      4   None  30.0    E3   \n",
      "\n",
      "  Embarked  \n",
      "0        S   \n",
      " Pclass        int64\n",
      "Name         object\n",
      "Sex          object\n",
      "Age         float64\n",
      "SibSp         int64\n",
      "Parch         int64\n",
      "Ticket       object\n",
      "Fare        float64\n",
      "Cabin        object\n",
      "Embarked     object\n",
      "dtype: object\n",
      "will you survive?:  [ True] \n",
      "with probability: [[0.38564473 0.61435527]]\n"
     ]
    }
   ],
   "source": [
    "newbie = [1,'Shumacher, Mr. Ariel','male',21,2,4,None,30,'E3','S']\n",
    "def get_df_like_titanic(x):\n",
    "    res = X.iloc[0:0,:].copy()\n",
    "    res.append(x)\n",
    "    return res\n",
    "def will_you_survive(*params):\n",
    "    res = X.iloc[0:0,:].copy()\n",
    "    df = pd.DataFrame(np.atleast_2d(params),columns=X.columns)\n",
    "    for x in X.columns:\n",
    "        df[x]=df[x].astype(X[x].dtypes.name)\n",
    "    print(df,'\\n',df.dtypes)\n",
    "    print('will you survive?: ',best_clf.predict(df)==1,\n",
    "          '\\nwith probability:',best_clf.predict_proba(df))\n",
    "will_you_survive(*newbie)"
   ]
  },
  {
   "cell_type": "code",
   "execution_count": null,
   "metadata": {
    "pycharm": {
     "name": "#%%\n"
    }
   },
   "outputs": [],
   "source": [
    "\n"
   ]
  }
 ],
 "metadata": {
  "kernelspec": {
   "display_name": "PyCharm (Project)",
   "language": "python",
   "name": "pycharm-1a86bc75"
  },
  "language_info": {
   "codemirror_mode": {
    "name": "ipython",
    "version": 3
   },
   "file_extension": ".py",
   "mimetype": "text/x-python",
   "name": "python",
   "nbconvert_exporter": "python",
   "pygments_lexer": "ipython3",
   "version": "3.8.4"
  }
 },
 "nbformat": 4,
 "nbformat_minor": 1
}
